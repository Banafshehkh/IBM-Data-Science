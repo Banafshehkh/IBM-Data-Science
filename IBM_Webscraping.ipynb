{
  "nbformat": 4,
  "nbformat_minor": 0,
  "metadata": {
    "colab": {
      "provenance": [],
      "authorship_tag": "ABX9TyPXrxQlK1URR4JNtznpzmKz",
      "include_colab_link": true
    },
    "kernelspec": {
      "name": "python3",
      "display_name": "Python 3"
    },
    "language_info": {
      "name": "python"
    }
  },
  "cells": [
    {
      "cell_type": "markdown",
      "metadata": {
        "id": "view-in-github",
        "colab_type": "text"
      },
      "source": [
        "<a href=\"https://colab.research.google.com/github/Banafshehkh/IBM-Data-Science/blob/main/IBM_Webscraping.ipynb\" target=\"_parent\"><img src=\"https://colab.research.google.com/assets/colab-badge.svg\" alt=\"Open In Colab\"/></a>"
      ]
    },
    {
      "cell_type": "code",
      "execution_count": null,
      "metadata": {
        "id": "O-yY0_uVcAoK"
      },
      "outputs": [],
      "source": []
    },
    {
      "cell_type": "markdown",
      "source": [
        "<h2>Table of Contents</h2>\n",
        "<div class=\"alert alert-block alert-info\" style=\"margin-top: 20px\">\n",
        "    <ul>\n",
        "        <li>\n",
        "            <a href=\"https://bso/?utm_medium=Exinfluencer&utm_source=Exinfluencer&utm_content=000026UJ&utm_term=10006555&utm_id=NA-SkillsNetwork-Channel-SkillsNetworkCoursesIBMDeveloperSkillsNetworkPY0220ENSkillsNetwork23455606-2021-01-01\">Beautiful Soup Object</a>\n",
        "            <ul>\n",
        "                <li>Tag</li>\n",
        "                <li>Children, Parents, and Siblings</li>\n",
        "                <li>HTML Attributes</li>\n",
        "                <li>Navigable String</li>\n",
        "            </ul>\n",
        "        </li>\n",
        "     </ul>\n",
        "    <ul>\n",
        "        <li>\n",
        "            <a href=\"https://filter/?utm_medium=Exinfluencer&utm_source=Exinfluencer&utm_content=000026UJ&utm_term=10006555&utm_id=NA-SkillsNetwork-Channel-SkillsNetworkCoursesIBMDeveloperSkillsNetworkPY0220ENSkillsNetwork23455606-2021-01-01\">Filter</a>\n",
        "            <ul>\n",
        "                <li>find All</li>\n",
        "                <li>find </li>\n",
        "                <li>HTML Attributes</li>\n",
        "                <li>Navigable String</li>\n",
        "            </ul>\n",
        "        </li>\n",
        "     </ul>\n",
        "     <ul>\n",
        "        <li>\n",
        "            <a href=\"https://dscw/?utm_medium=Exinfluencer&utm_source=Exinfluencer&utm_content=000026UJ&utm_term=10006555&utm_id=NA-SkillsNetwork-Channel-SkillsNetworkCoursesIBMDeveloperSkillsNetworkPY0220ENSkillsNetwork23455606-2021-01-01\">Downloading And Scraping The Contents Of A Web</a>\n",
        "    </li>\n",
        "         </ul>\n",
        "    \n",
        "</div>\n",
        "\n",
        "<hr>\n"
      ],
      "metadata": {
        "id": "0TE4XOr6cBKM"
      }
    },
    {
      "cell_type": "markdown",
      "source": [
        "BeautifulSoup represents HTML as a set of Tree like objects with methods used to parse the HTML."
      ],
      "metadata": {
        "id": "lTkcAUpNc2As"
      }
    },
    {
      "cell_type": "code",
      "source": [
        "import requests\n",
        "from bs4 import BeautifulSoup"
      ],
      "metadata": {
        "id": "LZDPreQScJQc"
      },
      "execution_count": 2,
      "outputs": []
    },
    {
      "cell_type": "code",
      "source": [],
      "metadata": {
        "id": "loVTdnNegrRH"
      },
      "execution_count": null,
      "outputs": []
    }
  ]
}