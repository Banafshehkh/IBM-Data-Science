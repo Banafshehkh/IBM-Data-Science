{
  "nbformat": 4,
  "nbformat_minor": 0,
  "metadata": {
    "colab": {
      "provenance": [],
      "authorship_tag": "ABX9TyPobaCYPw9K9qv4xvugojUU",
      "include_colab_link": true
    },
    "kernelspec": {
      "name": "python3",
      "display_name": "Python 3"
    },
    "language_info": {
      "name": "python"
    }
  },
  "cells": [
    {
      "cell_type": "markdown",
      "metadata": {
        "id": "view-in-github",
        "colab_type": "text"
      },
      "source": [
        "<a href=\"https://colab.research.google.com/github/Banafshehkh/IBM-Data-Science/blob/main/IBM_Webscraping.ipynb\" target=\"_parent\"><img src=\"https://colab.research.google.com/assets/colab-badge.svg\" alt=\"Open In Colab\"/></a>"
      ]
    },
    {
      "cell_type": "code",
      "execution_count": 54,
      "metadata": {
        "id": "O-yY0_uVcAoK"
      },
      "outputs": [],
      "source": [
        "#Banafsheh Khazali\n",
        "# June 07, 2023"
      ]
    },
    {
      "cell_type": "markdown",
      "source": [
        "<h2>Table of Contents</h2>\n",
        "<div class=\"alert alert-block alert-info\" style=\"margin-top: 20px\">\n",
        "    <ul>\n",
        "        <li>\n",
        "            <a href=\"https://bso/?utm_medium=Exinfluencer&utm_source=Exinfluencer&utm_content=000026UJ&utm_term=10006555&utm_id=NA-SkillsNetwork-Channel-SkillsNetworkCoursesIBMDeveloperSkillsNetworkPY0220ENSkillsNetwork23455606-2021-01-01\">Beautiful Soup Object</a>\n",
        "            <ul>\n",
        "                <li>Tag</li>\n",
        "                <li>Children, Parents, and Siblings</li>\n",
        "                <li>HTML Attributes</li>\n",
        "                <li>Navigable String</li>\n",
        "            </ul>\n",
        "        </li>\n",
        "     </ul>\n",
        "    <ul>\n",
        "        <li>\n",
        "            <a href=\"https://filter/?utm_medium=Exinfluencer&utm_source=Exinfluencer&utm_content=000026UJ&utm_term=10006555&utm_id=NA-SkillsNetwork-Channel-SkillsNetworkCoursesIBMDeveloperSkillsNetworkPY0220ENSkillsNetwork23455606-2021-01-01\">Filter</a>\n",
        "            <ul>\n",
        "                <li>find All</li>\n",
        "                <li>find </li>\n",
        "                <li>HTML Attributes</li>\n",
        "                <li>Navigable String</li>\n",
        "            </ul>\n",
        "        </li>\n",
        "     </ul>\n",
        "     <ul>\n",
        "        <li>\n",
        "            <a href=\"https://dscw/?utm_medium=Exinfluencer&utm_source=Exinfluencer&utm_content=000026UJ&utm_term=10006555&utm_id=NA-SkillsNetwork-Channel-SkillsNetworkCoursesIBMDeveloperSkillsNetworkPY0220ENSkillsNetwork23455606-2021-01-01\">Downloading And Scraping The Contents Of A Web</a>\n",
        "    </li>\n",
        "         </ul>\n",
        "    \n",
        "</div>\n",
        "\n",
        "<hr>\n"
      ],
      "metadata": {
        "id": "0TE4XOr6cBKM"
      }
    },
    {
      "cell_type": "markdown",
      "source": [
        "BeautifulSoup represents HTML as a set of Tree like objects with methods used to parse the HTML."
      ],
      "metadata": {
        "id": "lTkcAUpNc2As"
      }
    },
    {
      "cell_type": "code",
      "source": [
        "import requests\n",
        "from bs4 import BeautifulSoup"
      ],
      "metadata": {
        "id": "LZDPreQScJQc"
      },
      "execution_count": 55,
      "outputs": []
    },
    {
      "cell_type": "code",
      "source": [
        "%%html\n",
        "<!DOCTYPE html>\n",
        "<html>\n",
        "<head>\n",
        "<title>Page Title</title>\n",
        "</head>\n",
        "<body>\n",
        "<h3><b id='boldest'>Lebron James</b></h3>\n",
        "<p> Salary: $ 92,000,000 </p>\n",
        "<h3> Stephen Curry</h3>\n",
        "<p> Salary: $85,000, 000 </p>\n",
        "<h3> Kevin Durant </h3>\n",
        "<p> Salary: $73,200, 000</p>\n",
        "</body>\n",
        "</html>"
      ],
      "metadata": {
        "colab": {
          "base_uri": "https://localhost:8080/",
          "height": 203
        },
        "id": "loVTdnNegrRH",
        "outputId": "0473e9b7-1777-41a1-de2a-d2b1b08e8fbb"
      },
      "execution_count": 56,
      "outputs": [
        {
          "output_type": "display_data",
          "data": {
            "text/plain": [
              "<IPython.core.display.HTML object>"
            ],
            "text/html": [
              "<!DOCTYPE html>\n",
              "<html>\n",
              "<head>\n",
              "<title>Page Title</title>\n",
              "</head>\n",
              "<body>\n",
              "<h3><b id='boldest'>Lebron James</b></h3>\n",
              "<p> Salary: $ 92,000,000 </p>\n",
              "<h3> Stephen Curry</h3>\n",
              "<p> Salary: $85,000, 000 </p>\n",
              "<h3> Kevin Durant </h3>\n",
              "<p> Salary: $73,200, 000</p>\n",
              "</body>\n",
              "</html>\n"
            ]
          },
          "metadata": {}
        }
      ]
    },
    {
      "cell_type": "code",
      "source": [
        "# store the html as a string\n",
        "html=\"<!DOCTYPE html><html><head><title>Page Title</title></head><body><h3><b id='boldest'>Lebron James</b></h3><p> Salary: $ 92,000,000 </p><h3> Stephen Curry</h3><p> Salary: $85,000, 000 </p><h3> Kevin Durant </h3><p> Salary: $73,200, 000</p></body></html>\""
      ],
      "metadata": {
        "id": "9p0ln0WVhCBk"
      },
      "execution_count": 57,
      "outputs": []
    },
    {
      "cell_type": "code",
      "source": [
        "soup = BeautifulSoup(html, \"html.parser\")"
      ],
      "metadata": {
        "id": "Qw0zAKMuhIF8"
      },
      "execution_count": 58,
      "outputs": []
    },
    {
      "cell_type": "code",
      "source": [
        "print(soup.prettify())"
      ],
      "metadata": {
        "colab": {
          "base_uri": "https://localhost:8080/"
        },
        "id": "9LlrUzqRhbY-",
        "outputId": "bfaa2b0a-7b43-406a-e4ee-e211c86d320a"
      },
      "execution_count": 59,
      "outputs": [
        {
          "output_type": "stream",
          "name": "stdout",
          "text": [
            "<!DOCTYPE html>\n",
            "<html>\n",
            " <head>\n",
            "  <title>\n",
            "   Page Title\n",
            "  </title>\n",
            " </head>\n",
            " <body>\n",
            "  <h3>\n",
            "   <b id=\"boldest\">\n",
            "    Lebron James\n",
            "   </b>\n",
            "  </h3>\n",
            "  <p>\n",
            "   Salary: $ 92,000,000\n",
            "  </p>\n",
            "  <h3>\n",
            "   Stephen Curry\n",
            "  </h3>\n",
            "  <p>\n",
            "   Salary: $85,000, 000\n",
            "  </p>\n",
            "  <h3>\n",
            "   Kevin Durant\n",
            "  </h3>\n",
            "  <p>\n",
            "   Salary: $73,200, 000\n",
            "  </p>\n",
            " </body>\n",
            "</html>\n"
          ]
        }
      ]
    },
    {
      "cell_type": "code",
      "source": [
        "title = soup.title\n",
        "print(\"tag object:\",title)\n",
        "print(\"tag object type: \", type(title))"
      ],
      "metadata": {
        "colab": {
          "base_uri": "https://localhost:8080/"
        },
        "id": "hOpOkoImhim6",
        "outputId": "1cf57c59-8ff1-44ae-b84d-343f3c720e7a"
      },
      "execution_count": 60,
      "outputs": [
        {
          "output_type": "stream",
          "name": "stdout",
          "text": [
            "tag object: <title>Page Title</title>\n",
            "tag object type:  <class 'bs4.element.Tag'>\n"
          ]
        }
      ]
    },
    {
      "cell_type": "code",
      "source": [
        "tag_object = soup.h3\n",
        "tag_object"
      ],
      "metadata": {
        "id": "1qgo-SFkj91I",
        "colab": {
          "base_uri": "https://localhost:8080/"
        },
        "outputId": "e4e5ff9e-61b6-494c-87b9-33ce34558292"
      },
      "execution_count": 61,
      "outputs": [
        {
          "output_type": "execute_result",
          "data": {
            "text/plain": [
              "<h3><b id=\"boldest\">Lebron James</b></h3>"
            ]
          },
          "metadata": {},
          "execution_count": 61
        }
      ]
    },
    {
      "cell_type": "code",
      "source": [
        "tag_child = tag_object.b\n",
        "tag_child"
      ],
      "metadata": {
        "colab": {
          "base_uri": "https://localhost:8080/"
        },
        "id": "Tbef_c-3h4VA",
        "outputId": "013516bd-49af-4742-a035-871200dcf490"
      },
      "execution_count": 62,
      "outputs": [
        {
          "output_type": "execute_result",
          "data": {
            "text/plain": [
              "<b id=\"boldest\">Lebron James</b>"
            ]
          },
          "metadata": {},
          "execution_count": 62
        }
      ]
    },
    {
      "cell_type": "code",
      "source": [
        "tag_parent = tag_child.parent\n",
        "tag_parent"
      ],
      "metadata": {
        "colab": {
          "base_uri": "https://localhost:8080/"
        },
        "id": "8JMU3UaeiIXX",
        "outputId": "76fc6b1d-eef7-41ea-cac7-311bee3a4e5b"
      },
      "execution_count": 63,
      "outputs": [
        {
          "output_type": "execute_result",
          "data": {
            "text/plain": [
              "<h3><b id=\"boldest\">Lebron James</b></h3>"
            ]
          },
          "metadata": {},
          "execution_count": 63
        }
      ]
    },
    {
      "cell_type": "code",
      "source": [
        "tag_object.parent"
      ],
      "metadata": {
        "colab": {
          "base_uri": "https://localhost:8080/"
        },
        "id": "2BIV0mKziMBc",
        "outputId": "ac2e6e51-f704-4d0f-8485-077714440434"
      },
      "execution_count": 64,
      "outputs": [
        {
          "output_type": "execute_result",
          "data": {
            "text/plain": [
              "<body><h3><b id=\"boldest\">Lebron James</b></h3><p> Salary: $ 92,000,000 </p><h3> Stephen Curry</h3><p> Salary: $85,000, 000 </p><h3> Kevin Durant </h3><p> Salary: $73,200, 000</p></body>"
            ]
          },
          "metadata": {},
          "execution_count": 64
        }
      ]
    },
    {
      "cell_type": "code",
      "source": [
        "sibling1 = tag_object.next_sibling\n",
        "sibling1"
      ],
      "metadata": {
        "colab": {
          "base_uri": "https://localhost:8080/"
        },
        "id": "ZD6-l3pwiZo1",
        "outputId": "f33ca427-131f-49e4-a580-e103ec01c1c0"
      },
      "execution_count": 65,
      "outputs": [
        {
          "output_type": "execute_result",
          "data": {
            "text/plain": [
              "<p> Salary: $ 92,000,000 </p>"
            ]
          },
          "metadata": {},
          "execution_count": 65
        }
      ]
    },
    {
      "cell_type": "code",
      "source": [
        "sibling2 = sibling1.next_sibling\n",
        "sibling2"
      ],
      "metadata": {
        "colab": {
          "base_uri": "https://localhost:8080/"
        },
        "id": "EmSmhPX4jQe6",
        "outputId": "6d7aadce-ed9b-4381-881b-20121ae99e7d"
      },
      "execution_count": 66,
      "outputs": [
        {
          "output_type": "execute_result",
          "data": {
            "text/plain": [
              "<h3> Stephen Curry</h3>"
            ]
          },
          "metadata": {},
          "execution_count": 66
        }
      ]
    },
    {
      "cell_type": "markdown",
      "source": [
        "# **HTML attributes**"
      ],
      "metadata": {
        "id": "xYFxqN2DkUWZ"
      }
    },
    {
      "cell_type": "code",
      "source": [
        "tag_object.attrs"
      ],
      "metadata": {
        "colab": {
          "base_uri": "https://localhost:8080/"
        },
        "id": "DgZhUyoWjWKU",
        "outputId": "bd9cbc0a-dc91-40fc-f035-0f81aced2c61"
      },
      "execution_count": 67,
      "outputs": [
        {
          "output_type": "execute_result",
          "data": {
            "text/plain": [
              "{}"
            ]
          },
          "metadata": {},
          "execution_count": 67
        }
      ]
    },
    {
      "cell_type": "code",
      "source": [
        "tag_child.attrs"
      ],
      "metadata": {
        "colab": {
          "base_uri": "https://localhost:8080/"
        },
        "id": "oq4PQ8GIkbZX",
        "outputId": "ebd14b66-47f8-4c45-9f53-50009cb64b08"
      },
      "execution_count": 68,
      "outputs": [
        {
          "output_type": "execute_result",
          "data": {
            "text/plain": [
              "{'id': 'boldest'}"
            ]
          },
          "metadata": {},
          "execution_count": 68
        }
      ]
    },
    {
      "cell_type": "code",
      "source": [
        "tag_child.get(\"id\")"
      ],
      "metadata": {
        "colab": {
          "base_uri": "https://localhost:8080/",
          "height": 35
        },
        "id": "fbaIFxl5kd88",
        "outputId": "c4ace71d-9216-4705-b5d0-93b3fb41635f"
      },
      "execution_count": 69,
      "outputs": [
        {
          "output_type": "execute_result",
          "data": {
            "text/plain": [
              "'boldest'"
            ],
            "application/vnd.google.colaboratory.intrinsic+json": {
              "type": "string"
            }
          },
          "metadata": {},
          "execution_count": 69
        }
      ]
    },
    {
      "cell_type": "markdown",
      "source": [
        "# **Navigable Strings**"
      ],
      "metadata": {
        "id": "azUcGUZdlOdP"
      }
    },
    {
      "cell_type": "code",
      "source": [
        "tag_string = tag_child.string\n",
        "tag_string"
      ],
      "metadata": {
        "colab": {
          "base_uri": "https://localhost:8080/",
          "height": 35
        },
        "id": "cWmQXIfRlSCx",
        "outputId": "379b3102-9a25-4ea8-d2e3-a66bdf97f9d2"
      },
      "execution_count": 70,
      "outputs": [
        {
          "output_type": "execute_result",
          "data": {
            "text/plain": [
              "'Lebron James'"
            ],
            "application/vnd.google.colaboratory.intrinsic+json": {
              "type": "string"
            }
          },
          "metadata": {},
          "execution_count": 70
        }
      ]
    },
    {
      "cell_type": "code",
      "source": [
        "print(type(tag_string))"
      ],
      "metadata": {
        "colab": {
          "base_uri": "https://localhost:8080/"
        },
        "id": "31OrcduDkmiJ",
        "outputId": "259c86fb-3141-4bc3-9cfc-76bad4fd45b3"
      },
      "execution_count": 71,
      "outputs": [
        {
          "output_type": "stream",
          "name": "stdout",
          "text": [
            "<class 'bs4.element.NavigableString'>\n"
          ]
        }
      ]
    },
    {
      "cell_type": "markdown",
      "source": [
        "# **Filter**"
      ],
      "metadata": {
        "id": "k6XQS2kBmEgu"
      }
    },
    {
      "cell_type": "code",
      "source": [
        "%%html\n",
        "<table>\n",
        "  <tr>\n",
        "    <td id='flight' >Flight No</td>\n",
        "    <td>Launch site</td> \n",
        "    <td>Payload mass</td>\n",
        "   </tr>\n",
        "  <tr> \n",
        "    <td>1</td>\n",
        "    <td><a href='https://en.wikipedia.org/wiki/Florida'>Florida</a></td>\n",
        "    <td>300 kg</td>\n",
        "  </tr>\n",
        "  <tr>\n",
        "    <td>2</td>\n",
        "    <td><a href='https://en.wikipedia.org/wiki/Texas'>Texas</a></td>\n",
        "    <td>94 kg</td>\n",
        "  </tr>\n",
        "  <tr>\n",
        "    <td>3</td>\n",
        "    <td><a href='https://en.wikipedia.org/wiki/Florida'>Florida<a> </td>\n",
        "    <td>80 kg</td>\n",
        "  </tr>\n",
        "</table>"
      ],
      "metadata": {
        "colab": {
          "base_uri": "https://localhost:8080/",
          "height": 104
        },
        "id": "bgDoZnlqmGbl",
        "outputId": "98c71f06-ca9f-4793-9b3e-29222a0c7f14"
      },
      "execution_count": 72,
      "outputs": [
        {
          "output_type": "display_data",
          "data": {
            "text/plain": [
              "<IPython.core.display.HTML object>"
            ],
            "text/html": [
              "<table>\n",
              "  <tr>\n",
              "    <td id='flight' >Flight No</td>\n",
              "    <td>Launch site</td> \n",
              "    <td>Payload mass</td>\n",
              "   </tr>\n",
              "  <tr> \n",
              "    <td>1</td>\n",
              "    <td><a href='https://en.wikipedia.org/wiki/Florida'>Florida</a></td>\n",
              "    <td>300 kg</td>\n",
              "  </tr>\n",
              "  <tr>\n",
              "    <td>2</td>\n",
              "    <td><a href='https://en.wikipedia.org/wiki/Texas'>Texas</a></td>\n",
              "    <td>94 kg</td>\n",
              "  </tr>\n",
              "  <tr>\n",
              "    <td>3</td>\n",
              "    <td><a href='https://en.wikipedia.org/wiki/Florida'>Florida<a> </td>\n",
              "    <td>80 kg</td>\n",
              "  </tr>\n",
              "</table>\n"
            ]
          },
          "metadata": {}
        }
      ]
    },
    {
      "cell_type": "code",
      "source": [
        "table=\"<table><tr><td id='flight'>Flight No</td><td>Launch site</td> <td>Payload mass</td></tr><tr> <td>1</td><td><a href='https://en.wikipedia.org/wiki/Florida'>Florida<a></td><td>300 kg</td></tr><tr><td>2</td><td><a href='https://en.wikipedia.org/wiki/Texas'>Texas</a></td><td>94 kg</td></tr><tr><td>3</td><td><a href='https://en.wikipedia.org/wiki/Florida'>Florida<a> </td><td>80 kg</td></tr></table>\""
      ],
      "metadata": {
        "id": "1QQwCsF-mIKD"
      },
      "execution_count": 73,
      "outputs": []
    },
    {
      "cell_type": "code",
      "source": [
        "table_bs = BeautifulSoup(table, \"html.parser\")\n",
        "table_bs"
      ],
      "metadata": {
        "colab": {
          "base_uri": "https://localhost:8080/"
        },
        "id": "yMdRxp0xmKEO",
        "outputId": "c55e0cbe-5117-48f5-8f60-86088055c981"
      },
      "execution_count": 74,
      "outputs": [
        {
          "output_type": "execute_result",
          "data": {
            "text/plain": [
              "<table><tr><td id=\"flight\">Flight No</td><td>Launch site</td> <td>Payload mass</td></tr><tr> <td>1</td><td><a href=\"https://en.wikipedia.org/wiki/Florida\">Florida<a></a></a></td><td>300 kg</td></tr><tr><td>2</td><td><a href=\"https://en.wikipedia.org/wiki/Texas\">Texas</a></td><td>94 kg</td></tr><tr><td>3</td><td><a href=\"https://en.wikipedia.org/wiki/Florida\">Florida<a> </a></a></td><td>80 kg</td></tr></table>"
            ]
          },
          "metadata": {},
          "execution_count": 74
        }
      ]
    },
    {
      "cell_type": "markdown",
      "source": [
        "# **Find All**"
      ],
      "metadata": {
        "id": "nsP4YtITmWCS"
      }
    },
    {
      "cell_type": "markdown",
      "source": [
        "The Method signature for find_all(name, attrs, recursive, string, limit, **kwargs)"
      ],
      "metadata": {
        "id": "PBv_CmwwmcrX"
      }
    },
    {
      "cell_type": "code",
      "source": [
        "table_rows=table_bs.find_all('tr')\n",
        "table_rows"
      ],
      "metadata": {
        "colab": {
          "base_uri": "https://localhost:8080/"
        },
        "id": "M6E2aIGMmSG2",
        "outputId": "b081fba7-a7fd-427e-850e-7afd3753344b"
      },
      "execution_count": 75,
      "outputs": [
        {
          "output_type": "execute_result",
          "data": {
            "text/plain": [
              "[<tr><td id=\"flight\">Flight No</td><td>Launch site</td> <td>Payload mass</td></tr>,\n",
              " <tr> <td>1</td><td><a href=\"https://en.wikipedia.org/wiki/Florida\">Florida<a></a></a></td><td>300 kg</td></tr>,\n",
              " <tr><td>2</td><td><a href=\"https://en.wikipedia.org/wiki/Texas\">Texas</a></td><td>94 kg</td></tr>,\n",
              " <tr><td>3</td><td><a href=\"https://en.wikipedia.org/wiki/Florida\">Florida<a> </a></a></td><td>80 kg</td></tr>]"
            ]
          },
          "metadata": {},
          "execution_count": 75
        }
      ]
    },
    {
      "cell_type": "code",
      "source": [
        "table_rows[0]"
      ],
      "metadata": {
        "colab": {
          "base_uri": "https://localhost:8080/"
        },
        "id": "vKI1OaQgnAzk",
        "outputId": "3529c664-2bf7-4d90-962d-18c461772c84"
      },
      "execution_count": 76,
      "outputs": [
        {
          "output_type": "execute_result",
          "data": {
            "text/plain": [
              "<tr><td id=\"flight\">Flight No</td><td>Launch site</td> <td>Payload mass</td></tr>"
            ]
          },
          "metadata": {},
          "execution_count": 76
        }
      ]
    },
    {
      "cell_type": "code",
      "source": [
        "type(table_rows[1])"
      ],
      "metadata": {
        "colab": {
          "base_uri": "https://localhost:8080/"
        },
        "id": "Of6nrVUdnZ38",
        "outputId": "d5d8b548-ced8-4b52-a57b-37898220e4de"
      },
      "execution_count": 77,
      "outputs": [
        {
          "output_type": "execute_result",
          "data": {
            "text/plain": [
              "bs4.element.Tag"
            ]
          },
          "metadata": {},
          "execution_count": 77
        }
      ]
    },
    {
      "cell_type": "code",
      "source": [
        "for i, row in enumerate(table_rows):\n",
        "  print(f\"row {i} is {row}\")"
      ],
      "metadata": {
        "colab": {
          "base_uri": "https://localhost:8080/"
        },
        "id": "iKvxHaTlncA7",
        "outputId": "a7aa5ff7-e371-4948-aa56-f9887720339d"
      },
      "execution_count": 78,
      "outputs": [
        {
          "output_type": "stream",
          "name": "stdout",
          "text": [
            "row 0 is <tr><td id=\"flight\">Flight No</td><td>Launch site</td> <td>Payload mass</td></tr>\n",
            "row 1 is <tr> <td>1</td><td><a href=\"https://en.wikipedia.org/wiki/Florida\">Florida<a></a></a></td><td>300 kg</td></tr>\n",
            "row 2 is <tr><td>2</td><td><a href=\"https://en.wikipedia.org/wiki/Texas\">Texas</a></td><td>94 kg</td></tr>\n",
            "row 3 is <tr><td>3</td><td><a href=\"https://en.wikipedia.org/wiki/Florida\">Florida<a> </a></a></td><td>80 kg</td></tr>\n"
          ]
        }
      ]
    },
    {
      "cell_type": "code",
      "source": [
        "for i, row in enumerate(table_rows):\n",
        "  print(f\"row {i} is {row}\")\n",
        "  cells = row.findAll(\"'td\")\n",
        "  for j, cell in enumerate(cells):\n",
        "    print(f\"column {j} & cell {cell}\")"
      ],
      "metadata": {
        "colab": {
          "base_uri": "https://localhost:8080/"
        },
        "id": "zaW_grSknyxX",
        "outputId": "d94ecdc8-520f-4178-9705-7fffe87049c3"
      },
      "execution_count": 79,
      "outputs": [
        {
          "output_type": "stream",
          "name": "stdout",
          "text": [
            "row 0 is <tr><td id=\"flight\">Flight No</td><td>Launch site</td> <td>Payload mass</td></tr>\n",
            "row 1 is <tr> <td>1</td><td><a href=\"https://en.wikipedia.org/wiki/Florida\">Florida<a></a></a></td><td>300 kg</td></tr>\n",
            "row 2 is <tr><td>2</td><td><a href=\"https://en.wikipedia.org/wiki/Texas\">Texas</a></td><td>94 kg</td></tr>\n",
            "row 3 is <tr><td>3</td><td><a href=\"https://en.wikipedia.org/wiki/Florida\">Florida<a> </a></a></td><td>80 kg</td></tr>\n"
          ]
        }
      ]
    },
    {
      "cell_type": "code",
      "source": [
        "table_bs.find_all(id = \"flight\")"
      ],
      "metadata": {
        "colab": {
          "base_uri": "https://localhost:8080/"
        },
        "id": "DQUIRgxwpFvo",
        "outputId": "4b259dcb-e18f-4cd9-874a-9066e78b58b8"
      },
      "execution_count": 80,
      "outputs": [
        {
          "output_type": "execute_result",
          "data": {
            "text/plain": [
              "[<td id=\"flight\">Flight No</td>]"
            ]
          },
          "metadata": {},
          "execution_count": 80
        }
      ]
    },
    {
      "cell_type": "code",
      "source": [
        "table_bs.find_all(href = \"https://en.wikipedia.org/wiki/Florida\")\n"
      ],
      "metadata": {
        "colab": {
          "base_uri": "https://localhost:8080/"
        },
        "id": "vmktK100pf4C",
        "outputId": "ad096a40-a4a3-46fc-cbb6-d313ca361fc1"
      },
      "execution_count": 82,
      "outputs": [
        {
          "output_type": "execute_result",
          "data": {
            "text/plain": [
              "[<a href=\"https://en.wikipedia.org/wiki/Florida\">Florida<a></a></a>,\n",
              " <a href=\"https://en.wikipedia.org/wiki/Florida\">Florida<a> </a></a>]"
            ]
          },
          "metadata": {},
          "execution_count": 82
        }
      ]
    },
    {
      "cell_type": "code",
      "source": [
        "table_bs.find_all(href = True)\n"
      ],
      "metadata": {
        "colab": {
          "base_uri": "https://localhost:8080/"
        },
        "id": "7wj7XWXMpqPM",
        "outputId": "df4ecbe1-5abd-49ca-a3e7-1309cd21dc81"
      },
      "execution_count": 83,
      "outputs": [
        {
          "output_type": "execute_result",
          "data": {
            "text/plain": [
              "[<a href=\"https://en.wikipedia.org/wiki/Florida\">Florida<a></a></a>,\n",
              " <a href=\"https://en.wikipedia.org/wiki/Texas\">Texas</a>,\n",
              " <a href=\"https://en.wikipedia.org/wiki/Florida\">Florida<a> </a></a>]"
            ]
          },
          "metadata": {},
          "execution_count": 83
        }
      ]
    },
    {
      "cell_type": "markdown",
      "source": [
        "# **Find**"
      ],
      "metadata": {
        "id": "hdfI770yqWsN"
      }
    },
    {
      "cell_type": "code",
      "source": [
        "%%html\n",
        "<h3>Rocket Launch </h3>\n",
        "\n",
        "<p>\n",
        "<table class='rocket'>\n",
        "  <tr>\n",
        "    <td>Flight No</td>\n",
        "    <td>Launch site</td> \n",
        "    <td>Payload mass</td>\n",
        "  </tr>\n",
        "  <tr>\n",
        "    <td>1</td>\n",
        "    <td>Florida</td>\n",
        "    <td>300 kg</td>\n",
        "  </tr>\n",
        "  <tr>\n",
        "    <td>2</td>\n",
        "    <td>Texas</td>\n",
        "    <td>94 kg</td>\n",
        "  </tr>\n",
        "  <tr>\n",
        "    <td>3</td>\n",
        "    <td>Florida </td>\n",
        "    <td>80 kg</td>\n",
        "  </tr>\n",
        "</table>\n",
        "</p>\n",
        "<p>\n",
        "\n",
        "<h3>Pizza Party  </h3>\n",
        "  \n",
        "    \n",
        "<table class='pizza'>\n",
        "  <tr>\n",
        "    <td>Pizza Place</td>\n",
        "    <td>Orders</td> \n",
        "    <td>Slices </td>\n",
        "   </tr>\n",
        "  <tr>\n",
        "    <td>Domino's Pizza</td>\n",
        "    <td>10</td>\n",
        "    <td>100</td>\n",
        "  </tr>\n",
        "  <tr>\n",
        "    <td>Little Caesars</td>\n",
        "    <td>12</td>\n",
        "    <td >144 </td>\n",
        "  </tr>\n",
        "  <tr>\n",
        "    <td>Papa John's </td>\n",
        "    <td>15 </td>\n",
        "    <td>165</td>\n",
        "  </tr>\n"
      ],
      "metadata": {
        "colab": {
          "base_uri": "https://localhost:8080/",
          "height": 275
        },
        "id": "tPrZD6jKp2_P",
        "outputId": "fa2842df-4ee0-4c0d-ac75-b26dbd1d216c"
      },
      "execution_count": 84,
      "outputs": [
        {
          "output_type": "display_data",
          "data": {
            "text/plain": [
              "<IPython.core.display.HTML object>"
            ],
            "text/html": [
              "<h3>Rocket Launch </h3>\n",
              "\n",
              "<p>\n",
              "<table class='rocket'>\n",
              "  <tr>\n",
              "    <td>Flight No</td>\n",
              "    <td>Launch site</td> \n",
              "    <td>Payload mass</td>\n",
              "  </tr>\n",
              "  <tr>\n",
              "    <td>1</td>\n",
              "    <td>Florida</td>\n",
              "    <td>300 kg</td>\n",
              "  </tr>\n",
              "  <tr>\n",
              "    <td>2</td>\n",
              "    <td>Texas</td>\n",
              "    <td>94 kg</td>\n",
              "  </tr>\n",
              "  <tr>\n",
              "    <td>3</td>\n",
              "    <td>Florida </td>\n",
              "    <td>80 kg</td>\n",
              "  </tr>\n",
              "</table>\n",
              "</p>\n",
              "<p>\n",
              "\n",
              "<h3>Pizza Party  </h3>\n",
              "  \n",
              "    \n",
              "<table class='pizza'>\n",
              "  <tr>\n",
              "    <td>Pizza Place</td>\n",
              "    <td>Orders</td> \n",
              "    <td>Slices </td>\n",
              "   </tr>\n",
              "  <tr>\n",
              "    <td>Domino's Pizza</td>\n",
              "    <td>10</td>\n",
              "    <td>100</td>\n",
              "  </tr>\n",
              "  <tr>\n",
              "    <td>Little Caesars</td>\n",
              "    <td>12</td>\n",
              "    <td >144 </td>\n",
              "  </tr>\n",
              "  <tr>\n",
              "    <td>Papa John's </td>\n",
              "    <td>15 </td>\n",
              "    <td>165</td>\n",
              "  </tr>\n"
            ]
          },
          "metadata": {}
        }
      ]
    },
    {
      "cell_type": "code",
      "source": [
        "two_tables=\"<h3>Rocket Launch </h3><p><table class='rocket'><tr><td>Flight No</td><td>Launch site</td> <td>Payload mass</td></tr><tr><td>1</td><td>Florida</td><td>300 kg</td></tr><tr><td>2</td><td>Texas</td><td>94 kg</td></tr><tr><td>3</td><td>Florida </td><td>80 kg</td></tr></table></p><p><h3>Pizza Party  </h3><table class='pizza'><tr><td>Pizza Place</td><td>Orders</td> <td>Slices </td></tr><tr><td>Domino's Pizza</td><td>10</td><td>100</td></tr><tr><td>Little Caesars</td><td>12</td><td >144 </td></tr><tr><td>Papa John's </td><td>15 </td><td>165</td></tr>\""
      ],
      "metadata": {
        "id": "nM8IJRdCq01D"
      },
      "execution_count": 87,
      "outputs": []
    },
    {
      "cell_type": "code",
      "source": [
        "two_tables_bs = BeautifulSoup(two_tables, \"html.parser\")"
      ],
      "metadata": {
        "id": "u5XzWDp7q3P6"
      },
      "execution_count": 88,
      "outputs": []
    },
    {
      "cell_type": "code",
      "source": [
        "two_tables_bs.find(\"table\")"
      ],
      "metadata": {
        "colab": {
          "base_uri": "https://localhost:8080/"
        },
        "id": "ySap2f5rq9e5",
        "outputId": "98695c8c-e0cd-4a96-d95a-bb3f6e4916e2"
      },
      "execution_count": 89,
      "outputs": [
        {
          "output_type": "execute_result",
          "data": {
            "text/plain": [
              "<table class=\"rocket\"><tr><td>Flight No</td><td>Launch site</td> <td>Payload mass</td></tr><tr><td>1</td><td>Florida</td><td>300 kg</td></tr><tr><td>2</td><td>Texas</td><td>94 kg</td></tr><tr><td>3</td><td>Florida </td><td>80 kg</td></tr></table>"
            ]
          },
          "metadata": {},
          "execution_count": 89
        }
      ]
    },
    {
      "cell_type": "markdown",
      "source": [
        "We can filter on the class attribute to find the second table, but because class is a keyword in Python, we add an underscore."
      ],
      "metadata": {
        "id": "4TTp4kY5rgn8"
      }
    },
    {
      "cell_type": "code",
      "source": [
        "two_tables_bs.find(\"table\", class_ = 'pizza')"
      ],
      "metadata": {
        "colab": {
          "base_uri": "https://localhost:8080/"
        },
        "id": "GjzvYzGPrLxo",
        "outputId": "a02e3747-c698-44f7-b533-92e1d6f9241a"
      },
      "execution_count": 90,
      "outputs": [
        {
          "output_type": "execute_result",
          "data": {
            "text/plain": [
              "<table class=\"pizza\"><tr><td>Pizza Place</td><td>Orders</td> <td>Slices </td></tr><tr><td>Domino's Pizza</td><td>10</td><td>100</td></tr><tr><td>Little Caesars</td><td>12</td><td>144 </td></tr><tr><td>Papa John's </td><td>15 </td><td>165</td></tr></table>"
            ]
          },
          "metadata": {},
          "execution_count": 90
        }
      ]
    },
    {
      "cell_type": "markdown",
      "source": [
        "## **Downloading And Scraping The Contents Of A Web Page**"
      ],
      "metadata": {
        "id": "aqYNsy1LsYjj"
      }
    },
    {
      "cell_type": "code",
      "source": [
        "url = \"http://www.ibm.com\""
      ],
      "metadata": {
        "id": "RSIbCJ1grVrr"
      },
      "execution_count": 91,
      "outputs": []
    },
    {
      "cell_type": "code",
      "source": [
        "data = requests.get(url).text\n",
        "data"
      ],
      "metadata": {
        "colab": {
          "base_uri": "https://localhost:8080/",
          "height": 191
        },
        "id": "0EjcXfVhsbYA",
        "outputId": "d7422c11-cd7f-4f39-c5c0-18025029c781"
      },
      "execution_count": 96,
      "outputs": [
        {
          "output_type": "execute_result",
          "data": {
            "text/plain": [
              "'<!DOCTYPE html><html lang=\"en-US\"><head><meta name=\"viewport\" content=\"width=device-width\"/><meta charSet=\"utf-8\"/><title>IBM - United States</title><link rel=\"canonical\" href=\"https://www.ibm.com/us-en\"/><meta name=\"robots\" content=\"index,follow\"/><meta name=\"description\" content=\"For more than a century IBM has been dedicated to every client&#x27;s success and to creating innovations that matter for the world\"/><meta name=\"keywords\" content=\"IBM\"/><meta http-equiv=\"X-UA-Compatible\" content=\"IE=Edge\"/><meta http-equiv=\"Cache-Control\" content=\"no-cache, no-store, must-revalidate\"/><meta http-equiv=\"Pragma\" content=\"no-cache\"/><meta http-equiv=\"Expires\" content=\"0\"/><link rel=\"icon\" href=\"//www.ibm.com/favicon.ico\"/><meta name=\"ibmdotcom.version.react\" content=\"^1.47.0\"/><meta name=\"ibmdotcom.version.styles\" content=\"^1.47.0\"/><meta name=\"ibmdotcom.build.time\" content=\"2023-06-09T14:12:30.183Z\"/><meta name=\"dcterms.date\" content=\"2015-10-01\"/><meta name=\"dcterms.rights\" content=\"Â© Copyright IBM Corp. 2020\"/><meta name=\"geo.country\" content=\"US\"/><script>digitalData={\"page\":{\"category\":{\"primaryCategory\":\"SB03\"},\"pageInfo\":{\"effectiveDate\":\"2022-12-15\",\"expiryDate\":\"2027-12-15\",\"language\":\"en-us\",\"publishDate\":\"2023-06-07\",\"publisher\":\"IBM Corporation\",\"version\":\"Carbon:IBM.com Library v1.47.0\",\"ibm\":{\"contentDelivery\":\"HTML\",\"contentProducer\":\"Lance Tappana\",\"country\":\"us\",\"industry\":\"ZZ\",\"owner\":\"Corporate Webmaster/New York/IBM\",\"siteID\":\"GLOBAL\",\"subject\":\"IBM000\",\"type\":\"CT052\",\"messaging\":{\"routing\":{\"focusArea\":\"Miscellaneous - Cross IBM\",\"languageCode\":\"en\",\"regionCode\":\"US\"},\"translation\":{\"languageCode\":\"en\",\"regionCode\":\"US\"}}},\"hotjar\":{\"enabled\":0}}}};</script><script>\\n            window.hj=window.hj||function(){(hj.q=hj.q||[]).push(arguments)};\\n            window.hj(\\'tagRecording\\', [\\'hjLoaded\\']);\\n            document.addEventListener(\\'onMegaMenuToggle\\', e => {\\n              if(e.target.getAttribute(\"data-title\") == \\'products-solutions\\') {\\n                window.hj(\\'trigger\\', \\'MM_products-solutions\\');\\n              }\\n              if(e.target.getAttribute(\"data-title\") == \\'services-consulting\\') {\\n                window.hj(\\'trigger\\', \\'MM_services-consulting\\');\\n              }\\n              if(e.target.getAttribute(\"data-title\") == \\'learn-support\\') {\\n                window.hj(\\'trigger\\', \\'MM_learn-support\\');\\n              }\\n              if(e.target.getAttribute(\"data-title\") == \\'explore-more\\') {\\n                window.hj(\\'trigger\\', \\'MM_explore-more\\');\\n              }\\n            });\\n\\n            </script><script type=\"module\" src=\"https://1.www.s81c.com/common/carbon-for-ibm-dotcom/tag/v2/alpha/masthead.min.js\"></script><link rel=\"alternate\" hrefLang=\"x-default\" href=\"https://www.ibm.com/\"/><link rel=\"alternate\" hreflang=\"pt\" href=\"https://www.ibm.com/br-pt\"/><link rel=\"alternate\" hreflang=\"en-CA\" href=\"https://www.ibm.com/ca-en\"/><link rel=\"alternate\" hreflang=\"zh\" href=\"https://www.ibm.com/cn-zh\"/><link rel=\"alternate\" hreflang=\"de\" href=\"https://www.ibm.com/de-de\"/><link rel=\"alternate\" hreflang=\"es-ES\" href=\"https://www.ibm.com/es-es\"/><link rel=\"alternate\" hreflang=\"fr\" href=\"https://www.ibm.com/fr-fr\"/><link rel=\"alternate\" hreflang=\"it\" href=\"https://www.ibm.com/it-it\"/><link rel=\"alternate\" hreflang=\"ja\" href=\"https://www.ibm.com/jp-ja\"/><link rel=\"alternate\" hreflang=\"ko\" href=\"https://www.ibm.com/kr-ko\"/><link rel=\"alternate\" hreflang=\"es\" href=\"https://www.ibm.com/mx-es\"/><link rel=\"alternate\" hreflang=\"en\" href=\"https://www.ibm.com/us-en\"/><link rel=\"alternate\" hreflang=\"id\" href=\"https://www.ibm.com/id-id\"/><meta name=\"next-head-count\" content=\"34\"/><link rel=\"preload\" href=\"/us-en/_next/static/css/styles.0405ed9c.chunk.css\" as=\"style\"/><link rel=\"stylesheet\" href=\"/us-en/_next/static/css/styles.0405ed9c.chunk.css\" data-n-g=\"\"/><noscript data-n-css=\"\"></noscript><link rel=\"preload\" href=\"/us-en/_next/static/chunks/webpack-efe80ee844a9022fd0e2.js\" as=\"script\"/><link rel=\"preload\" href=\"/us-en/_next/static/chunks/framework.602aaa49e9cf44108ea4.js\" as=\"script\"/><link rel=\"preload\" href=\"/us-en/_next/static/chunks/commons.486068ba304b1d7b0ba9.js\" as=\"script\"/><link rel=\"preload\" href=\"/us-en/_next/static/chunks/f6078781a05fe1bcb0902d23dbbb2662c8d200b3.5deba672f79b79f44c20.js\" as=\"script\"/><link rel=\"preload\" href=\"/us-en/_next/static/chunks/main-ed6cf0c36d35240496db.js\" as=\"script\"/><link rel=\"preload\" href=\"/us-en/_next/static/chunks/styles.e2ab77bff09fb0e02917.js\" as=\"script\"/><link rel=\"preload\" href=\"/us-en/_next/static/chunks/pages/_app-b018c55b3b549dc21bcb.js\" as=\"script\"/><link rel=\"preload\" href=\"/us-en/_next/static/chunks/1c920f04.f50eb41f4d89f09b8cba.js\" as=\"script\"/><link rel=\"preload\" href=\"/us-en/_next/static/chunks/5f6bb6fb.300dacea822e381d9067.js\" as=\"script\"/><link rel=\"preload\" href=\"/us-en/_next/static/chunks/8f19d780.cfcea62b1bf460ae6516.js\" as=\"script\"/><link rel=\"preload\" href=\"/us-en/_next/static/chunks/262b3caa.2e24298014049ac3eaaf.js\" as=\"script\"/><link rel=\"preload\" href=\"/us-en/_next/static/chunks/8edc3fe5.86126d19706a35cdab30.js\" as=\"script\"/><link rel=\"preload\" href=\"/us-en/_next/static/chunks/fc20e1c4.9c68a4d27f92797da9c2.js\" as=\"script\"/><link rel=\"preload\" href=\"/us-en/_next/static/chunks/23420901.8250c62b5cef01ee1f72.js\" as=\"script\"/><link rel=\"preload\" href=\"/us-en/_next/static/chunks/28aba01c.9d77ad761d36e29722ba.js\" as=\"script\"/><link rel=\"preload\" href=\"/us-en/_next/static/chunks/a37fbe3b.99d9d1e8a14441d7d06c.js\" as=\"script\"/><link rel=\"preload\" href=\"/us-en/_next/static/chunks/bc80632e.c19684f13cd3dbbc2af3.js\" as=\"script\"/><link rel=\"preload\" href=\"/us-en/_next/static/chunks/1dd0fb51.6c2c45d9605e7e99c0d4.js\" as=\"script\"/><link rel=\"preload\" href=\"/us-en/_next/static/chunks/56b0df7b.540169fd68072de46c3b.js\" as=\"script\"/><link rel=\"preload\" href=\"/us-en/_next/static/chunks/b222b98b.3815a5805f6d59029553.js\" as=\"script\"/><link rel=\"preload\" href=\"/us-en/_next/static/chunks/c9b4a249.4d882b671cce9d34b00f.js\" as=\"script\"/><link rel=\"preload\" href=\"/us-en/_next/static/chunks/74de52bc.6ece264c0cfa2f028f06.js\" as=\"script\"/><link rel=\"preload\" href=\"/us-en/_next/static/chunks/500f7593.c3e55e2f29d478eb4839.js\" as=\"script\"/><link rel=\"preload\" href=\"/us-en/_next/static/chunks/4119064d.d083604b6642730ddf69.js\" as=\"script\"/><link rel=\"preload\" href=\"/us-en/_next/static/chunks/ca24283e.6d4677a3e8001704f3af.js\" as=\"script\"/><link rel=\"preload\" href=\"/us-en/_next/static/chunks/44c26961.a64796aedfbe08368340.js\" as=\"script\"/><link rel=\"preload\" href=\"/us-en/_next/static/chunks/8649a756.b2e5165f3e79ff775919.js\" as=\"script\"/><link rel=\"preload\" href=\"/us-en/_next/static/chunks/abb99899.e27821019e35ae97c122.js\" as=\"script\"/><link rel=\"preload\" href=\"/us-en/_next/static/chunks/5d8d49e442f4e00190cb1a13966c1f91ed87c0f4.a46dd657bb763e65563b.js\" as=\"script\"/><link rel=\"preload\" href=\"/us-en/_next/static/chunks/pages/index-79e4fab3989ed0ec8653.js\" as=\"script\"/></head><body><div id=\"__next\"><div><div class=\"bx--dotcom-shell\"><main class=\"dds-ce-demo--ui-shell-content\"><div><dds-masthead-container\\n                      data-endpoint=\"/common/carbon-for-ibm-dotcom/translations/masthead-footer/v2\"\\n                      auth-method=\"profile-api\"\\n                      has-contact=\"false\">\\n                  </dds-masthead-container></div><div class=\"newsflash-placeholder\"></div><div data-autoid=\"dds--leadspace-with-cta\" class=\"bx--leadspace bx--leadspace--super bx--leadspace-with-ctas\"><section class=\"bx--leadspace__section bx--leadspace--white\"><div class=\"bx--leadspace__container\"><div class=\"bx--leadspace__overlay\"><div class=\"bx--grid bx--no-gutter\"><div class=\"bx--row\"><div class=\"bx--col-sm-4 bx--col-md-8 bx--col-lg-6\"><div class=\"bx--leadspace--content__container\"><div class=\"bx--leadspace__row\"><h1 class=\"bx--leadspace__title\">Put AI to work in the real world</h1></div><div class=\"bx--leadspace__content\"><div class=\"bx--leadspace__row\"><p data-autoid=\"dds--leadspace__desc\" class=\"bx--leadspace__desc\">With digital transformation in mind, partner with IBM experts to scale AI models fit for your business</p></div><dds-video-cta-container><ol class=\"bx--buttongroup\" data-autoid=\"dds--button-group\" style=\"--dds--button-group--item-count:1\"><dds-button-cta cta-type=\"local\" kind=\"primary\" href=\"https://www.ibm.com/resources/the-data-differentiator/scale-ai\">Design your strategy</dds-button-cta></ol></dds-video-cta-container></div></div></div><div class=\"bx--col-sm-4 bx--col-md-8 bx--col-lg-8\"><div><dds-image alt=\"Illustration of AI at work with blue and white interlocking cubes\" default-src=\"https://1.dam.s81c.com/p/08a5a9b9c2464461/01-Your_guide_to_differentiating_with_data_568x320.jpg.global.l_1x1.png\"><dds-image-item media=\"(min-width:1057px)\" srcset=\"https://1.dam.s81c.com/p/08a5a9b9c2464461/01-Your_guide_to_differentiating_with_data_568x320.jpg.global.l_1x1.png\"></dds-image-item><dds-image-item media=\"(min-width:672px)\" srcset=\"https://1.dam.s81c.com/p/08a5a9b9c2464461/01-Your_guide_to_differentiating_with_data_568x320.jpg.global.l_5x2.png\"></dds-image-item><dds-image-item media=\"(min-width:400px)\" srcset=\"https://1.dam.s81c.com/p/08a5a9b9c2464461/01-Your_guide_to_differentiating_with_data_568x320.jpg.global.m_4x3.png\"></dds-image-item><dds-image-item media=\"(min-width:320px)\" srcset=\"https://1.dam.s81c.com/p/08a5a9b9c2464461/01-Your_guide_to_differentiating_with_data_568x320.jpg.global.s_16x9.png\"></dds-image-item></dds-image></div></div><div class=\"bx--col-sm-4 bx--col-md-8 bx--col-lg-2\"><div class=\"bx--link-list\" data-autoid=\"dds--link-list\"><ul class=\"bx--link-list__list bx--link-list__list--card\"><li class=\"bx--link-list__list__CTA bx--link-list__list--external\"><div><div class=\"bx--tile bx--card bx--card-link bx--card__CTA bx--card__CardCTA\" data-autoid=\"dds--card\" ariaRole=\"listitem\" href=\"https://ibm-techxchange.bemyapp.com/watsonx\" target=\"_blank\"><div class=\"bx--card__wrapper\"><div class=\"bx--card__content\"><p class=\"bx--card__eyebrow\">watsonx Day</p><h3 class=\"bx--card__heading\">Join the virtual event, 21 June 2023</h3><a class=\"bx--link bx--card__footer\" rel=\"noopener\" href=\"https://ibm-techxchange.bemyapp.com/watsonx\" target=\"_blank\" aria-label=\"Join the virtual event, 21 June 2023 - This link opens in a new tab\"><svg focusable=\"false\" preserveAspectRatio=\"xMidYMid meet\" xmlns=\"http://www.w3.org/2000/svg\" fill=\"currentColor\" src=\"[object Object]\" width=\"20\" height=\"20\" viewBox=\"0 0 32 32\" aria-hidden=\"true\" class=\"bx--card__cta\"><path d=\"M26,28H6a2.0027,2.0027,0,0,1-2-2V6A2.0027,2.0027,0,0,1,6,4H16V6H6V26H26V16h2V26A2.0027,2.0027,0,0,1,26,28Z\"></path><path d=\"M20 2L20 4 26.586 4 18 12.586 19.414 14 28 5.414 28 12 30 12 30 2 20 2z\"></path></svg></a></div></div></div></div></li><li class=\"bx--link-list__list__CTA bx--link-list__list--local\"><div><div class=\"bx--tile bx--card bx--card-link bx--card__CTA bx--card__CardCTA\" data-autoid=\"dds--card\" ariaRole=\"listitem\" href=\"https://www.ibm.com/subscribe\"><div class=\"bx--card__wrapper\"><div class=\"bx--card__content\"><p class=\"bx--card__eyebrow\">Subscribe</p><h3 class=\"bx--card__heading\">Get insights in your inbox</h3><a class=\"bx--link bx--card__footer\" href=\"https://www.ibm.com/subscribe\" aria-label=\"Get insights in your inbox\"><svg focusable=\"false\" preserveAspectRatio=\"xMidYMid meet\" xmlns=\"http://www.w3.org/2000/svg\" fill=\"currentColor\" src=\"[object Object]\" width=\"20\" height=\"20\" viewBox=\"0 0 20 20\" aria-hidden=\"true\" class=\"bx--card__cta\"><path d=\"M11.8 2.8L10.8 3.8 16.2 9.3 1 9.3 1 10.7 16.2 10.7 10.8 16.2 11.8 17.2 19 10z\"></path></svg></a></div></div></div></div></li></ul></div></div></div></div></div></div></section></div><section id=\"bx--personalization-cards\" class=\"bx--card--white\"><div class=\"bx--grid\"><div class=\"bx--row\"><div class=\"bx--col\"><h2 class=\"bx--type-expressive-heading-02 bx--personalization-cards__heading\">Recommended for you</h2></div></div></div><div class=\"bx--grid bx--grid--card\"><div class=\"bx--row\"><div class=\"bx--col-sm-4 bx--col-md-4 bx--col-lg-8 bx--col-xlg-4 bx--no-gutter\"><div class=\"bx--card-with-aside-image-wrapper\"><div class=\"bx--tile bx--card bx--card--light bx--card--border\" data-autoid=\"dds--card\" href=\"https://www.ibm.com/products/watsonx-ai\"><div class=\"bx--card__wrapper\"><div class=\"bx--image\" data-autoid=\"dds--image__longdescription\"><picture><img class=\"bx--image__img\" src=\"https://1.dam.s81c.com/p/0b52089e994c221c/ibm-watsonxai-aspectratio-2-by-1.png.global.xs_1x1.png\" alt=\"Concentric illustration showing watsonx.ai capabilities\" aria-describedby=\"bx--image-1\"/></picture><div id=\"bx--image-1\" class=\"bx--image__longdescription\">Concentric illustration showing watsonx.ai capabilities</div></div><div class=\"bx--card__content\"><p class=\"bx--card__eyebrow\">watsonx.ai</p><div class=\"bx--card__copy\"><p>Build your own generative AI application models</p></div><a class=\"bx--link bx--card__footer\" href=\"https://www.ibm.com/products/watsonx-ai\" aria-label=\"Build your own generative AI application models\"><svg focusable=\"false\" preserveAspectRatio=\"xMidYMid meet\" xmlns=\"http://www.w3.org/2000/svg\" fill=\"currentColor\" src=\"[object Object]\" width=\"20\" height=\"20\" viewBox=\"0 0 20 20\" aria-hidden=\"true\" class=\"bx--card__cta\"><path d=\"M11.8 2.8L10.8 3.8 16.2 9.3 1 9.3 1 10.7 16.2 10.7 10.8 16.2 11.8 17.2 19 10z\"></path></svg></a></div></div></div></div></div><div class=\"bx--col-sm-4 bx--col-md-4 bx--col-lg-8 bx--col-xlg-4 bx--no-gutter\"><div class=\"bx--card-with-aside-image-wrapper\"><div class=\"bx--tile bx--card bx--card--light bx--card--border\" data-autoid=\"dds--card\" href=\"https://www.ibm.com/products/watsonx-data\"><div class=\"bx--card__wrapper\"><div class=\"bx--image\" data-autoid=\"dds--image__longdescription\"><picture><img class=\"bx--image__img\" src=\"https://1.dam.s81c.com/p/0b526de85b441e06/IBM_WatsonXData_A05.png.global.xs_1x1.png\" alt=\"Concentric illustration showing watsonx.data capabilities\" aria-describedby=\"bx--image-2\"/></picture><div id=\"bx--image-2\" class=\"bx--image__longdescription\">Concentric illustration showing watsonx.data capabilities</div></div><div class=\"bx--card__content\"><p class=\"bx--card__eyebrow\">watsonx.data</p><div class=\"bx--card__copy\"><p>Scale AI workloads</p></div><a class=\"bx--link bx--card__footer\" href=\"https://www.ibm.com/products/watsonx-data\" aria-label=\"Scale AI workloads\"><svg focusable=\"false\" preserveAspectRatio=\"xMidYMid meet\" xmlns=\"http://www.w3.org/2000/svg\" fill=\"currentColor\" src=\"[object Object]\" width=\"20\" height=\"20\" viewBox=\"0 0 20 20\" aria-hidden=\"true\" class=\"bx--card__cta\"><path d=\"M11.8 2.8L10.8 3.8 16.2 9.3 1 9.3 1 10.7 16.2 10.7 10.8 16.2 11.8 17.2 19 10z\"></path></svg></a></div></div></div></div></div><div class=\"bx--col-sm-4 bx--col-md-4 bx--col-lg-8 bx--col-xlg-4 bx--no-gutter\"><div class=\"bx--card-with-aside-image-wrapper\"><div class=\"bx--tile bx--card bx--card--light bx--card--border\" data-autoid=\"dds--card\" href=\"https://www.ibm.com/products/watsonx-governance\"><div class=\"bx--card__wrapper\"><div class=\"bx--image\" data-autoid=\"dds--image__longdescription\"><picture><img class=\"bx--image__img\" src=\"https://1.dam.s81c.com/p/0b526de85b441e07/IBM_WatsonXGovernance_A03.png.global.xs_1x1.png\" alt=\"Concentric illustration showing watsonx.governance capabilities\" aria-describedby=\"bx--image-3\"/></picture><div id=\"bx--image-3\" class=\"bx--image__longdescription\">Concentric illustration showing watsonx.governance capabilities</div></div><div class=\"bx--card__content\"><p class=\"bx--card__eyebrow\">watsonx.governance</p><div class=\"bx--card__copy\"><p>Keep AI activities compliant</p></div><a class=\"bx--link bx--card__footer\" href=\"https://www.ibm.com/products/watsonx-governance\" aria-label=\"Keep AI activities compliant\"><svg focusable=\"false\" preserveAspectRatio=\"xMidYMid meet\" xmlns=\"http://www.w3.org/2000/svg\" fill=\"currentColor\" src=\"[object Object]\" width=\"20\" height=\"20\" viewBox=\"0 0 20 20\" aria-hidden=\"true\" class=\"bx--card__cta\"><path d=\"M11.8 2.8L10.8 3.8 16.2 9.3 1 9.3 1 10.7 16.2 10.7 10.8 16.2 11.8 17.2 19 10z\"></path></svg></a></div></div></div></div></div><div class=\"bx--col-sm-4 bx--col-md-4 bx--col-lg-8 bx--col-xlg-4 bx--no-gutter\"><div class=\"bx--card-with-aside-image-wrapper\"><div class=\"bx--tile bx--card bx--card--light bx--card--border\" data-autoid=\"dds--card\" href=\"https://research.ibm.com/blog/generative-ai-for-enterprise\"><div class=\"bx--card__wrapper\"><div class=\"bx--image\" data-autoid=\"dds--image__longdescription\"><picture><img class=\"bx--image__img\" src=\"https://1.dam.s81c.com/p/0b5208b36a4c2422/Generative_AI.jpg\" alt=\"Blue and black pixels illustrating the capabilities of generative AI\" aria-describedby=\"bx--image-4\"/></picture><div id=\"bx--image-4\" class=\"bx--image__longdescription\">Blue and black pixels illustrating the capabilities of generative AI</div></div><div class=\"bx--card__content\"><p class=\"bx--card__eyebrow\">Generative AI</p><div class=\"bx--card__copy\"><p>Learn how IBM tailors AI for enterprises</p></div><a class=\"bx--link bx--card__footer\" href=\"https://research.ibm.com/blog/generative-ai-for-enterprise\" aria-label=\"Learn how IBM tailors AI for enterprises\"><svg focusable=\"false\" preserveAspectRatio=\"xMidYMid meet\" xmlns=\"http://www.w3.org/2000/svg\" fill=\"currentColor\" src=\"[object Object]\" width=\"20\" height=\"20\" viewBox=\"0 0 20 20\" aria-hidden=\"true\" class=\"bx--card__cta\"><path d=\"M11.8 2.8L10.8 3.8 16.2 9.3 1 9.3 1 10.7 16.2 10.7 10.8 16.2 11.8 17.2 19 10z\"></path></svg></a></div></div></div></div></div></div></div></section><div id=\"main-content\" style=\"background-color:#FFF\"><div><div class=\"bx--custom-spacer\"></div><section class=\"bx--intro-section-custom\" autoid=\"dds--intro-section-custom\"><div class=\"bx--grid\"><div class=\"bx--row\"><div class=\"bx--col-lg-8\"><h3 class=\"bx--content-item-horizontal__item--heading\" data-autoid=\"dds--content-item-horizontal__item--heading\">Browse our technology</h3></div><div class=\"bx--col-lg-8\"><div class=\"bx--content-item-horizontal__item--copy\" data-autoid=\"dds--content-item-horizontal__item--copy\"><p class=\"bx--type-heading-03\">From our flagship products for enterprise <a href=\\'https://www.ibm.com/cloud?lnk=flatitem\\'>hybrid cloud infrastructure</a>, to security, supply chain and storage solutions, find the answer to your business challenge.</p><dds-video-cta-container><div class=\"bx--link-list\" data-autoid=\"dds--link-list\"><ul class=\"bx--link-list__list bx--link-list__list--horizontal\"><li class=\"bx--link-list__list__CTA bx--link-list__list--local\"><div><div class=\"bx--link-with-icon__container\" data-autoid=\"dds--link-with-icon\"><a class=\"bx--link bx--link-with-icon bx--link-with-icon--inline-icon bx--link--lg\" href=\"https://www.ibm.com/products\"><span>View all products</span><span class=\"bx--visually-hidden\"></span><svg focusable=\"false\" preserveAspectRatio=\"xMidYMid meet\" xmlns=\"http://www.w3.org/2000/svg\" fill=\"currentColor\" width=\"20\" height=\"20\" viewBox=\"0 0 20 20\" aria-hidden=\"true\"><path d=\"M11.8 2.8L10.8 3.8 16.2 9.3 1 9.3 1 10.7 16.2 10.7 10.8 16.2 11.8 17.2 19 10z\"></path></svg></a></div></div></li></ul></div></dds-video-cta-container></div></div></div></div></section><section class=\"bx--custom-cards-section\"><div class=\"bx--grid\"><div class=\"bx--row\"><div class=\"bx--col-sm-4 bx--col-md-4 bx--col-lg-8 bx--col-xlg-4 bx--no-gutter\"><dds-card pictogram-placement=\"top\" href=\"https://www.ibm.com/artificial-intelligence?lnk=flathl\" color-scheme=\"light\" border=\"\"><dds-card-heading>AI &amp; machine learning</dds-card-heading><p>Use IBM Watsonâ\\x80\\x99s AI or build your own machine learning models</p><svg focusable=\"false\" preserveAspectRatio=\"xMidYMid meet\" xmlns=\"http://www.w3.org/2000/svg\" fill=\"currentColor\" slot=\"pictogram\" src=\"[object Object]\" width=\"64\" height=\"64\" viewBox=\"0 0 32 32\" aria-hidden=\"true\"><path d=\"M16.195,31.36c-6.421,0-12.169-4.007-14.399-10.002\\tC1.051,21.408,0.373,20.771,0.372,20c0-0.75,0.61-1.36,1.36-1.36s1.36,0.61,1.36,1.36c0,0.474-0.243,0.892-0.611,1.135\\tc2.133,5.698,7.604,9.505,13.714,9.505c6.446,0,11.919-4.301,13.773-10.22c-1.448,2.06-3.877,3.44-6.565,3.44\\tc-3.822,0-7.066-2.785-7.664-6.525C15.113,17.212,14.64,16.661,14.64,16c0-0.584,0.37-1.083,0.888-1.275\\tc-0.608-3.421-3.615-5.962-7.125-5.962c-3.947,0-7.04,3.176-7.042,7.231c0,0.002,0,0.004,0,0.006H0.64c0-0.002,0-0.004,0-0.007\\tC0.644,7.526,7.445,0.64,15.805,0.64c6.42,0,12.168,4.006,14.399,10.001c0.777-0.034,1.425,0.587,1.425,1.358\\tc0,0.75-0.61,1.36-1.36,1.36s-1.36-0.61-1.36-1.36c0-0.473,0.243-0.891,0.611-1.135C27.387,5.166,21.916,1.36,15.805,1.36\\tc-6.319,0-11.704,4.134-13.659,9.873c1.402-1.949,3.662-3.19,6.256-3.19c3.881,0,7.204,2.826,7.846,6.62\\tC16.88,14.779,17.36,15.335,17.36,16c0,0.589-0.376,1.092-0.901,1.28c0.567,3.363,3.496,5.859,6.943,5.859\\tc3.857,0,7.127-3.118,7.235-6.851c0.001-0.096,0.002-0.192,0.002-0.289h0.721c0,0.033,0,0.065-0.001,0.098h0.001\\tc0,0.069-0.001,0.138-0.003,0.207C31.196,24.634,24.456,31.36,16.195,31.36z M1.732,19.36c-0.353,0-0.64,0.287-0.64,0.64\\ts0.287,0.64,0.64,0.64s0.64-0.287,0.64-0.64S2.085,19.36,1.732,19.36z M16,15.36c-0.353,0-0.64,0.287-0.64,0.64\\ts0.287,0.64,0.64,0.64s0.64-0.287,0.64-0.64S16.353,15.36,16,15.36z M30.269,11.36c-0.353,0-0.64,0.287-0.64,0.64\\ts0.287,0.64,0.64,0.64s0.64-0.287,0.64-0.64S30.621,11.36,30.269,11.36z\"></path></svg></dds-card></div><div class=\"bx--col-sm-4 bx--col-md-4 bx--col-lg-8 bx--col-xlg-4 bx--no-gutter\"><dds-card pictogram-placement=\"top\" href=\"https://www.ibm.com/analytics?lnk=flathl\" color-scheme=\"light\" border=\"\"><dds-card-heading>Analytics</dds-card-heading><p>Aggregate and analyze large data sets</p><svg focusable=\"false\" preserveAspectRatio=\"xMidYMid meet\" xmlns=\"http://www.w3.org/2000/svg\" fill=\"currentColor\" slot=\"pictogram\" src=\"[object Object]\" width=\"64\" height=\"64\" viewBox=\"0 0 32 32\" aria-hidden=\"true\"><path d=\"M31,31.36H1c-0.199,0-0.36-0.161-0.36-0.36\\tV1h0.72v29.64h4.28v-7.328c-0.576-0.158-1-0.687-1-1.312c0-0.75,0.61-1.36,1.36-1.36c0.364,0,0.694,0.144,0.938,0.377l3.702-2.221\\tv-8.484c-0.576-0.158-1-0.686-1-1.312c0-0.75,0.61-1.36,1.36-1.36S12.36,8.25,12.36,9c0,0.625-0.424,1.153-1,1.312v8.053l3.33-1.998\\tc-0.032-0.116-0.05-0.239-0.05-0.366c0-0.75,0.61-1.36,1.36-1.36c0.364,0,0.695,0.144,0.939,0.377l3.701-2.221V6.312\\tc-0.575-0.158-1-0.686-1-1.312c0-0.75,0.61-1.36,1.36-1.36S22.36,4.25,22.36,5c0,0.625-0.425,1.153-1,1.312v6.053l3.33-1.998\\tc-0.033-0.117-0.05-0.24-0.05-0.367c0-0.75,0.61-1.36,1.36-1.36s1.36,0.61,1.36,1.36c0,0.625-0.425,1.153-1,1.312V30.64H31V31.36z M21.36,30.64h4.279V11.312c-0.22-0.061-0.418-0.175-0.578-0.328l-3.701,2.221V30.64z M16.36,30.64h4.28V13.636l-3.33,1.998\\tc0.033,0.116,0.05,0.239,0.05,0.366c0,0.625-0.425,1.153-1,1.312V30.64z M11.36,30.64h4.28V17.312\\tc-0.22-0.061-0.418-0.175-0.579-0.328l-3.702,2.221V30.64H11.36z M6.36,30.64h4.28V19.636l-3.33,1.998\\tC7.343,21.75,7.36,21.873,7.36,22c0,0.625-0.424,1.153-1,1.312V30.64z M6,21.36c-0.353,0-0.64,0.287-0.64,0.64S5.647,22.64,6,22.64\\tS6.64,22.353,6.64,22S6.353,21.36,6,21.36z M16,15.36c-0.353,0-0.64,0.287-0.64,0.64s0.287,0.64,0.64,0.64s0.64-0.287,0.64-0.64\\tS16.353,15.36,16,15.36z M26,9.36c-0.353,0-0.64,0.287-0.64,0.64s0.287,0.64,0.64,0.64s0.64-0.287,0.64-0.64S26.353,9.36,26,9.36z M11,8.36c-0.353,0-0.64,0.287-0.64,0.64S10.647,9.64,11,9.64S11.64,9.353,11.64,9S11.353,8.36,11,8.36z M21,4.36\\tc-0.353,0-0.64,0.287-0.64,0.64S20.647,5.64,21,5.64S21.64,5.353,21.64,5S21.353,4.36,21,4.36z\"></path></svg></dds-card></div><div class=\"bx--col-sm-4 bx--col-md-4 bx--col-lg-8 bx--col-xlg-4 bx--no-gutter\"><dds-card pictogram-placement=\"top\" href=\"https://www.ibm.com/database?lnk=flathl\" color-scheme=\"light\" border=\"\"><dds-card-heading>Databases</dds-card-heading><p>Store, query and analyze structured data</p><svg focusable=\"false\" preserveAspectRatio=\"xMidYMid meet\" xmlns=\"http://www.w3.org/2000/svg\" fill=\"currentColor\" slot=\"pictogram\" src=\"[object Object]\" width=\"64\" height=\"64\" viewBox=\"0 0 32 32\" aria-hidden=\"true\"><path d=\"M20,6c-0.552,0-1-0.448-1-1s0.448-1,1-1s1,0.448,1,1S20.552,6,20,6z M21,16\\tc0-0.552-0.448-1-1-1s-1,0.448-1,1s0.448,1,1,1S21,16.552,21,16z M21,27c0-0.552-0.448-1-1-1s-1,0.448-1,1s0.448,1,1,1\\tS21,27.552,21,27z M24,31.36H1c-0.199,0-0.36-0.161-0.36-0.36v-8c0-0.199,0.161-0.36,0.36-0.36h23c0.199,0,0.36,0.161,0.36,0.36v8\\tC24.36,31.199,24.199,31.36,24,31.36z M1.36,30.64h22.28v-7.28H1.36V30.64z M31,27.36h-5v-0.72h4.64V16.36H26v-0.72h4.64V5.36H26\\tV4.64h5c0.199,0,0.36,0.161,0.36,0.36v22C31.36,27.199,31.199,27.36,31,27.36z M24,20.36H1c-0.199,0-0.36-0.161-0.36-0.36v-8\\tc0-0.199,0.161-0.36,0.36-0.36h23c0.199,0,0.36,0.161,0.36,0.36v8C24.36,20.199,24.199,20.36,24,20.36z M1.36,19.64h22.28v-7.28\\tH1.36V19.64z M24,9.36H1C0.801,9.36,0.64,9.199,0.64,9V1c0-0.199,0.161-0.36,0.36-0.36h23c0.199,0,0.36,0.161,0.36,0.36v8\\tC24.36,9.199,24.199,9.36,24,9.36z M1.36,8.64h22.28V1.36H1.36V8.64z\"></path></svg></dds-card></div><div class=\"bx--col-sm-4 bx--col-md-4 bx--col-lg-8 bx--col-xlg-4 bx--no-gutter\"><dds-card pictogram-placement=\"top\" href=\"https://www.ibm.com/servers?lnk=flathl\" color-scheme=\"light\" border=\"\"><dds-card-heading>Compute &amp; servers</dds-card-heading><p>Run workloads on hybrid cloud infrastructure</p><svg focusable=\"false\" preserveAspectRatio=\"xMidYMid meet\" xmlns=\"http://www.w3.org/2000/svg\" fill=\"currentColor\" slot=\"pictogram\" src=\"[object Object]\" width=\"64\" height=\"64\" viewBox=\"0 0 32 32\" aria-hidden=\"true\"><path d=\"M30,31.36H8c-0.199,0-0.36-0.161-0.36-0.36v-5c0-0.199,0.161-0.36,0.36-0.36h22\\tc0.199,0,0.36,0.161,0.36,0.36v5C30.36,31.199,30.199,31.36,30,31.36z M8.36,30.64h21.28v-4.28H8.36V30.64z M6,31.36H2\\tc-0.199,0-0.36-0.161-0.36-0.36V1c0-0.199,0.161-0.36,0.36-0.36h11c0.199,0,0.36,0.161,0.36,0.36v9h-0.72V1.36H2.36v29.28H6V31.36z M28.36,30h-0.72v-2h0.721L28.36,30L28.36,30z M26.36,30h-0.72v-2h0.721L26.36,30L26.36,30z M24.36,30h-0.72v-2h0.721L24.36,30\\tL24.36,30z M22.36,30h-0.72v-2h0.721L22.36,30L22.36,30z M30,24.36H8c-0.199,0-0.36-0.161-0.36-0.36v-5\\tc0-0.199,0.161-0.36,0.36-0.36h22c0.199,0,0.36,0.161,0.36,0.36v5C30.36,24.199,30.199,24.36,30,24.36z M8.36,23.64h21.28v-4.28\\tH8.36V23.64z M28.36,23h-0.72v-2h0.721L28.36,23L28.36,23z M26.36,23h-0.72v-2h0.721L26.36,23L26.36,23z M24.36,23h-0.72v-2h0.721\\tL24.36,23L24.36,23z M22.36,23h-0.72v-2h0.721L22.36,23L22.36,23z M30,17.36H8c-0.199,0-0.36-0.161-0.36-0.36v-5\\tc0-0.199,0.161-0.36,0.36-0.36h22c0.199,0,0.36,0.161,0.36,0.36v5C30.36,17.199,30.199,17.36,30,17.36z M8.36,16.64h21.28v-4.28\\tH8.36V16.64z M28.36,16h-0.72v-2h0.721L28.36,16L28.36,16z M26.36,16h-0.72v-2h0.721L26.36,16L26.36,16z M24.36,16h-0.72v-2h0.721\\tL24.36,16L24.36,16z M22.36,16h-0.72v-2h0.721L22.36,16L22.36,16z M6,4.36H4V3.64h2V4.36z\"></path></svg></dds-card></div><div class=\"bx--col-sm-4 bx--col-md-4 bx--col-lg-8 bx--col-xlg-4 bx--no-gutter\"><dds-card pictogram-placement=\"top\" href=\"https://www.ibm.com/devops?lnk=flathl\" color-scheme=\"light\" border=\"\"><dds-card-heading>DevOps</dds-card-heading><p>Manage infrastructure, environments and deployments</p><svg focusable=\"false\" preserveAspectRatio=\"xMidYMid meet\" xmlns=\"http://www.w3.org/2000/svg\" fill=\"currentColor\" slot=\"pictogram\" src=\"[object Object]\" width=\"64\" height=\"64\" viewBox=\"0 0 32 32\" aria-hidden=\"true\"><path d=\"M18,31.36h-4c-0.128,0-0.248-0.069-0.312-0.181l-2-3.464c-0.064-0.111-0.064-0.248,0-0.359l2-3.464\\tc0.064-0.111,0.183-0.181,0.312-0.181h3.792l2.896-5.016c0.1-0.174,0.32-0.231,0.491-0.132c0.173,0.1,0.231,0.319,0.132,0.491\\tl-2.896,5.017l1.896,3.284c0.064,0.111,0.064,0.248,0,0.359l-2,3.464C18.247,31.291,18.129,31.36,18,31.36z M14.208,30.64h3.584\\tl1.792-3.104l-1.792-3.104h-3.584l-1.792,3.104L14.208,30.64z M28,25.593h-4c-0.129,0-0.247-0.069-0.312-0.181l-2-3.465\\tc-0.064-0.111-0.064-0.248,0-0.359l1.896-3.284l-2.896-5.016c-0.1-0.172-0.041-0.393,0.132-0.492c0.171-0.1,0.392-0.041,0.491,0.131\\tl2.896,5.016H28c0.129,0,0.247,0.069,0.312,0.181l2,3.464c0.064,0.111,0.064,0.248,0,0.359l-2,3.465\\tC28.247,25.523,28.129,25.593,28,25.593z M24.208,24.872h3.584l1.792-3.104l-1.792-3.104h-3.584l-1.792,3.104L24.208,24.872z M8,25.593H4c-0.128,0-0.248-0.069-0.312-0.181l-2-3.465c-0.064-0.111-0.064-0.248,0-0.359l2-3.464\\tC3.752,18.013,3.872,17.943,4,17.943h4c0.128,0,0.248,0.069,0.312,0.181l1.896,3.283H16c0.199,0,0.36,0.161,0.36,0.36\\ts-0.161,0.36-0.36,0.36h-5.792l-1.896,3.284C8.248,25.523,8.128,25.593,8,25.593z M4.208,24.872h3.584l1.792-3.104l-1.792-3.104\\tH4.208l-1.792,3.104L4.208,24.872z M11,19.253c-0.125,0-0.246-0.064-0.312-0.181l-2.896-5.016H4c-0.128,0-0.248-0.068-0.312-0.18\\tl-2-3.464c-0.064-0.111-0.064-0.249,0-0.36l2-3.464C3.752,6.477,3.872,6.408,4,6.408h4c0.128,0,0.248,0.068,0.312,0.18l2,3.464\\tc0.064,0.111,0.064,0.249,0,0.36l-1.896,3.284l2.896,5.017c0.099,0.172,0.04,0.392-0.132,0.491\\tC11.124,19.237,11.062,19.253,11,19.253z M4.208,13.336h3.584l1.792-3.104L7.792,7.128H4.208l-1.792,3.104L4.208,13.336z M28,14.056\\th-4c-0.129,0-0.247-0.068-0.312-0.18l-1.896-3.285H16c-0.199,0-0.36-0.161-0.36-0.36s0.161-0.36,0.36-0.36h5.792l1.896-3.284\\tc0.064-0.111,0.183-0.18,0.312-0.18h4c0.129,0,0.247,0.068,0.312,0.18l2,3.464c0.064,0.111,0.064,0.249,0,0.36l-2,3.464\\tC28.247,13.988,28.129,14.056,28,14.056z M24.208,13.336h3.584l1.792-3.104l-1.792-3.104h-3.584l-1.792,3.104L24.208,13.336z M11,13.484c-0.061,0-0.123-0.015-0.18-0.048c-0.172-0.1-0.231-0.32-0.132-0.492l2.896-5.016l-1.896-3.284\\tc-0.064-0.112-0.064-0.249,0-0.36l2-3.464C13.752,0.708,13.872,0.64,14,0.64h4c0.129,0,0.247,0.068,0.312,0.18l2,3.464\\tc0.064,0.111,0.064,0.249,0,0.36l-2,3.464C18.247,8.22,18.129,8.288,18,8.288h-3.792l-2.896,5.017\\tC11.245,13.42,11.124,13.484,11,13.484z M14.208,7.568h3.584l1.792-3.104L17.792,1.36h-3.584l-1.792,3.104L14.208,7.568z\"></path></svg></dds-card></div><div class=\"bx--col-sm-4 bx--col-md-4 bx--col-lg-8 bx--col-xlg-4 bx--no-gutter\"><dds-card pictogram-placement=\"top\" href=\"https://www.ibm.com/it-automation?lnk=flathl\" color-scheme=\"light\" border=\"\"><dds-card-heading>IT automation</dds-card-heading><p>Automate IT infrastructure management</p><svg focusable=\"false\" preserveAspectRatio=\"xMidYMid meet\" xmlns=\"http://www.w3.org/2000/svg\" fill=\"currentColor\" slot=\"pictogram\" src=\"[object Object]\" width=\"64\" height=\"64\" viewBox=\"0 0 32 32\" aria-hidden=\"true\"><path d=\"M27.255,19.255L30.509,16l-3.254-3.254l-0.51,0.509l2.386,2.386H16.149L9.36,8.85V5.36h19.771\\tl-2.386,2.386l0.51,0.509L30.509,5l-3.254-3.254l-0.51,0.509l2.386,2.386H9C8.801,4.64,8.64,4.801,8.64,5v3.85l-6.895,6.896\\tc-0.141,0.141-0.141,0.368,0,0.509L8.64,23.15V27c0,0.199,0.161,0.36,0.36,0.36h20.131l-2.386,2.385l0.51,0.51L30.509,27\\tl-3.254-3.255l-0.51,0.51l2.386,2.385H9.36v-3.49l6.789-6.79h12.982l-2.386,2.385L27.255,19.255z M9,22.491L2.509,16L9,9.508\\tL15.491,16L9,22.491z\"></path></svg></dds-card></div><div class=\"bx--col-sm-4 bx--col-md-4 bx--col-lg-8 bx--col-xlg-4 bx--no-gutter\"><dds-card pictogram-placement=\"top\" href=\"https://www.ibm.com/quantum?lnk=flathl\" color-scheme=\"light\" border=\"\"><dds-card-heading>Quantum</dds-card-heading><p>Run code on real quantum systems using a full-stack SDK</p><svg id=\"Layer_1\" xmlns=\"http://www.w3.org/2000/svg\" xmlns:xlink=\"http://www.w3.org/1999/xlink\" x=\"0px\" y=\"0px\" width=\"64\" height=\"64\" viewBox=\"0 0 25 29\" style=\"enable-background:new 0 0 25 29\" xml:space=\"preserve\" slot=\"pictogram\"><style type=\"text/css\">\\n\\t.st0{fill:none;stroke:var(--cds-text-01, #323232);stroke-width:0.8611;stroke-miterlimit:10;}\\n\\t.st1{fill:none;stroke:var(--cds-text-01, #323232);stroke-width:0.8611;stroke-linecap:round;stroke-miterlimit:10;}\\n</style><desc>Created with Sketch.</desc><path class=\"st0\" d=\"M4.4,8.1c0.7,0,1.3-0.6,1.3-1.3S5.2,5.5,4.4,5.5c-0.7,0-1.3,0.6-1.3,1.3S3.7,8.1,4.4,8.1z\"></path><path class=\"st0\" d=\"M20.6,24.3c0.7,0,1.3-0.6,1.3-1.3s-0.6-1.3-1.3-1.3c-0.7,0-1.3,0.6-1.3,1.3S19.9,24.3,20.6,24.3z\"></path><path class=\"st0\" d=\"M5.3,7.8l14.5,14.5\"></path><path class=\"st1\" d=\"M16.2,18.7c-1.2,0.2-2.4,0.2-3.6,0.2c-6.5,0-11.8-1.8-11.8-4c0-1.4,2.1-2.6,5.4-3.3\"></path><path class=\"st1\" d=\"M8.8,11.2c1.2-0.1,2.4-0.2,3.8-0.2c6.5,0,11.8,1.8,11.8,4c0,1.4-2.2,2.7-5.6,3.3\"></path><path class=\"st0\" d=\"M19.8,24.2c-2,1.6-4.6,2.5-7.3,2.5C6,26.8,0.7,21.4,0.7,14.9c0-2.7,1-5.3,2.5-7.3\"></path><path class=\"st0\" d=\"M5.2,5.6C7.2,4,9.7,3,12.5,3c6.5,0,11.9,5.3,11.9,11.9c0,2.8-1,5.4-2.6,7.4\"></path></svg></dds-card></div><div class=\"bx--col-sm-4 bx--col-md-4 bx--col-lg-8 bx--col-xlg-4 bx--no-gutter\"><dds-card pictogram-placement=\"top\" href=\"https://www.ibm.com/security?lnk=flathl\" color-scheme=\"light\" border=\"\"><dds-card-heading>Security &amp; identity</dds-card-heading><p>Cloud-native software to secure resources and simplify compliance</p><svg focusable=\"false\" preserveAspectRatio=\"xMidYMid meet\" xmlns=\"http://www.w3.org/2000/svg\" fill=\"currentColor\" slot=\"pictogram\" src=\"[object Object]\" width=\"64\" height=\"64\" viewBox=\"0 0 32 32\" aria-hidden=\"true\"><path d=\"M23.14,25.415v-1.988c-0.373-0.145-0.64-0.503-0.64-0.927c0-0.552,0.448-1,1-1s1,0.448,1,1\\tc0,0.424-0.266,0.782-0.64,0.927v1.988c0,0.199-0.161,0.36-0.36,0.36S23.14,25.614,23.14,25.415z M31.36,16v15\\tc0,0.199-0.161,0.36-0.36,0.36H16c-0.199,0-0.36-0.161-0.36-0.36V19h0.72v11.64h14.28V16.36H1c-0.199,0-0.36-0.161-0.36-0.36V1\\tc0-0.199,0.161-0.36,0.36-0.36h15c0.199,0,0.36,0.161,0.36,0.36v12h-0.72V1.36H1.36v14.28h2.28v-2.639\\tc0-1.926,1.166-3.659,2.908-4.427C5.978,8.04,5.643,7.293,5.643,6.5c0-1.577,1.283-2.86,2.86-2.86s2.86,1.283,2.86,2.86\\tc0,0.794-0.335,1.542-0.907,2.075c1.74,0.77,2.904,2.502,2.904,4.426v2.639h6.28V11.5c0-2.128,1.731-3.86,3.859-3.86\\tc2.129,0,3.861,1.731,3.861,3.86l-0.001,4.14H31C31.199,15.64,31.36,15.801,31.36,16z M12.64,13.001c0-1.837-1.25-3.47-3.041-3.97\\tc-0.141-0.04-0.244-0.16-0.261-0.306C9.321,8.58,9.395,8.439,9.523,8.369c0.69-0.379,1.12-1.095,1.12-1.869\\tc0-1.18-0.96-2.14-2.14-2.14s-2.14,0.96-2.14,2.14c0,0.773,0.429,1.489,1.119,1.868c0.128,0.07,0.201,0.211,0.184,0.357\\tC7.648,8.87,7.545,8.991,7.404,9.03C5.612,9.529,4.36,11.162,4.36,13.001v2.639h8.28C12.64,15.64,12.64,13.001,12.64,13.001z M26.64,11.5c0-1.731-1.408-3.14-3.14-3.14s-3.14,1.409-3.14,3.14v4.14h6.278L26.64,11.5z\"></path></svg></dds-card></div></div></div></section><section class=\"bx--custom-featured-story\"><div class=\"bx--custom-featured-story-heading\"><h2 class=\"bx--type-productive-heading-07\">Â\\xa0</h2></div><dds-feature-section class=\"bx--custom-featured-story-section\" media-alignment=\"right\"><dds-image slot=\"image\" default-src=\"https://1.dam.s81c.com/p/08b38f4a7fa65611/2018_CaitOppermann_Zurich_DSC35649.jpg.global.l_1x1.png\" alt=\"Colleagues collaborating behind laptop at a conference table\"><dds-image-item media=\"(min-width: 672px)\" srcset=\"https://1.dam.s81c.com/p/08b38f4a7fa65611/2018_CaitOppermann_Zurich_DSC35649.jpg.global.m_1x1.png\"></dds-image-item><dds-image-item media=\"(min-width: 320px)\" srcset=\"https://1.dam.s81c.com/p/08b38f4a7fa65611/2018_CaitOppermann_Zurich_DSC35649.jpg.global.s_1x1.png\"></dds-image-item><dds-image-item media=\"(min-width: 320px)\" srcset=\"https://1.dam.s81c.com/p/08b38f4a7fa65611/2018_CaitOppermann_Zurich_DSC35649.jpg.global.s_1x1.png\"></dds-image-item></dds-image><dds-card-eyebrow>Whatâ\\x80\\x99s new</dds-card-eyebrow><dds-content-block-heading>Got responsible AI?</dds-content-block-heading><dds-content-item-paragraph slot=\"copy\"><span>Gartner predicts the market for AI software will reach almost USD 134.8 billion by 2025.<a href=\\'#bx--custom-footnotes\\'>Â¹</a> Learn three key reasons why responsible AI is crucial.</span></dds-content-item-paragraph><dds-feature-section-card-link class=\"bx--custom-featured-story-section-card-link\" slot=\"footer\" href=\"https://www.ibm.com/blog/3-key-reasons-why-your-organization-needs-responsible-ai/\" cta-type=\"local\" color-scheme=\"inverse\"><dds-card-link-heading>Read the blog</dds-card-link-heading><dds-card-cta-footer color-scheme=\"inverse\"> </dds-card-cta-footer></dds-feature-section-card-link></dds-feature-section></section><div class=\"bx--custom-spacer\"></div><section class=\"bx--custom-consulting-section\"><section class=\"bx--intro-section-custom\" autoid=\"dds--intro-section-custom\"><div class=\"bx--grid\"><div class=\"bx--row\"><div class=\"bx--col-lg-8\"><h3 class=\"bx--content-item-horizontal__item--heading\" data-autoid=\"dds--content-item-horizontal__item--heading\">Meet our global consultants</h3></div><div class=\"bx--col-lg-8\"><div class=\"bx--content-item-horizontal__item--copy\" data-autoid=\"dds--content-item-horizontal__item--copy\"><p class=\"bx--type-heading-03\">Bringing together a diverse set of voices with new technology, we collaborate closely, ideate freely and swiftly apply breakthrough innovations that drive big impact.</p><dds-video-cta-container><div class=\"bx--link-list\" data-autoid=\"dds--link-list\"><ul class=\"bx--link-list__list bx--link-list__list--horizontal\"><li class=\"bx--link-list__list__CTA bx--link-list__list--local\"><div><div class=\"bx--link-with-icon__container\" data-autoid=\"dds--link-with-icon\"><a class=\"bx--link bx--link-with-icon bx--link-with-icon--inline-icon bx--link--lg\" href=\"https://www.ibm.com/consulting\"><span>Visit IBM Consulting</span><span class=\"bx--visually-hidden\"></span><svg focusable=\"false\" preserveAspectRatio=\"xMidYMid meet\" xmlns=\"http://www.w3.org/2000/svg\" fill=\"currentColor\" width=\"20\" height=\"20\" viewBox=\"0 0 20 20\" aria-hidden=\"true\"><path d=\"M11.8 2.8L10.8 3.8 16.2 9.3 1 9.3 1 10.7 16.2 10.7 10.8 16.2 11.8 17.2 19 10z\"></path></svg></a></div></div></li></ul></div></dds-video-cta-container></div></div></div></div></section><div class=\"bx--grid\"><div class=\"bx--row\"><div class=\"bx--col\"><div class=\"bx--image\" data-autoid=\"dds--image__longdescription\"><picture><source media=\"(min-width: 1057px)\" srcSet=\"https://1.dam.s81c.com/p/0aac9cf57bcbf324/dotcom-1-overview.jpg\"/><source media=\"(min-width: 672px)\" srcSet=\"https://1.dam.s81c.com/p/0aac9cf57bcbf324/dotcom-1-overview.jpg.global.mr_16x9.jpg\"/><source media=\"(min-width: 400px)\" srcSet=\"https://1.dam.s81c.com/p/0aac9cf57bcbf324/dotcom-1-overview.jpg.global.m_16x9.jpg\"/><source media=\"(min-width: 320px)\" srcSet=\"https://1.dam.s81c.com/p/0aac9cf57bcbf324/dotcom-1-overview.jpg.global.s_16x9.jpg\"/><img class=\"bx--image__img\" src=\"https://1.dam.s81c.com/p/0aac9cf57bcbf324/dotcom-1-overview.jpg\" alt=\"Grid of IBM consultant portraits\"/></picture></div></div></div></div></section><div class=\"bx--custom-spacer\"></div><section class=\"bx--custom-inside-ibm-section\"><section class=\"bx--intro-section-custom\" autoid=\"dds--intro-section-custom\"><div class=\"bx--grid\"><div class=\"bx--row\"><div class=\"bx--col-lg-8\"><h3 class=\"bx--content-item-horizontal__item--heading\" data-autoid=\"dds--content-item-horizontal__item--heading\">Inside IBM</h3></div><div class=\"bx--col-lg-8\"><div class=\"bx--content-item-horizontal__item--copy\" data-autoid=\"dds--content-item-horizontal__item--copy\"><p class=\"bx--type-heading-03\">Solving the worldâ\\x80\\x99s problems through technology wouldnâ\\x80\\x99t be possible without our most important invention: the IBMer. Have a look our talented teams.</p><dds-video-cta-container><div class=\"bx--link-list\" data-autoid=\"dds--link-list\"><ul class=\"bx--link-list__list bx--link-list__list--horizontal\"><li class=\"bx--link-list__list__CTA bx--link-list__list--local\"><div><div class=\"bx--link-with-icon__container\" data-autoid=\"dds--link-with-icon\"><a class=\"bx--link bx--link-with-icon bx--link-with-icon--inline-icon bx--link--lg\" href=\"https://www.ibm.com/about\"><span>About IBM</span><span class=\"bx--visually-hidden\"></span><svg focusable=\"false\" preserveAspectRatio=\"xMidYMid meet\" xmlns=\"http://www.w3.org/2000/svg\" fill=\"currentColor\" width=\"20\" height=\"20\" viewBox=\"0 0 20 20\" aria-hidden=\"true\"><path d=\"M11.8 2.8L10.8 3.8 16.2 9.3 1 9.3 1 10.7 16.2 10.7 10.8 16.2 11.8 17.2 19 10z\"></path></svg></a></div></div></li></ul></div></dds-video-cta-container></div></div></div></div></section><div class=\"bx--grid bx--grid--card\"><div class=\"bx--row\"><div class=\"bx--col-sm-4 bx--col-md-4 bx--col-lg-8 bx--col-xlg-4 bx--no-gutter\"><div class=\"bx--tile bx--card\" data-autoid=\"dds--card\" href=\"https://research.ibm.com/\"><div class=\"bx--image\" data-autoid=\"dds--image__longdescription\"><picture><img class=\"bx--image__img bx--card__img\" src=\"https://1.dam.s81c.com/p/058f8f979abf1c0b/ibm-quantum-system-one.png.global.m_1x1.png\" alt=\"A large quantum server at IBM Research\"/></picture></div><div class=\"bx--card__wrapper\"><div class=\"bx--card__content\"><p class=\"bx--card__eyebrow\">IBM Research</p><h3 class=\"bx--card__heading\">See the latest technology developed by IBM scientists and design thinkers</h3><a class=\"bx--link bx--card__footer bx--card__footer__copy\" href=\"https://research.ibm.com/\" aria-label=\"\"><span class=\"bx--card__cta__copy\">Go inside the lab</span><svg focusable=\"false\" preserveAspectRatio=\"xMidYMid meet\" xmlns=\"http://www.w3.org/2000/svg\" fill=\"currentColor\" src=\"[object Object]\" width=\"20\" height=\"20\" viewBox=\"0 0 20 20\" aria-hidden=\"true\" class=\"bx--card__cta\"><path d=\"M11.8 2.8L10.8 3.8 16.2 9.3 1 9.3 1 10.7 16.2 10.7 10.8 16.2 11.8 17.2 19 10z\"></path></svg></a></div></div></div></div><div class=\"bx--col-sm-4 bx--col-md-4 bx--col-lg-8 bx--col-xlg-4 bx--no-gutter\"><div class=\"bx--tile bx--card\" data-autoid=\"dds--card\" href=\"https://www.ibm.com/careers/us-en/\"><div class=\"bx--image\" data-autoid=\"dds--image__longdescription\"><picture><img class=\"bx--image__img bx--card__img\" src=\"https://1.dam.s81c.com/p/0656655b47a3af99/0100129_Oppermann_PE.jpg.global.m_1x1.png\" alt=\"Technician working on internal wiring system\"/></picture></div><div class=\"bx--card__wrapper\"><div class=\"bx--card__content\"><p class=\"bx--card__eyebrow\">Careers at IBM</p><h3 class=\"bx--card__heading\">From safer food supply to ethical AI, tackle the worldâ\\x80\\x99s toughest problems</h3><a class=\"bx--link bx--card__footer bx--card__footer__copy\" href=\"https://www.ibm.com/careers/us-en/\" aria-label=\"\"><span class=\"bx--card__cta__copy\">Join our team</span><svg focusable=\"false\" preserveAspectRatio=\"xMidYMid meet\" xmlns=\"http://www.w3.org/2000/svg\" fill=\"currentColor\" src=\"[object Object]\" width=\"20\" height=\"20\" viewBox=\"0 0 20 20\" aria-hidden=\"true\" class=\"bx--card__cta\"><path d=\"M11.8 2.8L10.8 3.8 16.2 9.3 1 9.3 1 10.7 16.2 10.7 10.8 16.2 11.8 17.2 19 10z\"></path></svg></a></div></div></div></div><div class=\"bx--col-sm-4 bx--col-md-4 bx--col-lg-8 bx--col-xlg-4 bx--no-gutter\"><div class=\"bx--tile bx--card\" data-autoid=\"dds--card\" href=\"https://www.ibm.com/impact\"><div class=\"bx--image\" data-autoid=\"dds--image__longdescription\"><picture><img class=\"bx--image__img bx--card__img\" src=\"https://1.dam.s81c.com/p/07d5a7f25cc3d97e/dji_0758.jpg.global.m_1x1.png\" alt=\"Aerial view of solar panels is in graphic rows\"/></picture></div><div class=\"bx--card__wrapper\"><div class=\"bx--card__content\"><p class=\"bx--card__eyebrow\">Corporate social responsibility</p><h3 class=\"bx--card__heading\">IBM aspires to make a positive impact on the world and the places where we work and live</h3><a class=\"bx--link bx--card__footer bx--card__footer__copy\" href=\"https://www.ibm.com/impact\" aria-label=\"\"><span class=\"bx--card__cta__copy\">See our impact</span><svg focusable=\"false\" preserveAspectRatio=\"xMidYMid meet\" xmlns=\"http://www.w3.org/2000/svg\" fill=\"currentColor\" src=\"[object Object]\" width=\"20\" height=\"20\" viewBox=\"0 0 20 20\" aria-hidden=\"true\" class=\"bx--card__cta\"><path d=\"M11.8 2.8L10.8 3.8 16.2 9.3 1 9.3 1 10.7 16.2 10.7 10.8 16.2 11.8 17.2 19 10z\"></path></svg></a></div></div></div></div><div class=\"bx--col-sm-4 bx--col-md-4 bx--col-lg-8 bx--col-xlg-4 bx--no-gutter\"><div class=\"bx--tile bx--card\" data-autoid=\"dds--card\" href=\"https://skillsbuild.org/\"><div class=\"bx--image\" data-autoid=\"dds--image__longdescription\"><picture><img class=\"bx--image__img bx--card__img\" src=\"https://1.dam.s81c.com/p/0aac9d02d6cbf501/universitychile0013846.jpg.global.m_1x1.png\" alt=\"Environmental portrait of employee in office with server\"/></picture></div><div class=\"bx--card__wrapper\"><div class=\"bx--card__content\"><p class=\"bx--card__eyebrow\">Training</p><h3 class=\"bx--card__heading\">Power your future in tech with job skills, courses and credentialsâ\\x80\\x94for free</h3><a class=\"bx--link bx--card__footer bx--card__footer__copy\" rel=\"noopener\" href=\"https://skillsbuild.org/\" target=\"_blank\" aria-label=\" - This link opens in a new tab\"><span class=\"bx--card__cta__copy\">Visit IBM SkillsBuild</span><svg focusable=\"false\" preserveAspectRatio=\"xMidYMid meet\" xmlns=\"http://www.w3.org/2000/svg\" fill=\"currentColor\" src=\"[object Object]\" width=\"20\" height=\"20\" viewBox=\"0 0 32 32\" aria-hidden=\"true\" class=\"bx--card__cta\"><path d=\"M26,28H6a2.0027,2.0027,0,0,1-2-2V6A2.0027,2.0027,0,0,1,6,4H16V6H6V26H26V16h2V26A2.0027,2.0027,0,0,1,26,28Z\"></path><path d=\"M20 2L20 4 26.586 4 18 12.586 19.414 14 28 5.414 28 12 30 12 30 2 20 2z\"></path></svg></a></div></div></div></div></div></div></section><div class=\"bx--custom-spacer\"></div><a id=\"bx--custom-footnotes\"></a><section class=\"bx--custom-footnotes\"><div class=\"bx--grid\"><div class=\"bx--row\"><div class=\"bx--col-sm-4 bx--col-md-8 bx--col-lg-4\"><div class=\"bx--custom-footnotes__heading\"><p>Footnotes</p></div></div><div class=\"bx--col-sm-4 bx--col-md-8 bx--col-lg-12\"><div class=\"bx--custom-footnotes__content\"><p>1&nbsp;<a href=\\'https://www.gartner.com/en/documents/4007140\\'>https://www.gartner.com/en/documents/4007140</a> (link resides outside ibm.com), October 2021</p></div></div></div></div></section></div></div><footer data-autoid=\"dds--footer\" class=\"bx--footer\"><section class=\"bx--footer__main\"><div class=\"bx--footer__main-container\"><div class=\"bx--footer__logo-container\"><div class=\"bx--footer__logo-row\"><div data-autoid=\"dds--footer-logo\" class=\"bx--footer-logo\"><a data-autoid=\"dds--footer-logo__link\" class=\"bx--footer-logo__link\" href=\"https://www.ibm.com/\"><svg width=\"157\" height=\"65\" class=\"bx--footer-logo__logo\" viewBox=\"0 0 157 65\" xmlns=\"http://www.w3.org/2000/svg\"><title>IBM Logo</title><path d=\"M30.444 60.208v4.03H0v-4.03h30.444zm78.291-.001v4.03H86.983v-4.03h21.752zm47.858 0v4.03H134.84v-4.03h21.753zm-33.416 0l-1.398 4.03-1.38-4.03h2.778zm-88.384 0h42.775c-2.797 2.426-6.39 3.925-10.327 4.025l-.423.006H34.793v-4.03h42.775zm-4.35-8.46v4.03H0v-4.03h30.444zm52.402 0c-.332 1.248-.8 2.44-1.389 3.555l-.259.474H34.793v-4.029h48.052zm73.748-.005v4.031H134.84v-4.03h21.753zm-47.858 0v4.031H86.983v-4.03h21.752zm17.375 0l-1.398 4.031h-5.85l-1.395-4.03h8.643zM21.745 43.285v4.03H8.698v-4.03h13.047zm61.195 0a17.32 17.32 0 0 1 .476 3.51l.008.52H68.796v-4.03H82.94zm-26.401 0v4.03H43.491v-4.03H56.54zm72.502-.007l-1.396 4.03H115.93l-1.397-4.03h14.507zm18.85 0v4.03h-13.05v-4.03h13.05zm-39.156 0v4.03H95.684v-4.03h13.051zm-86.99-8.454v4.03H8.698v-4.03h13.047zm56.117 0a16.945 16.945 0 0 1 2.926 3.582l.264.447h-37.56v-4.03h34.37zm30.873-.01v4.03H95.684v-4.03h13.051zm39.157 0v4.03H134.84v-4.03h13.052zm-15.919 0l-1.396 4.03h-17.579l-1.396-4.03h20.371zm-50.778-8.452a16.963 16.963 0 0 1-2.82 3.674l-.37.355H43.49v-4.029h37.704zm-59.45 0v4.03H8.698v-4.03h13.047zm126.147-.013v4.031H134.84v-3.839l-1.33 3.839h-11.456l1.373-4.03h24.465zm-27.743 0l1.372 4.031h-11.456l-1.33-3.839v3.84H95.684v-4.032h24.465zm-98.404-8.448v4.03H8.698V17.9h13.047zm61.68 0c0 1.215-.134 2.399-.375 3.542l-.11.487H68.796V17.9h14.628zM56.538 17.9v4.03H43.491V17.9H56.54zm91.352-.015v4.03h-22.954l1.37-4.03h21.584zm-30.624 0l1.372 4.03H95.684v-4.03h21.583zM30.444 9.437v4.03H0v-4.03h30.444zm50.753 0a17.048 17.048 0 0 1 1.498 3.499l.15.531H34.794v-4.03h46.403zm75.396-.018v4.03h-28.776l1.373-4.03h27.403zm-42.207 0l1.372 4.031H86.982V9.42h27.404zM30.444.978v4.03H0V.977h30.444zm36.374 0c3.96 0 7.594 1.415 10.448 3.772l.303.257H34.794V.977h32.024zm89.775-.022v4.031h-25.894l1.372-4.03h24.522zm-45.098 0l1.372 4.03H86.982V.955h24.513z\"></path></svg></a></div><div class=\"bx--locale-btn__container\"><button data-autoid=\"dds--locale-btn\" aria-label=\"\" tabindex=\"0\" class=\"bx--locale-btn bx--btn bx--btn--tertiary\" type=\"button\"><svg focusable=\"false\" preserveAspectRatio=\"xMidYMid meet\" xmlns=\"http://www.w3.org/2000/svg\" fill=\"currentColor\" aria-label=\"Earth Filled Icon\" aria-hidden=\"true\" width=\"20\" height=\"20\" viewBox=\"0 0 32 32\" role=\"img\" class=\"bx--btn__icon\"><path d=\"M16,2A14,14,0,1,0,30,16,14.0158,14.0158,0,0,0,16,2ZM4.02,16.394l1.3384.4458L7,19.3027v1.2831a1,1,0,0,0,.2929.7071L10,24v2.3765A11.9941,11.9941,0,0,1,4.02,16.394ZM16,28a11.9682,11.9682,0,0,1-2.5718-.2847L14,26l1.8046-4.5116a1,1,0,0,0-.0964-.9261l-1.4113-2.117A1,1,0,0,0,13.4648,18h-4.93L7.2866,16.1274,9.4141,14H11v2h2V13.2656l3.8682-6.7695-1.7364-.9922L14.2769,7H11.5352l-1.086-1.6289A11.861,11.861,0,0,1,20,4.7V8a1,1,0,0,0,1,1h1.4648a1,1,0,0,0,.8321-.4453l.8769-1.3154A12.0331,12.0331,0,0,1,26.8945,11H22.82a1,1,0,0,0-.9806.8039l-.7221,4.4708a1,1,0,0,0,.54,1.0539L25,19l.6851,4.0557A11.9793,11.9793,0,0,1,16,28Z\"></path></svg></button><div data-autoid=\"dds--locale-modal\" role=\"presentation\" aria-hidden=\"true\" class=\"bx--modal bx--locale-modal-container\"><div class=\"bx--modal-container\" role=\"dialog\" aria-modal=\"true\" aria-label=\",[object Object]\"><button type=\"button\" class=\"bx--visually-hidden\">Focus sentinel</button><div class=\"bx--modal-container-body\"><div class=\"bx--modal-header\"><h2 class=\"bx--modal-header__label bx--type-delta\"><svg focusable=\"false\" preserveAspectRatio=\"xMidYMid meet\" xmlns=\"http://www.w3.org/2000/svg\" fill=\"currentColor\" width=\"16\" height=\"16\" viewBox=\"0 0 32 32\" aria-hidden=\"true\" class=\"bx--locale-modal__label-globe\"><path d=\"M16,2A14,14,0,1,0,30,16,14.0158,14.0158,0,0,0,16,2ZM4.02,16.394l1.3384.4458L7,19.3027v1.2831a1,1,0,0,0,.2929.7071L10,24v2.3765A11.9941,11.9941,0,0,1,4.02,16.394ZM16,28a11.9682,11.9682,0,0,1-2.5718-.2847L14,26l1.8046-4.5116a1,1,0,0,0-.0964-.9261l-1.4113-2.117A1,1,0,0,0,13.4648,18h-4.93L7.2866,16.1274,9.4141,14H11v2h2V13.2656l3.8682-6.7695-1.7364-.9922L14.2769,7H11.5352l-1.086-1.6289A11.861,11.861,0,0,1,20,4.7V8a1,1,0,0,0,1,1h1.4648a1,1,0,0,0,.8321-.4453l.8769-1.3154A12.0331,12.0331,0,0,1,26.8945,11H22.82a1,1,0,0,0-.9806.8039l-.7221,4.4708a1,1,0,0,0,.54,1.0539L25,19l.6851,4.0557A11.9793,11.9793,0,0,1,16,28Z\"></path></svg></h2><button class=\"bx--modal-close\" title=\"Close\" aria-label=\"Close\" type=\"button\"><svg focusable=\"false\" preserveAspectRatio=\"xMidYMid meet\" xmlns=\"http://www.w3.org/2000/svg\" fill=\"currentColor\" width=\"20\" height=\"20\" viewBox=\"0 0 32 32\" aria-hidden=\"true\" class=\"bx--modal-close__icon\"><path d=\"M24 9.4L22.6 8 16 14.6 9.4 8 8 9.4 14.6 16 8 22.6 9.4 24 16 17.4 22.6 24 24 22.6 17.4 16 24 9.4z\"></path></svg></button></div><div class=\"bx--modal-content bx--locale-modal \"><div class=\"bx--grid bx--no-gutter bx--locale-modal__regions\"><div class=\"bx--row\"></div></div><div class=\"bx--locale-modal__filter\"><div class=\"bx--locale-modal__search\"><div role=\"search\" aria-labelledby=\"bx--locale-modal__filter-search\" class=\"bx--search bx--search--xl\"><div class=\"bx--search-magnifier\"><svg focusable=\"false\" preserveAspectRatio=\"xMidYMid meet\" xmlns=\"http://www.w3.org/2000/svg\" fill=\"currentColor\" width=\"16\" height=\"16\" viewBox=\"0 0 16 16\" aria-hidden=\"true\" class=\"bx--search-magnifier-icon\"><path d=\"M15,14.3L10.7,10c1.9-2.3,1.6-5.8-0.7-7.7S4.2,0.7,2.3,3S0.7,8.8,3,10.7c2,1.7,5,1.7,7,0l4.3,4.3L15,14.3z M2,6.5\\tC2,4,4,2,6.5,2S11,4,11,6.5S9,11,6.5,11S2,9,2,6.5z\"></path></svg></div><label id=\"bx--locale-modal__filter-search\" for=\"bx--locale-modal__filter\" class=\"bx--label\">Search by location or language</label><input type=\"text\" role=\"searchbox\" autoComplete=\"off\" data-autoid=\"dds--locale-modal__filter\" tabindex=\"0\" class=\"bx--search-input\" id=\"bx--locale-modal__filter\" placeholder=\"\"/><button class=\"bx--search-close bx--search-close--hidden\" type=\"button\" aria-label=\"Clear search input\"><svg focusable=\"false\" preserveAspectRatio=\"xMidYMid meet\" xmlns=\"http://www.w3.org/2000/svg\" fill=\"currentColor\" width=\"16\" height=\"16\" viewBox=\"0 0 32 32\" aria-hidden=\"true\"><path d=\"M24 9.4L22.6 8 16 14.6 9.4 8 8 9.4 14.6 16 8 22.6 9.4 24 16 17.4 22.6 24 24 22.6 17.4 16 24 9.4z\"></path></svg></button></div><p class=\"bx--locale-modal__search-text\"></p></div><ul class=\"bx--locale-modal__list\"><p class=\"bx--assistive-text\" role=\"status\" aria-live=\"assertive\"></p></ul></div></div></div><button type=\"button\" class=\"bx--visually-hidden\">Focus sentinel</button></div></div></div></div></div></div></section></footer></main><script src=\"https://cdn.jsdelivr.net/npm/react@17/umd/react.production.min.js\"></script><script src=\"https://cdn.jsdelivr.net/npm/react-dom@17/umd/react-dom.production.min.js\"></script><script src=\"https://cdn.jsdelivr.net/npm/react-intl@5/dist/react-intl.min.js\"></script></div></div><script src=\"//1.www.s81c.com/common/stats/ibm-common.js\" defer=\"\"></script><link href=\"//1.www.s81c.com/common/v18/css/forms.css\" rel=\"stylesheet\"/></div><script id=\"__NEXT_DATA__\" type=\"application/json\">{\"props\":{\"pageProps\":{\"data\":{\"_id\":\"7ec18a83cb1c595406965cba92f231c4\",\"_rev\":\"12563-7cf1a5a12e0bfc51554ea02d1a839da6\",\"type\":\"production\",\"sections\":{\"leadspace\":{\"data\":{\"content\":[{\"blocklink\":true,\"largeCol\":\"bx--col-lg-6\",\"imagePos\":\"top right\",\"bgColor\":\"#000000\",\"ctaType\":\"links\",\"ctaColor\":\"gray-90\",\"webm\":\"\",\"gif\":\"\",\"videoImage\":\"\",\"ibmEvLinkTitle\":\"\",\"ibmEvGroup\":\"\",\"ibmEvName\":\"\",\"ibmEvSection\":\"L1\",\"ibmEvTarget\":\"\",\"lsPaddingTop\":\"ibm-pt-5\",\"lsPaddingBottom\":\"ibm-pb-5\",\"ctaOneVideoID\":\"\",\"ctaOneIcon\":\"forward\",\"videoID\":\"\",\"mp4\":\"\",\"type\":\"carbon\",\"ctaTwoVideoID\":\"\",\"ctaTwoIcon\":\"forward\",\"videoType\":\"kaltura\",\"alternate\":true,\"titleType\":\"bx--type-expressive-heading-05\",\"title\":\"The best of IBM 2022\\\\n\",\"copy\":\"From quantum breakthroughs to drug discovery, these 11 stories point to a brighter, more sustainable future\\\\n\",\"timestamp\":1671460488507,\"ctaOne\":\"See the year in review\",\"ctaOneLink\":\"https://www.ibm.com/thought-leadership/best-of/2022/?lnk=ushpv18l1\",\"airtableID\":\"27195\",\"imageMobile\":\"https://1.dam.s81c.com/p/0a23e3c651299e47/20221216-best-of-2022-mobile-720x360.jpg\",\"image\":\"https://1.dam.s81c.com/p/0a23e3c651299e48/20221216-best-of-2022-2304x983.jpg\",\"videoPosition\":\"video-center\",\"imageAlt\":\"Collage of semiconductor, 6 new creators, mayflower ship, man in a cleanroom, woman writing on a whiteboard, 2 men moving a mainframe \"}]}},\"newsflash\":{\"data\":{\"content\":[{\"active\":false,\"videoID\":\"\",\"bgColor\":\"#001d6c\",\"videoType\":\"kaltura\",\"ibmEvSection\":\"NF1\",\"airtableID\":\"\",\"sandbox\":false,\"title\":\"\\\\u003cstrong\\\\u003eLive updates\\\\u003c/strong\\\\u003e: See the latest product announcements and thought leadership from Think\\\\u0026nbsp;\\\\u0026#8594;\",\"stage\":false,\"timestamp\":1684332093342,\"videoTitle\":\"\",\"videoDesc\":\"\",\"link\":\"https://newsroom.ibm.com/2023-05-09-IBM-Unveils-the-Watsonx-Platform-to-Power-Next-Generation-Foundation-Models-for-Business?lnk=ushpv18nf1\"},{\"active\":false,\"videoID\":\"\",\"bgColor\":\"#001d6c\",\"videoType\":\"kaltura\",\"ibmEvSection\":\"NF2\",\"airtableID\":\"\",\"sandbox\":false,\"title\":\"\\\\u003cstrong\\\\u003eNew\\\\u003c/strong\\\\u003e: \\\\u0026nbsp;\\\\u0026#8594;\",\"stage\":false,\"timestamp\":1680192662088},{\"active\":false,\"videoID\":\"\",\"bgColor\":\"#001d6c\",\"videoType\":\"kaltura\",\"ibmEvSection\":\"NF3\",\"airtableID\":\"\",\"sandbox\":false,\"title\":\"\\\\u003cstrong\\\\u003eNew\\\\u003c/strong\\\\u003e: this is copy\\\\u0026nbsp;\\\\u0026#8594;\",\"stage\":false,\"timestamp\":1680192964674,\"videoTitle\":\"\",\"videoDesc\":\"\",\"link\":\"https://www.ibm.com/thought-leadership/smart/talks/?lnk=ushpv18nf3\"},{\"active\":false,\"videoID\":\"\",\"bgColor\":\"#001d6c\",\"videoType\":\"kaltura\",\"ibmEvSection\":\"NF4\",\"airtableID\":\"\",\"sandbox\":false,\"title\":\"\\\\u003cstrong\\\\u003eNews\\\\u003c/strong\\\\u003e: \\\\u0026nbsp;\\\\u0026#8594;\",\"stage\":false,\"timestamp\":1679574208771},{\"active\":false,\"videoID\":\"\",\"bgColor\":\"#001d6c\",\"videoType\":\"kaltura\",\"ibmEvSection\":\"NF5\",\"airtableID\":\"\",\"sandbox\":false,\"title\":\"\\\\u003cstrong\\\\u003eNew\\\\u003c/strong\\\\u003e \\\\u0026nbsp;\\\\u0026#8594;\",\"stage\":false,\"timestamp\":1679345827767,\"videoDesc\":\"\",\"link\":\"\"},{\"active\":false,\"videoID\":\"\",\"bgColor\":\"#001d6c\",\"videoType\":\"kaltura\",\"ibmEvSection\":\"NF6\",\"airtableID\":\"\",\"sandbox\":false,\"title\":\"\\\\u003cstrong\\\\u003eNew\\\\u003c/strong\\\\u003e: IBMâ\\x80\\x99s comprehensive Data Management for Analytics foundation earns Leader status in 2023 Forrester Wave\\\\u0026nbsp;\\\\u0026#8594;\",\"stage\":false,\"timestamp\":1680547087561,\"videoTitle\":\"\",\"videoDesc\":\"\",\"link\":\"https://www.ibm.com/blog/ibm-named-a-leader-in-the-forrester-wave-data-management-for-analytics-q1-2023/?lnk=ushpv18nf6\"},{\"active\":false,\"videoID\":\"\",\"bgColor\":\"#001d6c\",\"videoType\":\"kaltura\",\"ibmEvSection\":\"NF7\",\"airtableID\":\"\",\"sandbox\":false,\"title\":\"\\\\u003cstrong\\\\u003eNew\\\\u003c/strong\\\\u003e: IBM and Cleveland Clinic unveil the first quantum computer dedicated to healthcare research\\\\u0026nbsp;\\\\u0026#8594;\",\"stage\":false,\"timestamp\":1679519285897,\"link\":\"https://newsroom.ibm.com/2023-03-20-Cleveland-Clinic-and-IBM-Unveil-First-Quantum-Computer-Dedicated-to-Healthcare-Research?lnk=ushpv18nf7\"},{\"active\":false,\"videoID\":\"\",\"bgColor\":\"#001d6c\",\"videoType\":\"kaltura\",\"ibmEvSection\":\"NF8\",\"airtableID\":\"\",\"sandbox\":false,\"title\":\"\\\\u003cstrong\\\\u003eNew\\\\u003c/strong\\\\u003e: AI-based sustainability solutions offer hope for 2.3 billion people living in water-stressed countries\\\\u0026nbsp;\\\\u0026#8594;\",\"stage\":false,\"timestamp\":1679574191891,\"link\":\"https://www.ibm.com/blog/how-technology-can-help-save-our-water-supply?lnk=ushpv18nf8\"}]}},\"mastheadbtn\":{\"data\":{\"content\":[{\"stage\":false,\"tool\":false,\"title\":\"Stay safe, y\\\\u0026#8217;all.\",\"link\":\"https://www.ibm.com/impact/covid-19/?lnk=ushpv18mb\",\"active\":false,\"timestamp\":1591040701251}]}},\"featured\":{\"data\":{\"content\":[{\"videoImage\":\"\",\"videoType\":\"kaltura\",\"ibmEvLinkTitle\":\"\",\"ibmEvGroup\":\"\",\"ibmEvName\":\"\",\"ibmEvSection\":\"F1\",\"ibmEvTarget\":\"\",\"damVideoMP4\":\"\",\"damVideoWebM\":\"\",\"icon\":\"forward\",\"videoID\":\"\",\"title\":\"27164 IBM iX\",\"timestamp\":1670602077463,\"airtableID\":\"27164\",\"eyebrow\":\"IBM iX: design-led, data-driven\",\"copy\":\"A human-centered approach helps IBM Consulting clients transform customer and employee experiences\",\"image\":\"https://1.dam.s81c.com/p/0868c64e393cf933/2017_12_Slowell_Inside_IBM_Cloud_developers_242.jpg.global.s_4x3.jpg\",\"imageAlt\":\"Two co-workers talking at a desk\",\"button\":\"\",\"link\":\"https://www.ibm.com/consulting/ibmix?lnk=ushpv18f1\"},{\"videoImage\":\"\",\"videoType\":\"youtube\",\"ibmEvLinkTitle\":\"\",\"ibmEvGroup\":\"\",\"ibmEvName\":\"\",\"ibmEvSection\":\"F2\",\"ibmEvTarget\":\"\",\"damVideoMP4\":\"\",\"damVideoWebM\":\"\",\"icon\":\"forward\",\"videoID\":\"\",\"title\":\"27173 Is your business cybersafe?\",\"copy\":\"Work with senior security consultants to understand where you are and where you need to go in this free 3\\\\u0026#8209;hour workshop\",\"eyebrow\":\"Is your business cybersafe?\\\\n\",\"timestamp\":1670602025015,\"airtableID\":\"27173\",\"image\":\"https://1.dam.s81c.com/p/08a56f9ac246227c/20220801_26754_Countdown-to-Ransomware-guide-security-intelligence-444x333.jpg\",\"link\":\"https://www.ibm.com/security/resources/workshop?lnk=ushpv18f2\",\"imageAlt\":\"Three IBM Security employees at a conference table interacting with a man at a whiteboard\"},{\"videoImage\":\"\",\"videoType\":\"youtube\",\"ibmEvLinkTitle\":\"\",\"ibmEvGroup\":\"\",\"ibmEvName\":\"\",\"ibmEvSection\":\"F3\",\"ibmEvTarget\":\"\",\"damVideoMP4\":\"\",\"damVideoWebM\":\"\",\"icon\":\"forward\",\"videoID\":\"\",\"title\":\"27158 Food trust/FSMA\",\"timestamp\":1670605658975,\"airtableID\":\"27158\",\"copy\":\"IBM Food Trust ensures a safer food supply and simplifies compliance with the latest US FDA traceability rules\",\"image\":\"https://1.dam.s81c.com/p/04d38222a5bc17ff/84962edd-c289-4d32-ad92a178655984d5.jpg.global.s_4x3.jpg\",\"mobileImg\":\"https://1.dam.s81c.com/public/content/dam/worldwide-content/homepage/ul/g/9e/7c/20210823-f-swiss-re-case-study-26069.jpg\",\"eyebrow\":\"A higher standard, farm to fork\",\"link\":\"https://www.ibm.com/products/supply-chain-intelligence-suite/food-trust?lnk=ushpv18f3\",\"imageAlt\":\"Oranges on a factory assembly line\"},{\"videoImage\":\"\",\"videoType\":\"youtube\",\"ibmEvLinkTitle\":\"\",\"ibmEvGroup\":\"\",\"ibmEvName\":\"\",\"ibmEvSection\":\"F4\",\"ibmEvTarget\":\"\",\"damVideoMP4\":\"\",\"damVideoWebM\":\"\",\"icon\":\"forward\",\"videoID\":\"\",\"title\":\"27177 Year in review newsletters\",\"image\":\"https://1.dam.s81c.com/p/08243aa34ebb7a36/2022_05_10_SpencerLowell_WorkingWorld_IBM_Brand_Library_285.jpg.global.s_4x3.jpg\",\"copy\":\"Three year-in-review newsletters will highlight the impact of todayâ\\x80\\x99s technology on the future of business. Subscribe now.\",\"eyebrow\":\"2022â\\x80\\x99s top thought leadership\",\"timestamp\":1670853303889,\"airtableID\":\"27177\",\"link\":\"https://www.ibm.com/subscribe/?lnk=ushpv18f4\",\"imageAlt\":\"Orion Crew Module solar panel mockup deployment test at NASA Glen Research Center in Sandusky, Ohio\"},{\"subcopy\":\"\",\"ibmEvLinkTitle\":\"\",\"ibmEvGroup\":\"\",\"ibmEvName\":\"\",\"ibmEvSection\":\"F5\",\"ibmEvTarget\":\"\",\"button_mobile\":\"t1\",\"videoID\":\"\",\"icon\":\"forward\",\"image\":\"\",\"title\":\"\",\"eyebrow\":\"\",\"copy\":\"\",\"button\":\"\",\"timestamp\":1644590702649,\"airtableID\":\"\",\"link\":\"\"},{\"subcopy\":\"\",\"ibmEvLinkTitle\":\"\",\"ibmEvGroup\":\"\",\"ibmEvName\":\"\",\"ibmEvSection\":\"F6\",\"ibmEvTarget\":\"\",\"button_mobile\":\"t1\",\"videoID\":\"\",\"icon\":\"forward\",\"image\":\"https://1.dam.s81c.com/public/content/dam/worldwide-content/homepage/ul/g/7b/7b/20220117-cloud-simplicity-26358-2304x983.png\",\"title\":\"\",\"eyebrow\":\"A unified cloud experience\",\"copy\":\"Build, deploy and scale faster across any environment with consistency and security\",\"button\":\"Simplify your multicloud\",\"timestamp\":1643665707293,\"airtableID\":\"\",\"link\":\"https://www.ibm.com/cloud/campaign/cloud-simplicity?lnk=ushpv18f6\"},{\"videoImage\":\"\",\"videoType\":\"youtube\",\"ibmEvLinkTitle\":\"\",\"ibmEvGroup\":\"\",\"ibmEvName\":\"\",\"ibmEvSection\":\"F7\",\"ibmEvTarget\":\"\",\"damVideoMP4\":\"\",\"damVideoWebM\":\"\",\"icon\":\"forward\",\"videoID\":\"\",\"title\":\"\",\"link\":\"https://www.ibm.com/consulting/?lnk=ushpv18f7\",\"image\":\"https://1.dam.s81c.com/public/content/dam/worldwide-content/homepage/ul/g/ae/b2/20211103-f-ibm-consulting-26242.gif\",\"eyebrow\":\"Move fast and far with IBM Consulting\",\"copy\":\"Together, we can turn ideas into action better than we ever could alone\",\"button\":\"Navigate the new rules of modern business with a partner you\\\\u0026nbsp;trust\",\"timestamp\":1643665749045,\"airtableID\":\"\"},{\"videoID\":\"\",\"videoImage\":\"\",\"videoType\":\"youtube\",\"ibmEvLinkTitle\":\"\",\"ibmEvGroup\":\"\",\"ibmEvName\":\"\",\"ibmEvSection\":\"F8\",\"ibmEvTarget\":\"\",\"damVideoMP4\":\"\",\"damVideoWebM\":\"\",\"icon\":\"forward\",\"timestamp\":1643665604671,\"title\":\"\",\"eyebrow\":\"\",\"button\":\"\",\"copy\":\"\",\"image\":\"\",\"link\":\"\",\"airtableID\":\"\"},{\"videoImage\":\"\",\"videoType\":\"kaltura\",\"ibmEvLinkTitle\":\"\",\"ibmEvGroup\":\"\",\"ibmEvName\":\"\",\"ibmEvSection\":\"F9\",\"ibmEvTarget\":\"\",\"damVideoMP4\":\"\",\"damVideoWebM\":\"\",\"icon\":\"forward\",\"videoID\":\"\",\"title\":\"\",\"image\":\"\",\"link\":\"\",\"button\":\"\",\"eyebrow\":\"\",\"copy\":\"\",\"timestamp\":1643665619583,\"airtableID\":\"\"},{\"subcopy\":\"\",\"ibmEvLinkTitle\":\"\",\"ibmEvGroup\":\"\",\"ibmEvName\":\"\",\"ibmEvSection\":\"F10\",\"ibmEvTarget\":\"\",\"button_mobile\":\"t1\",\"videoID\":\"\",\"icon\":\"forward\",\"image\":\"\",\"title\":\"\",\"eyebrow\":\"\",\"copy\":\"\",\"button\":\"\",\"link\":\"\",\"timestamp\":1643665630573,\"airtableID\":\"\"},{\"subcopy\":\"\",\"ibmEvLinkTitle\":\"\",\"ibmEvGroup\":\"\",\"ibmEvName\":\"\",\"ibmEvSection\":\"F11\",\"ibmEvTarget\":\"\",\"button_mobile\":\"t1\",\"videoID\":\"\",\"icon\":\"forward\",\"image\":\"\",\"title\":\"\",\"eyebrow\":\"\",\"copy\":\"\",\"button\":\"\",\"link\":\"\",\"timestamp\":1643665641479,\"airtableID\":\"\"},{\"videoImage\":\"\",\"videoType\":\"kaltura\",\"ibmEvLinkTitle\":\"\",\"ibmEvGroup\":\"\",\"ibmEvName\":\"\",\"ibmEvSection\":\"F12\",\"ibmEvTarget\":\"\",\"damVideoMP4\":\"\",\"damVideoWebM\":\"\",\"icon\":\"forward\",\"videoID\":\"\",\"title\":\"\",\"eyebrow\":\"\",\"copy\":\"\",\"button\":\"\",\"image\":\"\",\"link\":\"\",\"timestamp\":1643665651571,\"airtableID\":\"\"}]},\"config\":{\"type\":\"quatro\",\"totalCards\":\"12\"}},\"research\":{\"data\":{\"content\":[{\"videoImage\":\"\",\"videoType\":\"youtube\",\"ibmEvLinkTitle\":\"\",\"ibmEvGroup\":\"\",\"ibmEvName\":\"\",\"ibmEvSection\":\"R1\",\"ibmEvTarget\":\"\",\"damVideoMP4\":\"\",\"damVideoWebM\":\"\",\"icon\":\"forward\",\"videoID\":\"\",\"title\":\"27189 Spot the dog safety monitor\",\"timestamp\":1670853838373,\"airtableID\":\"27189\",\"image\":\"https://1.dam.s81c.com/p/0a23e41430abcb17/20221208-r1-spot-the-dog-robotics-offerings-27188-1600x900.jpg\",\"mobileImg\":\"https://1.dam.s81c.com/public/content/dam/worldwide-content/homepage/ul/g/9e/7c/20210823-f-swiss-re-case-study-26069.jpg\",\"headline\":\"Pin-Yu Chen challenges AI every day to build the most trustworthy systems possible\",\"eyebrow\":\"Will Spot the danger-detecting robot be your safety inspectorâ\\x80\\x99s best friend?\",\"imageAlt\":\"composite image featuring Spot, the dog-like robot\",\"copy\":\"\\\\n\",\"link\":\"https://research.ibm.com/blog/ibm-ai-edge-national-grid-monitoring?lnk=ushpv18r1\"},{\"videoImage\":\"\",\"videoType\":\"youtube\",\"ibmEvLinkTitle\":\"\",\"ibmEvGroup\":\"\",\"ibmEvName\":\"\",\"ibmEvSection\":\"R2\",\"ibmEvTarget\":\"\",\"damVideoMP4\":\"\",\"damVideoWebM\":\"\",\"icon\":\"forward\",\"videoID\":\"\",\"title\":\"27190 Quantum Open Science Prize\",\"timestamp\":1670593706262,\"airtableID\":\"27190\",\"copy\":\"\\\\n\",\"image\":\"https://1.dam.s81c.com/p/09f257ea96c87909/20221205-r1-quantum-open-science-prize-1600x900.png\",\"mobileImg\":\"https://1.dam.s81c.com/public/content/dam/worldwide-content/homepage/ul/g/9e/7c/20210823-f-swiss-re-case-study-26069.jpg\",\"headline\":\"AI processes can have a massive carbon footprint. They donâ\\x80\\x99t have to, thanks to analog AI.\",\"eyebrow\":\"IBM Quantumâ\\x80\\x99s Open Science Prize seeks the best open source solutions to pressing problems\",\"imageAlt\":\"Schematic illustration of the honeycomb-pattered Kagome lattice\",\"link\":\"https://research.ibm.com/blog/ibm-quantum-open-science-prize-2022?lnk=ushpv18r2\"},{\"videoImage\":\"\",\"videoType\":\"youtube\",\"ibmEvLinkTitle\":\"\",\"ibmEvGroup\":\"\",\"ibmEvName\":\"\",\"ibmEvSection\":\"R3\",\"ibmEvTarget\":\"\",\"damVideoMP4\":\"\",\"damVideoWebM\":\"\",\"icon\":\"forward\",\"videoID\":\"\",\"title\":\"27191 Ruthenium 1nm chip\",\"timestamp\":1670593873723,\"airtableID\":\"27191\",\"copy\":\"\\\\n\",\"image\":\"https://1.dam.s81c.com/p/09e9905470286c48/20221205-r1-1nm-chips-ruthenium-27178-1600x900.jpg\",\"mobileImg\":\"https://1.dam.s81c.com/public/content/dam/worldwide-content/homepage/ul/g/9e/7c/20210823-f-swiss-re-case-study-26069.jpg\",\"headline\":\"AI processes can have a massive carbon footprint. They donâ\\x80\\x99t have to, thanks to analog AI.\",\"eyebrow\":\"The 1-nanometer future: a metal called ruthenium will shrink the worldâ\\x80\\x99s smallest chip below 2nm\",\"imageAlt\":\"Fingers holding a chip wafer with a computer chip closeup in an inset\",\"link\":\"https://research.ibm.com/blog/1nm-chips-vtfet-ruthenium?lnk=ushpv18r3\"},{\"videoImage\":\"\",\"videoType\":\"youtube\",\"ibmEvLinkTitle\":\"\",\"ibmEvGroup\":\"\",\"ibmEvName\":\"\",\"ibmEvSection\":\"R4\",\"ibmEvTarget\":\"\",\"damVideoMP4\":\"\",\"damVideoWebM\":\"\",\"icon\":\"forward\",\"videoID\":\"https://www.ibm.com/thought-leadership/institute-business-value/report/space-cloud-computing\",\"title\":\"27192 PyTorch AI foundation models\",\"timestamp\":1670593999804,\"airtableID\":\"27192\",\"image\":\"https://1.dam.s81c.com/p/09e98ff48ebdd003/20221128-r-pytorch-foundational-models-27155-800x450.png\",\"mobileImg\":\"https://1.dam.s81c.com/public/content/dam/worldwide-content/homepage/ul/g/9e/7c/20210823-f-swiss-re-case-study-26069.jpg\",\"headline\":\"Pin-Yu Chen challenges AI every day to build the most trustworthy systems possible\",\"eyebrow\":\"Train large AI models using standard Ethernet networking on Red Hat OpenShift, on any cloud\\\\n\",\"imageAlt\":\"intersecting groups of lines representing networking\",\"copy\":\"\\\\n\",\"link\":\"https://research.ibm.com/blog/ibm-pytorch-cloud-ai-ethernet?lnk=ushpv18r4\"}]},\"config\":{\"enabled\":\"true\",\"type\":\"carousel\",\"totalCards\":\"12\"}},\"makers\":{\"data\":{\"content\":[{\"alternate\":true,\"ctaColor\":\"red-50\",\"ibmEvLinkTitle\":\"\",\"ibmEvGroup\":\"\",\"ibmEvName\":\"case study\",\"ibmEvSection\":\"M1\",\"ibmEvTarget\":\"\",\"imageMobile\":\"\",\"damVideoMP4\":\"\",\"damVideoWebM\":\"\",\"ctaCopyThree\":\"\",\"ctaLinkTwoThree\":\"\",\"imagePos\":\"center center\",\"copyTwo\":\"\",\"videoType\":\"kaltura\",\"eyebrow\":\"Sustainability insights make facilities work more efficiently\",\"airtableID\":\"27171\",\"videoID\":\"\",\"mobileColumnHalf\":true,\"timestamp\":1671118406356,\"ctaLinkOne\":\"https://www.ibm.com/case-studies/audi-uk/?lnk=ushpv18cs1\",\"copyOne\":\"A commitment to enhanced user experience enabled Audi UK to deepen its connection to customers\",\"title\":\"27171 GRE-Envizi\",\"ctaCopyOne\":\"See how IBM Consulting helped boost lead generation by 59%\",\"button\":\"See how data provided by the Envizi ESG Suite helped IBM reduce carbon emissions by 62%\",\"copy\":\"IBM Global Real Estate needed a greener way to manage more than 50 million square feet of space worldwide\",\"link\":\"https://www.ibm.com/case-studies/ibm-gre?lnk=ushpv18m1\",\"image\":\"https://1.dam.s81c.com/p/09e9905470a86c9a/20221212-m-gre-envizi-27171-1600x900.jpg\",\"imageAlt\":\"A Black professional in an office building overlooking green landscape\"},{\"alternate\":true,\"ctaColor\":\"red-50\",\"ibmEvLinkTitle\":\"\",\"ibmEvGroup\":\"\",\"ibmEvName\":\"case study\",\"ibmEvSection\":\"M2\",\"ibmEvTarget\":\"\",\"imageMobile\":\"\",\"damVideoMP4\":\"\",\"damVideoWebM\":\"\",\"ctaCopyThree\":\"\",\"ctaLinkTwoThree\":\"\",\"imagePos\":\"center center\",\"copyTwo\":\"\",\"videoType\":\"kaltura\",\"eyebrow\":\"For predictable trains, we need predictive maintenance\",\"airtableID\":\"27193\",\"videoID\":\"\",\"mobileColumnHalf\":true,\"timestamp\":1670599073776,\"ctaLinkOne\":\"https://www.ibm.com/case-studies/audi-uk/?lnk=ushpv18cs1\",\"copyOne\":\"A commitment to enhanced user experience enabled Audi UK to deepen its connection to customers\",\"title\":\"27193 Downer Group\",\"ctaCopyOne\":\"See how IBM Consulting helped boost lead generation by 59%\",\"button\":\"Working with IBM Consulting, they created TrainDNA and increased reliability by 51%\",\"copy\":\"When Australia moved to outsource operation of its railroad system, the Downer Group needed a way to handle a huge new workload\",\"link\":\"https://www.ibm.com/case-studies/downer?lnk=ushpv18m2\",\"image\":\"https://1.dam.s81c.com/p/09f257ea96c8790a/20221205-m-downer-group-27163-1600x900.jpg\",\"imageAlt\":\"Young woman looking out a train window at the landscape passing by\"},{\"alternate\":true,\"ctaColor\":\"red-50\",\"ibmEvLinkTitle\":\"\",\"ibmEvGroup\":\"\",\"ibmEvName\":\"case study\",\"ibmEvSection\":\"M3\",\"ibmEvTarget\":\"\",\"imageMobile\":\"\",\"damVideoMP4\":\"\",\"damVideoWebM\":\"\",\"ctaCopyThree\":\"\",\"ctaLinkTwoThree\":\"\",\"imagePos\":\"center center\",\"copyTwo\":\"\",\"videoType\":\"kaltura\",\"eyebrow\":\"New Jersey keeps the heat and lights on for those in need\",\"airtableID\":\"27194\",\"videoID\":\"\",\"mobileColumnHalf\":true,\"timestamp\":1670599058497,\"ctaLinkOne\":\"https://www.ibm.com/case-studies/audi-uk/?lnk=ushpv18cs1\",\"copyOne\":\"A commitment to enhanced user experience enabled Audi UK to deepen its connection to customers\",\"title\":\"27194 State of New Jersey\",\"ctaCopyOne\":\"See how IBM Consulting helped boost lead generation by 59%\",\"button\":\"IBM Consulting designed a portal that handles 6,200 calls a month, fast-tracking $127M in relief\",\"copy\":\"The pandemic caused many low-income residents to fall behind on their utility bills, putting their home heating at risk\",\"link\":\"https://www.ibm.com/case-studies/new-jersey-department-of-community-affairs/?lnk=ushpv18m3\",\"image\":\"https://1.dam.s81c.com/p/09e98ff48ebdd004/20221128-m-new-jersey-department-of-community-affairs-27154-1600x900.jpg\",\"imageAlt\":\"Winter view of suburban houses through frost on a window\"}]},\"config\":{\"enabled\":\"true\",\"type\":\"carousel\",\"totalCards\":\"12\"}},\"tech\":{\"data\":{\"content\":[{\"imageMobile\":\"10312017-n-episode6-starwars-600x260.jpg\",\"videoType\":\"kaltura\",\"ibmEvLinkTitle\":\"Dear Tech Sonoma\",\"ibmEvGroup\":\"Advertising\",\"ibmEvName\":\"Ad support\",\"ibmEvSection\":\"DT\",\"ibmEvTarget\":\"\",\"damVideoMP4\":\"\",\"damVideoWebM\":\"\",\"videoID\":\"\",\"icon\":\"forward\",\"copy\":\"\",\"link\":\"\",\"airtableID\":\"\",\"title\":\"\",\"eyebrow\":\"\",\"button\":\"\",\"image\":\"\",\"timestamp\":1598626304757},{\"icon\":\"forward\",\"videoID\":\"\",\"videoType\":\"kaltura\",\"ibmEvLinkTitle\":\"Network Consulting Services\",\"ibmEvGroup\":\"GTS\",\"ibmEvName\":\"service\",\"ibmEvSection\":\"BT\",\"ibmEvTarget\":\"\",\"damVideoMP4\":\"\",\"damVideoWebM\":\"\",\"title\":\"\",\"eyebrow\":\"\",\"image\":\"\",\"copy\":\"\",\"button\":\"\",\"link\":\"\",\"timestamp\":1598626317181,\"airtableID\":\"\"},{\"videoType\":\"kaltura\",\"ibmEvLinkTitle\":\"Systems TechU Las Vegas\",\"ibmEvGroup\":\"STG\",\"ibmEvName\":\"event\",\"ibmEvSection\":\"ST\",\"ibmEvTarget\":\"\",\"damVideoMP4\":\"\",\"damVideoWebM\":\"\",\"videoID\":\"\",\"icon\":\"play\",\"airtableID\":\"\",\"title\":\"\",\"copy\":\"\",\"eyebrow\":\"\",\"link\":\"\",\"image\":\"\",\"button\":\"\",\"timestamp\":1598626329298}]}},\"trials\":{\"data\":{\"content\":[{\"icon\":\"forward\",\"videoID\":\"\",\"videoImage\":\"\",\"videoType\":\"youtube\",\"ibmEvLinkTitle\":\"\",\"ibmEvGroup\":\"\",\"ibmEvName\":\"\",\"ibmEvSection\":\"T1\",\"ibmEvTarget\":\"\",\"damVideoMP4\":\"\",\"damVideoWebM\":\"\",\"timestamp\":1670594621355,\"title\":\"1303 IBM Watson Assistant\",\"airtableID\":\"1303\",\"copy\":\"Help customers get stuff done quickly, easily, on any channel. Ask for a demo.\",\"eyebrow\":\"IBM Watson Assistant\",\"link\":\"https://www.ibm.com/products/watson-assistant?lnk=ushpv18t1\\\\u0026lnk2=trial_WatAssist\\\\u0026psrc=none\\\\u0026pexp=def\",\"image\":\"https://1.dam.s81c.com/public/content/dam/worldwide-content/homepage/ul/g/ee/15/20220216-t-ibm-watson-assistant.png\",\"imageAlt\":\"The Watson Assistant interface with text boxes and a simulated chatbot\"},{\"subcopy\":\"\",\"ibmEvLinkTitle\":\"\",\"ibmEvGroup\":\"\",\"ibmEvName\":\"\",\"ibmEvSection\":\"T2\",\"ibmEvTarget\":\"\",\"button_mobile\":\"T2\",\"icon\":\"forward\",\"timestamp\":1670594649943,\"title\":\"1304 Cloud Pak for Business Automation\",\"airtableID\":\"1304\",\"copy\":\"Build and scale automation applications on any cloud. Test drive it at no\\\\u0026nbsp;cost.\",\"eyebrow\":\"Cloud Pak for Business Automation\",\"image\":\"https://1.dam.s81c.com/public/content/dam/worldwide-content/homepage/ul/g/67/6a/20220216-t-ibm-cloud-pak-for-automation.png\",\"link\":\"https://www.ibm.com/cloud/cloud-pak-for-automation?lnk=ushpv18t2\\\\u0026lnk2=trial_CloudPakAtm\\\\u0026psrc=none\\\\u0026pexp=def\",\"imageAlt\":\"spreadsheet-type charts\"},{\"subcopy\":\"\",\"ibmEvLinkTitle\":\"\",\"ibmEvGroup\":\"\",\"ibmEvName\":\"\",\"ibmEvSection\":\"T3\",\"ibmEvTarget\":\"\",\"button_mobile\":\"T4\",\"timestamp\":1670594670414,\"airtableID\":\"1305\",\"title\":\"1305 IBM Instana Observability\",\"image\":\"https://1.dam.s81c.com/p/08f951362f270092/Instana-trial-800x450.jpg\",\"eyebrow\":\"IBM Instana Observability\",\"copy\":\"Easily manage the performance of your microservice applications. Get a free trial.\",\"link\":\"https://www.ibm.com/cloud/instana?lnk=ushpv18t3\\\\u0026lnk2=trial_Instana\\\\u0026psrc=none\\\\u0026pexp=def\",\"imageAlt\":\"Instana dashboard with status tables and charts\"},{\"subcopy\":\"\",\"ibmEvLinkTitle\":\"\",\"ibmEvGroup\":\"\",\"ibmEvName\":\"\",\"ibmEvSection\":\"T4\",\"ibmEvTarget\":\"\",\"button_mobile\":\"T4\",\"timestamp\":1645198930856,\"airtableID\":\"\",\"title\":\"\",\"image\":\"\",\"eyebrow\":\"\",\"copy\":\"\",\"button\":\"\",\"link\":\"\"}]}},\"contentspotlight\":{\"data\":{\"content\":[{\"alternate\":true,\"ctaColor\":\"red-50\",\"ibmEvLinkTitle\":\"\",\"ibmEvGroup\":\"\",\"ibmEvName\":\"case study\",\"ibmEvSection\":\"CS1\",\"ibmEvTarget\":\"\",\"imageMobile\":\"\",\"damVideoMP4\":\"\",\"damVideoWebM\":\"\",\"ctaCopyThree\":\"\",\"ctaLinkTwoThree\":\"\",\"imagePos\":\"center left\",\"copyTwo\":\"\",\"videoType\":\"kaltura\",\"eyebrow\":\"\",\"airtableID\":\"\",\"videoID\":\"\",\"mobileColumnHalf\":true,\"timestamp\":1645199476505,\"ctaLinkOne\":\"\",\"copyOne\":\"\",\"title\":\"\",\"ctaCopyOne\":\"\",\"image\":\"\"},{\"alternate\":true,\"image\":\"https://1.dam.s81c.com/public/content/dam/worldwide-content/homepage/ul/g/ea/ca/cs-hub-logos-k-1042x1130.png\",\"ctaColor\":\"red-50\",\"videoID\":\"\",\"videoType\":\"youtube\",\"ibmEvLinkTitle\":\"\",\"ibmEvGroup\":\"\",\"ibmEvName\":\"case study\",\"ibmEvSection\":\"CS2\",\"ibmEvTarget\":\"\",\"imageMobile\":\"\",\"damVideoMP4\":\"\",\"damVideoWebM\":\"\",\"ctaCopyThree\":\"\",\"ctaLinkTwoThree\":\"\",\"imagePos\":\"center center\",\"eyebrow\":\"25339\",\"title\":\"Client success stories\",\"ctaCopyTwo\":\"\",\"ctaCopyOne\":\"Read how industry leaders put smart to work\",\"ctaLinkTwo\":\"\",\"ctaLinkOne\":\"https://www.ibm.com/case-studies/search?search\\\\u0026lnk=ushpv18cs2\",\"copyOne\":\"\",\"copyTwo\":\"\",\"timestamp\":1638195426535,\"airtableID\":\"25339\",\"mobileColumnHalf\":true}]},\"config\":{\"type\":\"dos\"}},\"thinknews\":{\"data\":{\"content\":[{\"videoImage\":\"\",\"videoType\":\"youtube\",\"ibmEvLinkTitle\":\"\",\"ibmEvGroup\":\"\",\"ibmEvName\":\"\",\"ibmEvSection\":\"Th1\",\"ibmEvTarget\":\"\",\"damVideoMP4\":\"\",\"damVideoWebM\":\"\",\"icon\":\"forward\",\"videoID\":\"\",\"label\":\"\",\"title\":\"\",\"image\":\"https://1.dam.s81c.com/p/0797bc3546c3dcc9/20220405-ibm-z-multiframe-annc-444x320-26343.jpg\",\"copy\":\"Breeze through 25 billion secure transactions daily, across any hybrid cloud structure\",\"eyebrow\":\"\",\"timestamp\":1655481021045,\"airtableID\":\"\",\"link\":\"\",\"active\":false,\"sandbox\":false,\"stage\":false},{\"videoImage\":\"\",\"videoType\":\"youtube\",\"ibmEvLinkTitle\":\"\",\"ibmEvGroup\":\"\",\"ibmEvName\":\"\",\"ibmEvSection\":\"Th2\",\"ibmEvTarget\":\"\",\"damVideoMP4\":\"\",\"damVideoWebM\":\"\",\"icon\":\"forward\",\"videoID\":\"\",\"label\":\"\",\"title\":\"\",\"timestamp\":1655481064068,\"airtableID\":\"\",\"eyebrow\":\"\",\"copy\":\"Four out of five companies surveyed use or plan to adopt AI. Find out why.\\\\n\",\"link\":\"\",\"active\":false,\"sandbox\":false,\"stage\":false},{\"videoImage\":\"\",\"videoType\":\"youtube\",\"ibmEvLinkTitle\":\"\",\"ibmEvGroup\":\"\",\"ibmEvName\":\"\",\"ibmEvSection\":\"Th3\",\"ibmEvTarget\":\"\",\"damVideoMP4\":\"\",\"damVideoWebM\":\"\",\"icon\":\"forward\",\"videoID\":\"\",\"label\":\"\",\"title\":\"\",\"timestamp\":1655481115853,\"airtableID\":\"\",\"eyebrow\":\"\",\"copy\":\"Boost your growth with up to $120K in cloud credits and expert mentoring when you join the Startup with IBM program\\\\n\",\"image\":\"https://1.dam.s81c.com/public/content/dam/worldwide-content/homepage/ul/g/0e/e0/20220131-startup-26374-444x320.jpg\",\"link\":\"\",\"active\":false,\"sandbox\":false,\"stage\":false},{\"videoImage\":\"\",\"videoType\":\"youtube\",\"ibmEvLinkTitle\":\"\",\"ibmEvGroup\":\"\",\"ibmEvName\":\"\",\"ibmEvSection\":\"Th4\",\"ibmEvTarget\":\"\",\"damVideoMP4\":\"\",\"damVideoWebM\":\"\",\"icon\":\"forward\",\"videoID\":\"\",\"label\":\"\",\"title\":\"\",\"image\":\"https://1.dam.s81c.com/p/0797bc3546c3dcc9/20220405-ibm-z-multiframe-annc-444x320-26343.jpg\",\"copy\":\"Breeze through 25 billion secure transactions daily, across any hybrid cloud structure\\\\n\",\"eyebrow\":\"\",\"timestamp\":1655481135287,\"airtableID\":\"\",\"link\":\"\",\"active\":false,\"sandbox\":false,\"stage\":false},{\"videoImage\":\"\",\"videoType\":\"youtube\",\"ibmEvLinkTitle\":\"\",\"ibmEvGroup\":\"\",\"ibmEvName\":\"\",\"ibmEvSection\":\"Th5\",\"ibmEvTarget\":\"\",\"damVideoMP4\":\"\",\"damVideoWebM\":\"\",\"icon\":\"forward\",\"videoID\":\"\",\"label\":\"Creativity at work\",\"title\":\"\",\"timestamp\":1652111841522,\"airtableID\":\"\",\"eyebrow\":\"Meet the New Creators, 10 visionaries creatively applying technology in business to drive change\",\"copy\":\"Boost your growth with up to $120K in cloud credits and expert mentoring when you join the Startup with IBM program\\\\n\",\"image\":\"https://1.dam.s81c.com/public/content/dam/worldwide-content/homepage/ul/g/0e/e0/20220131-startup-26374-444x320.jpg\",\"link\":\"https://www.ibm.com/thought-leadership/new-creators?lnk=ushpv18Th3\",\"active\":false,\"sandbox\":false,\"stage\":false},{\"videoImage\":\"\",\"videoType\":\"youtube\",\"ibmEvLinkTitle\":\"\",\"ibmEvGroup\":\"\",\"ibmEvName\":\"\",\"ibmEvSection\":\"Th6\",\"ibmEvTarget\":\"\",\"damVideoMP4\":\"\",\"damVideoWebM\":\"\",\"icon\":\"forward\",\"videoID\":\"\",\"label\":\"Creativity at work\",\"title\":\"\",\"timestamp\":1652111851031,\"airtableID\":\"\",\"eyebrow\":\"Meet the New Creators, 10 visionaries creatively applying technology in business to drive change\",\"copy\":\"Boost your growth with up to $120K in cloud credits and expert mentoring when you join the Startup with IBM program\\\\n\",\"image\":\"https://1.dam.s81c.com/public/content/dam/worldwide-content/homepage/ul/g/0e/e0/20220131-startup-26374-444x320.jpg\",\"link\":\"https://www.ibm.com/thought-leadership/new-creators?lnk=ushpv18Th3\",\"active\":false,\"sandbox\":false,\"stage\":false}]}},\"big6LeadspaceCards\":{\"data\":{\"content\":[{\"title\":\"Work safe. Work smart.\",\"copy\":\"\",\"link\":\"https://www.ibm.com/smarter-business/work-safe?lnk=ushpv18cv1\",\"timestamp\":1591797887933},{\"title\":\"Engage customers anywhere with Watson\",\"copy\":\"\",\"link\":\"https://www.ibm.com/smarter-business/customer-experience?lnk=ushpv18cv2\",\"timestamp\":1591797833198},{\"title\":\"Enhance your IT resiliency and business continuity\",\"copy\":\"\",\"link\":\"https://www.ibm.com/services/business-continuity?lnk=ushpv18cv3\",\"timestamp\":1591797923124},{\"title\":\"Accelerate agility and efficiency with IBM Cloud\",\"copy\":\"\",\"link\":\"https://www.ibm.com/cloud/yourcloud?lnk=ushpv18cv4\",\"timestamp\":1591798189360},{\"title\":\"Protect against new cyber risks\",\"copy\":\"\",\"link\":\"https://www.ibm.com/security?lnk=ushpv18cv5\",\"timestamp\":1591990121847},{\"title\":\"Build resilient supply chains and operations\",\"copy\":\"\",\"link\":\"https://www.ibm.com/supply-chain?lnk=ushpv18cv6\",\"timestamp\":1591990130317}]}},\"certifications\":{\"data\":{\"content\":[{\"ibmEvSection\":\"tc1\",\"image\":\" https://1.dam.s81c.com/public/content/dam/worldwide-content/homepage/ul/g/bb/fd/20211018-cert-tech-u-virtual-edition.png\",\"eyebrow\":\"IBM TechU virtual edition: October 25â\\x80\\x9328\",\"title\":\"IBM TechU 2021, the virtual edition\",\"button\":\"Register to choose from 250+ sessions and labs, and engage live with experts and peers\",\"timestamp\":1634607850644,\"airtableID\":\"26189\",\"link\":\"https://www.ibm.com/training/events/vtechu2021?lnk=ushpv18tc1\",\"mobileImg\":\"https://1.dam.s81c.com/public/content/dam/worldwide-content/homepage/ul/g/bb/fd/20211018-cert-tech-u-virtual-edition.png\",\"copy\":\"\\\\n\"},{\"ibmEvSection\":\"tc2\",\"eyebrow\":\"Design thinking is for everyone\",\"title\":\"26192 Design thinking practitioner \",\"button\":\"Learn how to drive business results by focusing on your usersâ\\x80\\x99 needs in this free course\",\"timestamp\":1634315831253,\"airtableID\":\"26192\",\"mobileImg\":\"https://1.dam.s81c.com/public/content/dam/worldwide-content/homepage/ul/g/e1/3b/20211018-cert-design-thinking.jpg\",\"copy\":\"\\\\n\",\"link\":\"https://www.ibm.com/design/thinking/?lnk=ushpv18tc2\",\"image\":\"https://1.dam.s81c.com/public/content/dam/worldwide-content/homepage/ul/g/e1/3b/20211018-cert-design-thinking.jpg\"}]},\"config\":{\"enabled\":\"true\"}},\"videonews\":{\"data\":{\"content\":[{\"ibmEvSection\":\"vn1\",\"alternateColor\":true,\"eyebrow\":\"AI can take you to places youâ\\x80\\x99ve only dreamed of\\\\n\",\"title\":\"26324 Data Science: Watson Studio\",\"button\":\"Build and scale trusted AI across any cloud\",\"link\":\"https://www.ibm.com/cloud/watson-studio?lnk=ushpv18vn1\",\"timestamp\":1639779183583,\"airtableID\":\"26324\",\"copy\":\"Get there with Watson Studio, a simpler way to turn predictions into decisions collaboratively, on any cloud, on one data and AI platform\",\"videoLength\":\"1:13\",\"videoId\":\"1_iej13uex\",\"image\":\"https://1.dam.s81c.com/public/content/dam/worldwide-content/homepage/ul/g/82/93/20211025-vn-data-science-watson-studio-1200x900.jpg\"},{\"ibmEvSection\":\"vn2\",\"eyebrow\":\"A â\\x80\\x98never trust, always verifyâ\\x80\\x99 security model\\\\n\",\"title\":\"26325 Zero Trust Security\",\"button\":\"Read about zero trust architecture and the future of security\",\"timestamp\":1639779210749,\"airtableID\":\"26325\",\"copy\":\"On average, it can take 77 days to contain an insider data breach. Companies with a zero trust framework in place can do so in near-real time.\",\"videoLength\":\"3:06\",\"videoId\":\"1_yr2j7p5f\",\"image\":\"https://1.dam.s81c.com/public/content/dam/worldwide-content/homepage/ul/g/2e/5a/20211115-vn-zero-trust-security-26254-1200x900.jpg\",\"alternateColor\":true,\"link\":\"https://www.ibm.com/security/zero-trust?lnk=ushpv18vn2\"},{\"ibmEvSection\":\"vn3\",\"eyebrow\":\"Home Trust and IBM Cloud: prepared for the unforeseeable\\\\n\",\"title\":\"26326 Home Trust CS\",\"button\":\"Learn how the right platform supported the workforce during COVID\\\\u0026#8209;19 lockdowns\",\"timestamp\":1639779304922,\"airtableID\":\"26326\",\"copy\":\"Because of an early transition to IBM Cloud, one of Canadaâ\\x80\\x99s leading financial institutions was able to change to remote work and thrive in 2020\",\"videoLength\":\"2:37\",\"videoId\":\"1_fz1liaxf\",\"image\":\"https://1.dam.s81c.com/public/content/dam/worldwide-content/homepage/ul/g/37/78/20211122-vn-home-trust-26271-1200x900.jpg\",\"alternateColor\":true,\"link\":\"https://www.ibm.com/case-studies/home-trust/?lnk=ushpv18vn3\"}]},\"config\":{\"enabled\":\"true\"}}}}},\"__N_SSG\":true},\"page\":\"/\",\"query\":{},\"buildId\":\"GOv78uGYnj1HUWijm7wsY\",\"assetPrefix\":\"/us-en\",\"isFallback\":false,\"gsp\":true}</script><script nomodule=\"\" src=\"/us-en/_next/static/chunks/polyfills-9833fce64ddcd9890799.js\"></script><script src=\"/us-en/_next/static/chunks/webpack-efe80ee844a9022fd0e2.js\" async=\"\"></script><script src=\"/us-en/_next/static/chunks/framework.602aaa49e9cf44108ea4.js\" async=\"\"></script><script src=\"/us-en/_next/static/chunks/commons.486068ba304b1d7b0ba9.js\" async=\"\"></script><script src=\"/us-en/_next/static/chunks/f6078781a05fe1bcb0902d23dbbb2662c8d200b3.5deba672f79b79f44c20.js\" async=\"\"></script><script src=\"/us-en/_next/static/chunks/main-ed6cf0c36d35240496db.js\" async=\"\"></script><script src=\"/us-en/_next/static/chunks/styles.e2ab77bff09fb0e02917.js\" async=\"\"></script><script src=\"/us-en/_next/static/chunks/pages/_app-b018c55b3b549dc21bcb.js\" async=\"\"></script><script src=\"/us-en/_next/static/chunks/1c920f04.f50eb41f4d89f09b8cba.js\" async=\"\"></script><script src=\"/us-en/_next/static/chunks/5f6bb6fb.300dacea822e381d9067.js\" async=\"\"></script><script src=\"/us-en/_next/static/chunks/8f19d780.cfcea62b1bf460ae6516.js\" async=\"\"></script><script src=\"/us-en/_next/static/chunks/262b3caa.2e24298014049ac3eaaf.js\" async=\"\"></script><script src=\"/us-en/_next/static/chunks/8edc3fe5.86126d19706a35cdab30.js\" async=\"\"></script><script src=\"/us-en/_next/static/chunks/fc20e1c4.9c68a4d27f92797da9c2.js\" async=\"\"></script><script src=\"/us-en/_next/static/chunks/23420901.8250c62b5cef01ee1f72.js\" async=\"\"></script><script src=\"/us-en/_next/static/chunks/28aba01c.9d77ad761d36e29722ba.js\" async=\"\"></script><script src=\"/us-en/_next/static/chunks/a37fbe3b.99d9d1e8a14441d7d06c.js\" async=\"\"></script><script src=\"/us-en/_next/static/chunks/bc80632e.c19684f13cd3dbbc2af3.js\" async=\"\"></script><script src=\"/us-en/_next/static/chunks/1dd0fb51.6c2c45d9605e7e99c0d4.js\" async=\"\"></script><script src=\"/us-en/_next/static/chunks/56b0df7b.540169fd68072de46c3b.js\" async=\"\"></script><script src=\"/us-en/_next/static/chunks/b222b98b.3815a5805f6d59029553.js\" async=\"\"></script><script src=\"/us-en/_next/static/chunks/c9b4a249.4d882b671cce9d34b00f.js\" async=\"\"></script><script src=\"/us-en/_next/static/chunks/74de52bc.6ece264c0cfa2f028f06.js\" async=\"\"></script><script src=\"/us-en/_next/static/chunks/500f7593.c3e55e2f29d478eb4839.js\" async=\"\"></script><script src=\"/us-en/_next/static/chunks/4119064d.d083604b6642730ddf69.js\" async=\"\"></script><script src=\"/us-en/_next/static/chunks/ca24283e.6d4677a3e8001704f3af.js\" async=\"\"></script><script src=\"/us-en/_next/static/chunks/44c26961.a64796aedfbe08368340.js\" async=\"\"></script><script src=\"/us-en/_next/static/chunks/8649a756.b2e5165f3e79ff775919.js\" async=\"\"></script><script src=\"/us-en/_next/static/chunks/abb99899.e27821019e35ae97c122.js\" async=\"\"></script><script src=\"/us-en/_next/static/chunks/5d8d49e442f4e00190cb1a13966c1f91ed87c0f4.a46dd657bb763e65563b.js\" async=\"\"></script><script src=\"/us-en/_next/static/chunks/pages/index-79e4fab3989ed0ec8653.js\" async=\"\"></script><script src=\"/us-en/_next/static/GOv78uGYnj1HUWijm7wsY/_buildManifest.js\" async=\"\"></script><script src=\"/us-en/_next/static/GOv78uGYnj1HUWijm7wsY/_ssgManifest.js\" async=\"\"></script><script type=\"text/javascript\"  src=\"/aGyV6V7QFaKuXI0Q-MQ-/O35i2mtSwJ/dGlCBz05LA/LyUNNRxz/NAMB\"></script><link rel=\"stylesheet\" type=\"text/css\"  href=\"/_sec/cp_challenge/sec-3-10.css\">\\n                                        <script  src=\"/_sec/cp_challenge/sec-cpt-3-10.js\" async defer></script>\\n                                        <div id=\"sec-overlay\" style=\"display:none;\">\\n                                        <div id=\"sec-container\">\\n                                        </div>\\n                                      </div></body></html>'"
            ],
            "application/vnd.google.colaboratory.intrinsic+json": {
              "type": "string"
            }
          },
          "metadata": {},
          "execution_count": 96
        }
      ]
    },
    {
      "cell_type": "code",
      "source": [
        "soup = BeautifulSoup(data, \"html.parser\")\n",
        "soup"
      ],
      "metadata": {
        "colab": {
          "base_uri": "https://localhost:8080/"
        },
        "id": "NCE-tCeosfzG",
        "outputId": "97e5de93-f3ba-4906-8da9-8aaf59782d23"
      },
      "execution_count": 102,
      "outputs": [
        {
          "output_type": "execute_result",
          "data": {
            "text/plain": [
              "<!DOCTYPE html>\n",
              "<html lang=\"en-US\"><head><meta content=\"width=device-width\" name=\"viewport\"/><meta charset=\"utf-8\"/><title>IBM - United States</title><link href=\"https://www.ibm.com/us-en\" rel=\"canonical\"/><meta content=\"index,follow\" name=\"robots\"/><meta content=\"For more than a century IBM has been dedicated to every client's success and to creating innovations that matter for the world\" name=\"description\"/><meta content=\"IBM\" name=\"keywords\"/><meta content=\"IE=Edge\" http-equiv=\"X-UA-Compatible\"/><meta content=\"no-cache, no-store, must-revalidate\" http-equiv=\"Cache-Control\"/><meta content=\"no-cache\" http-equiv=\"Pragma\"/><meta content=\"0\" http-equiv=\"Expires\"/><link href=\"//www.ibm.com/favicon.ico\" rel=\"icon\"/><meta content=\"^1.47.0\" name=\"ibmdotcom.version.react\"/><meta content=\"^1.47.0\" name=\"ibmdotcom.version.styles\"/><meta content=\"2023-06-09T14:12:30.183Z\" name=\"ibmdotcom.build.time\"/><meta content=\"2015-10-01\" name=\"dcterms.date\"/><meta content=\"Â© Copyright IBM Corp. 2020\" name=\"dcterms.rights\"/><meta content=\"US\" name=\"geo.country\"/><script>digitalData={\"page\":{\"category\":{\"primaryCategory\":\"SB03\"},\"pageInfo\":{\"effectiveDate\":\"2022-12-15\",\"expiryDate\":\"2027-12-15\",\"language\":\"en-us\",\"publishDate\":\"2023-06-07\",\"publisher\":\"IBM Corporation\",\"version\":\"Carbon:IBM.com Library v1.47.0\",\"ibm\":{\"contentDelivery\":\"HTML\",\"contentProducer\":\"Lance Tappana\",\"country\":\"us\",\"industry\":\"ZZ\",\"owner\":\"Corporate Webmaster/New York/IBM\",\"siteID\":\"GLOBAL\",\"subject\":\"IBM000\",\"type\":\"CT052\",\"messaging\":{\"routing\":{\"focusArea\":\"Miscellaneous - Cross IBM\",\"languageCode\":\"en\",\"regionCode\":\"US\"},\"translation\":{\"languageCode\":\"en\",\"regionCode\":\"US\"}}},\"hotjar\":{\"enabled\":0}}}};</script><script>\n",
              "            window.hj=window.hj||function(){(hj.q=hj.q||[]).push(arguments)};\n",
              "            window.hj('tagRecording', ['hjLoaded']);\n",
              "            document.addEventListener('onMegaMenuToggle', e => {\n",
              "              if(e.target.getAttribute(\"data-title\") == 'products-solutions') {\n",
              "                window.hj('trigger', 'MM_products-solutions');\n",
              "              }\n",
              "              if(e.target.getAttribute(\"data-title\") == 'services-consulting') {\n",
              "                window.hj('trigger', 'MM_services-consulting');\n",
              "              }\n",
              "              if(e.target.getAttribute(\"data-title\") == 'learn-support') {\n",
              "                window.hj('trigger', 'MM_learn-support');\n",
              "              }\n",
              "              if(e.target.getAttribute(\"data-title\") == 'explore-more') {\n",
              "                window.hj('trigger', 'MM_explore-more');\n",
              "              }\n",
              "            });\n",
              "\n",
              "            </script><script src=\"https://1.www.s81c.com/common/carbon-for-ibm-dotcom/tag/v2/alpha/masthead.min.js\" type=\"module\"></script><link href=\"https://www.ibm.com/\" hreflang=\"x-default\" rel=\"alternate\"/><link href=\"https://www.ibm.com/br-pt\" hreflang=\"pt\" rel=\"alternate\"/><link href=\"https://www.ibm.com/ca-en\" hreflang=\"en-CA\" rel=\"alternate\"/><link href=\"https://www.ibm.com/cn-zh\" hreflang=\"zh\" rel=\"alternate\"/><link href=\"https://www.ibm.com/de-de\" hreflang=\"de\" rel=\"alternate\"/><link href=\"https://www.ibm.com/es-es\" hreflang=\"es-ES\" rel=\"alternate\"/><link href=\"https://www.ibm.com/fr-fr\" hreflang=\"fr\" rel=\"alternate\"/><link href=\"https://www.ibm.com/it-it\" hreflang=\"it\" rel=\"alternate\"/><link href=\"https://www.ibm.com/jp-ja\" hreflang=\"ja\" rel=\"alternate\"/><link href=\"https://www.ibm.com/kr-ko\" hreflang=\"ko\" rel=\"alternate\"/><link href=\"https://www.ibm.com/mx-es\" hreflang=\"es\" rel=\"alternate\"/><link href=\"https://www.ibm.com/us-en\" hreflang=\"en\" rel=\"alternate\"/><link href=\"https://www.ibm.com/id-id\" hreflang=\"id\" rel=\"alternate\"/><meta content=\"34\" name=\"next-head-count\"/><link as=\"style\" href=\"/us-en/_next/static/css/styles.0405ed9c.chunk.css\" rel=\"preload\"/><link data-n-g=\"\" href=\"/us-en/_next/static/css/styles.0405ed9c.chunk.css\" rel=\"stylesheet\"/><noscript data-n-css=\"\"></noscript><link as=\"script\" href=\"/us-en/_next/static/chunks/webpack-efe80ee844a9022fd0e2.js\" rel=\"preload\"/><link as=\"script\" href=\"/us-en/_next/static/chunks/framework.602aaa49e9cf44108ea4.js\" rel=\"preload\"/><link as=\"script\" href=\"/us-en/_next/static/chunks/commons.486068ba304b1d7b0ba9.js\" rel=\"preload\"/><link as=\"script\" href=\"/us-en/_next/static/chunks/f6078781a05fe1bcb0902d23dbbb2662c8d200b3.5deba672f79b79f44c20.js\" rel=\"preload\"/><link as=\"script\" href=\"/us-en/_next/static/chunks/main-ed6cf0c36d35240496db.js\" rel=\"preload\"/><link as=\"script\" href=\"/us-en/_next/static/chunks/styles.e2ab77bff09fb0e02917.js\" rel=\"preload\"/><link as=\"script\" href=\"/us-en/_next/static/chunks/pages/_app-b018c55b3b549dc21bcb.js\" rel=\"preload\"/><link as=\"script\" href=\"/us-en/_next/static/chunks/1c920f04.f50eb41f4d89f09b8cba.js\" rel=\"preload\"/><link as=\"script\" href=\"/us-en/_next/static/chunks/5f6bb6fb.300dacea822e381d9067.js\" rel=\"preload\"/><link as=\"script\" href=\"/us-en/_next/static/chunks/8f19d780.cfcea62b1bf460ae6516.js\" rel=\"preload\"/><link as=\"script\" href=\"/us-en/_next/static/chunks/262b3caa.2e24298014049ac3eaaf.js\" rel=\"preload\"/><link as=\"script\" href=\"/us-en/_next/static/chunks/8edc3fe5.86126d19706a35cdab30.js\" rel=\"preload\"/><link as=\"script\" href=\"/us-en/_next/static/chunks/fc20e1c4.9c68a4d27f92797da9c2.js\" rel=\"preload\"/><link as=\"script\" href=\"/us-en/_next/static/chunks/23420901.8250c62b5cef01ee1f72.js\" rel=\"preload\"/><link as=\"script\" href=\"/us-en/_next/static/chunks/28aba01c.9d77ad761d36e29722ba.js\" rel=\"preload\"/><link as=\"script\" href=\"/us-en/_next/static/chunks/a37fbe3b.99d9d1e8a14441d7d06c.js\" rel=\"preload\"/><link as=\"script\" href=\"/us-en/_next/static/chunks/bc80632e.c19684f13cd3dbbc2af3.js\" rel=\"preload\"/><link as=\"script\" href=\"/us-en/_next/static/chunks/1dd0fb51.6c2c45d9605e7e99c0d4.js\" rel=\"preload\"/><link as=\"script\" href=\"/us-en/_next/static/chunks/56b0df7b.540169fd68072de46c3b.js\" rel=\"preload\"/><link as=\"script\" href=\"/us-en/_next/static/chunks/b222b98b.3815a5805f6d59029553.js\" rel=\"preload\"/><link as=\"script\" href=\"/us-en/_next/static/chunks/c9b4a249.4d882b671cce9d34b00f.js\" rel=\"preload\"/><link as=\"script\" href=\"/us-en/_next/static/chunks/74de52bc.6ece264c0cfa2f028f06.js\" rel=\"preload\"/><link as=\"script\" href=\"/us-en/_next/static/chunks/500f7593.c3e55e2f29d478eb4839.js\" rel=\"preload\"/><link as=\"script\" href=\"/us-en/_next/static/chunks/4119064d.d083604b6642730ddf69.js\" rel=\"preload\"/><link as=\"script\" href=\"/us-en/_next/static/chunks/ca24283e.6d4677a3e8001704f3af.js\" rel=\"preload\"/><link as=\"script\" href=\"/us-en/_next/static/chunks/44c26961.a64796aedfbe08368340.js\" rel=\"preload\"/><link as=\"script\" href=\"/us-en/_next/static/chunks/8649a756.b2e5165f3e79ff775919.js\" rel=\"preload\"/><link as=\"script\" href=\"/us-en/_next/static/chunks/abb99899.e27821019e35ae97c122.js\" rel=\"preload\"/><link as=\"script\" href=\"/us-en/_next/static/chunks/5d8d49e442f4e00190cb1a13966c1f91ed87c0f4.a46dd657bb763e65563b.js\" rel=\"preload\"/><link as=\"script\" href=\"/us-en/_next/static/chunks/pages/index-79e4fab3989ed0ec8653.js\" rel=\"preload\"/></head><body><div id=\"__next\"><div><div class=\"bx--dotcom-shell\"><main class=\"dds-ce-demo--ui-shell-content\"><div><dds-masthead-container auth-method=\"profile-api\" data-endpoint=\"/common/carbon-for-ibm-dotcom/translations/masthead-footer/v2\" has-contact=\"false\">\n",
              "</dds-masthead-container></div><div class=\"newsflash-placeholder\"></div><div class=\"bx--leadspace bx--leadspace--super bx--leadspace-with-ctas\" data-autoid=\"dds--leadspace-with-cta\"><section class=\"bx--leadspace__section bx--leadspace--white\"><div class=\"bx--leadspace__container\"><div class=\"bx--leadspace__overlay\"><div class=\"bx--grid bx--no-gutter\"><div class=\"bx--row\"><div class=\"bx--col-sm-4 bx--col-md-8 bx--col-lg-6\"><div class=\"bx--leadspace--content__container\"><div class=\"bx--leadspace__row\"><h1 class=\"bx--leadspace__title\">Put AI to work in the real world</h1></div><div class=\"bx--leadspace__content\"><div class=\"bx--leadspace__row\"><p class=\"bx--leadspace__desc\" data-autoid=\"dds--leadspace__desc\">With digital transformation in mind, partner with IBM experts to scale AI models fit for your business</p></div><dds-video-cta-container><ol class=\"bx--buttongroup\" data-autoid=\"dds--button-group\" style=\"--dds--button-group--item-count:1\"><dds-button-cta cta-type=\"local\" href=\"https://www.ibm.com/resources/the-data-differentiator/scale-ai\" kind=\"primary\">Design your strategy</dds-button-cta></ol></dds-video-cta-container></div></div></div><div class=\"bx--col-sm-4 bx--col-md-8 bx--col-lg-8\"><div><dds-image alt=\"Illustration of AI at work with blue and white interlocking cubes\" default-src=\"https://1.dam.s81c.com/p/08a5a9b9c2464461/01-Your_guide_to_differentiating_with_data_568x320.jpg.global.l_1x1.png\"><dds-image-item media=\"(min-width:1057px)\" srcset=\"https://1.dam.s81c.com/p/08a5a9b9c2464461/01-Your_guide_to_differentiating_with_data_568x320.jpg.global.l_1x1.png\"></dds-image-item><dds-image-item media=\"(min-width:672px)\" srcset=\"https://1.dam.s81c.com/p/08a5a9b9c2464461/01-Your_guide_to_differentiating_with_data_568x320.jpg.global.l_5x2.png\"></dds-image-item><dds-image-item media=\"(min-width:400px)\" srcset=\"https://1.dam.s81c.com/p/08a5a9b9c2464461/01-Your_guide_to_differentiating_with_data_568x320.jpg.global.m_4x3.png\"></dds-image-item><dds-image-item media=\"(min-width:320px)\" srcset=\"https://1.dam.s81c.com/p/08a5a9b9c2464461/01-Your_guide_to_differentiating_with_data_568x320.jpg.global.s_16x9.png\"></dds-image-item></dds-image></div></div><div class=\"bx--col-sm-4 bx--col-md-8 bx--col-lg-2\"><div class=\"bx--link-list\" data-autoid=\"dds--link-list\"><ul class=\"bx--link-list__list bx--link-list__list--card\"><li class=\"bx--link-list__list__CTA bx--link-list__list--external\"><div><div ariarole=\"listitem\" class=\"bx--tile bx--card bx--card-link bx--card__CTA bx--card__CardCTA\" data-autoid=\"dds--card\" href=\"https://ibm-techxchange.bemyapp.com/watsonx\" target=\"_blank\"><div class=\"bx--card__wrapper\"><div class=\"bx--card__content\"><p class=\"bx--card__eyebrow\">watsonx Day</p><h3 class=\"bx--card__heading\">Join the virtual event, 21 June 2023</h3><a aria-label=\"Join the virtual event, 21 June 2023 - This link opens in a new tab\" class=\"bx--link bx--card__footer\" href=\"https://ibm-techxchange.bemyapp.com/watsonx\" rel=\"noopener\" target=\"_blank\"><svg aria-hidden=\"true\" class=\"bx--card__cta\" fill=\"currentColor\" focusable=\"false\" height=\"20\" preserveaspectratio=\"xMidYMid meet\" src=\"[object Object]\" viewbox=\"0 0 32 32\" width=\"20\" xmlns=\"http://www.w3.org/2000/svg\"><path d=\"M26,28H6a2.0027,2.0027,0,0,1-2-2V6A2.0027,2.0027,0,0,1,6,4H16V6H6V26H26V16h2V26A2.0027,2.0027,0,0,1,26,28Z\"></path><path d=\"M20 2L20 4 26.586 4 18 12.586 19.414 14 28 5.414 28 12 30 12 30 2 20 2z\"></path></svg></a></div></div></div></div></li><li class=\"bx--link-list__list__CTA bx--link-list__list--local\"><div><div ariarole=\"listitem\" class=\"bx--tile bx--card bx--card-link bx--card__CTA bx--card__CardCTA\" data-autoid=\"dds--card\" href=\"https://www.ibm.com/subscribe\"><div class=\"bx--card__wrapper\"><div class=\"bx--card__content\"><p class=\"bx--card__eyebrow\">Subscribe</p><h3 class=\"bx--card__heading\">Get insights in your inbox</h3><a aria-label=\"Get insights in your inbox\" class=\"bx--link bx--card__footer\" href=\"https://www.ibm.com/subscribe\"><svg aria-hidden=\"true\" class=\"bx--card__cta\" fill=\"currentColor\" focusable=\"false\" height=\"20\" preserveaspectratio=\"xMidYMid meet\" src=\"[object Object]\" viewbox=\"0 0 20 20\" width=\"20\" xmlns=\"http://www.w3.org/2000/svg\"><path d=\"M11.8 2.8L10.8 3.8 16.2 9.3 1 9.3 1 10.7 16.2 10.7 10.8 16.2 11.8 17.2 19 10z\"></path></svg></a></div></div></div></div></li></ul></div></div></div></div></div></div></section></div><section class=\"bx--card--white\" id=\"bx--personalization-cards\"><div class=\"bx--grid\"><div class=\"bx--row\"><div class=\"bx--col\"><h2 class=\"bx--type-expressive-heading-02 bx--personalization-cards__heading\">Recommended for you</h2></div></div></div><div class=\"bx--grid bx--grid--card\"><div class=\"bx--row\"><div class=\"bx--col-sm-4 bx--col-md-4 bx--col-lg-8 bx--col-xlg-4 bx--no-gutter\"><div class=\"bx--card-with-aside-image-wrapper\"><div class=\"bx--tile bx--card bx--card--light bx--card--border\" data-autoid=\"dds--card\" href=\"https://www.ibm.com/products/watsonx-ai\"><div class=\"bx--card__wrapper\"><div class=\"bx--image\" data-autoid=\"dds--image__longdescription\"><picture><img alt=\"Concentric illustration showing watsonx.ai capabilities\" aria-describedby=\"bx--image-1\" class=\"bx--image__img\" src=\"https://1.dam.s81c.com/p/0b52089e994c221c/ibm-watsonxai-aspectratio-2-by-1.png.global.xs_1x1.png\"/></picture><div class=\"bx--image__longdescription\" id=\"bx--image-1\">Concentric illustration showing watsonx.ai capabilities</div></div><div class=\"bx--card__content\"><p class=\"bx--card__eyebrow\">watsonx.ai</p><div class=\"bx--card__copy\"><p>Build your own generative AI application models</p></div><a aria-label=\"Build your own generative AI application models\" class=\"bx--link bx--card__footer\" href=\"https://www.ibm.com/products/watsonx-ai\"><svg aria-hidden=\"true\" class=\"bx--card__cta\" fill=\"currentColor\" focusable=\"false\" height=\"20\" preserveaspectratio=\"xMidYMid meet\" src=\"[object Object]\" viewbox=\"0 0 20 20\" width=\"20\" xmlns=\"http://www.w3.org/2000/svg\"><path d=\"M11.8 2.8L10.8 3.8 16.2 9.3 1 9.3 1 10.7 16.2 10.7 10.8 16.2 11.8 17.2 19 10z\"></path></svg></a></div></div></div></div></div><div class=\"bx--col-sm-4 bx--col-md-4 bx--col-lg-8 bx--col-xlg-4 bx--no-gutter\"><div class=\"bx--card-with-aside-image-wrapper\"><div class=\"bx--tile bx--card bx--card--light bx--card--border\" data-autoid=\"dds--card\" href=\"https://www.ibm.com/products/watsonx-data\"><div class=\"bx--card__wrapper\"><div class=\"bx--image\" data-autoid=\"dds--image__longdescription\"><picture><img alt=\"Concentric illustration showing watsonx.data capabilities\" aria-describedby=\"bx--image-2\" class=\"bx--image__img\" src=\"https://1.dam.s81c.com/p/0b526de85b441e06/IBM_WatsonXData_A05.png.global.xs_1x1.png\"/></picture><div class=\"bx--image__longdescription\" id=\"bx--image-2\">Concentric illustration showing watsonx.data capabilities</div></div><div class=\"bx--card__content\"><p class=\"bx--card__eyebrow\">watsonx.data</p><div class=\"bx--card__copy\"><p>Scale AI workloads</p></div><a aria-label=\"Scale AI workloads\" class=\"bx--link bx--card__footer\" href=\"https://www.ibm.com/products/watsonx-data\"><svg aria-hidden=\"true\" class=\"bx--card__cta\" fill=\"currentColor\" focusable=\"false\" height=\"20\" preserveaspectratio=\"xMidYMid meet\" src=\"[object Object]\" viewbox=\"0 0 20 20\" width=\"20\" xmlns=\"http://www.w3.org/2000/svg\"><path d=\"M11.8 2.8L10.8 3.8 16.2 9.3 1 9.3 1 10.7 16.2 10.7 10.8 16.2 11.8 17.2 19 10z\"></path></svg></a></div></div></div></div></div><div class=\"bx--col-sm-4 bx--col-md-4 bx--col-lg-8 bx--col-xlg-4 bx--no-gutter\"><div class=\"bx--card-with-aside-image-wrapper\"><div class=\"bx--tile bx--card bx--card--light bx--card--border\" data-autoid=\"dds--card\" href=\"https://www.ibm.com/products/watsonx-governance\"><div class=\"bx--card__wrapper\"><div class=\"bx--image\" data-autoid=\"dds--image__longdescription\"><picture><img alt=\"Concentric illustration showing watsonx.governance capabilities\" aria-describedby=\"bx--image-3\" class=\"bx--image__img\" src=\"https://1.dam.s81c.com/p/0b526de85b441e07/IBM_WatsonXGovernance_A03.png.global.xs_1x1.png\"/></picture><div class=\"bx--image__longdescription\" id=\"bx--image-3\">Concentric illustration showing watsonx.governance capabilities</div></div><div class=\"bx--card__content\"><p class=\"bx--card__eyebrow\">watsonx.governance</p><div class=\"bx--card__copy\"><p>Keep AI activities compliant</p></div><a aria-label=\"Keep AI activities compliant\" class=\"bx--link bx--card__footer\" href=\"https://www.ibm.com/products/watsonx-governance\"><svg aria-hidden=\"true\" class=\"bx--card__cta\" fill=\"currentColor\" focusable=\"false\" height=\"20\" preserveaspectratio=\"xMidYMid meet\" src=\"[object Object]\" viewbox=\"0 0 20 20\" width=\"20\" xmlns=\"http://www.w3.org/2000/svg\"><path d=\"M11.8 2.8L10.8 3.8 16.2 9.3 1 9.3 1 10.7 16.2 10.7 10.8 16.2 11.8 17.2 19 10z\"></path></svg></a></div></div></div></div></div><div class=\"bx--col-sm-4 bx--col-md-4 bx--col-lg-8 bx--col-xlg-4 bx--no-gutter\"><div class=\"bx--card-with-aside-image-wrapper\"><div class=\"bx--tile bx--card bx--card--light bx--card--border\" data-autoid=\"dds--card\" href=\"https://research.ibm.com/blog/generative-ai-for-enterprise\"><div class=\"bx--card__wrapper\"><div class=\"bx--image\" data-autoid=\"dds--image__longdescription\"><picture><img alt=\"Blue and black pixels illustrating the capabilities of generative AI\" aria-describedby=\"bx--image-4\" class=\"bx--image__img\" src=\"https://1.dam.s81c.com/p/0b5208b36a4c2422/Generative_AI.jpg\"/></picture><div class=\"bx--image__longdescription\" id=\"bx--image-4\">Blue and black pixels illustrating the capabilities of generative AI</div></div><div class=\"bx--card__content\"><p class=\"bx--card__eyebrow\">Generative AI</p><div class=\"bx--card__copy\"><p>Learn how IBM tailors AI for enterprises</p></div><a aria-label=\"Learn how IBM tailors AI for enterprises\" class=\"bx--link bx--card__footer\" href=\"https://research.ibm.com/blog/generative-ai-for-enterprise\"><svg aria-hidden=\"true\" class=\"bx--card__cta\" fill=\"currentColor\" focusable=\"false\" height=\"20\" preserveaspectratio=\"xMidYMid meet\" src=\"[object Object]\" viewbox=\"0 0 20 20\" width=\"20\" xmlns=\"http://www.w3.org/2000/svg\"><path d=\"M11.8 2.8L10.8 3.8 16.2 9.3 1 9.3 1 10.7 16.2 10.7 10.8 16.2 11.8 17.2 19 10z\"></path></svg></a></div></div></div></div></div></div></div></section><div id=\"main-content\" style=\"background-color:#FFF\"><div><div class=\"bx--custom-spacer\"></div><section autoid=\"dds--intro-section-custom\" class=\"bx--intro-section-custom\"><div class=\"bx--grid\"><div class=\"bx--row\"><div class=\"bx--col-lg-8\"><h3 class=\"bx--content-item-horizontal__item--heading\" data-autoid=\"dds--content-item-horizontal__item--heading\">Browse our technology</h3></div><div class=\"bx--col-lg-8\"><div class=\"bx--content-item-horizontal__item--copy\" data-autoid=\"dds--content-item-horizontal__item--copy\"><p class=\"bx--type-heading-03\">From our flagship products for enterprise <a href=\"https://www.ibm.com/cloud?lnk=flatitem\">hybrid cloud infrastructure</a>, to security, supply chain and storage solutions, find the answer to your business challenge.</p><dds-video-cta-container><div class=\"bx--link-list\" data-autoid=\"dds--link-list\"><ul class=\"bx--link-list__list bx--link-list__list--horizontal\"><li class=\"bx--link-list__list__CTA bx--link-list__list--local\"><div><div class=\"bx--link-with-icon__container\" data-autoid=\"dds--link-with-icon\"><a class=\"bx--link bx--link-with-icon bx--link-with-icon--inline-icon bx--link--lg\" href=\"https://www.ibm.com/products\"><span>View all products</span><span class=\"bx--visually-hidden\"></span><svg aria-hidden=\"true\" fill=\"currentColor\" focusable=\"false\" height=\"20\" preserveaspectratio=\"xMidYMid meet\" viewbox=\"0 0 20 20\" width=\"20\" xmlns=\"http://www.w3.org/2000/svg\"><path d=\"M11.8 2.8L10.8 3.8 16.2 9.3 1 9.3 1 10.7 16.2 10.7 10.8 16.2 11.8 17.2 19 10z\"></path></svg></a></div></div></li></ul></div></dds-video-cta-container></div></div></div></div></section><section class=\"bx--custom-cards-section\"><div class=\"bx--grid\"><div class=\"bx--row\"><div class=\"bx--col-sm-4 bx--col-md-4 bx--col-lg-8 bx--col-xlg-4 bx--no-gutter\"><dds-card border=\"\" color-scheme=\"light\" href=\"https://www.ibm.com/artificial-intelligence?lnk=flathl\" pictogram-placement=\"top\"><dds-card-heading>AI &amp; machine learning</dds-card-heading><p>Use IBM Watsonâs AI or build your own machine learning models</p><svg aria-hidden=\"true\" fill=\"currentColor\" focusable=\"false\" height=\"64\" preserveaspectratio=\"xMidYMid meet\" slot=\"pictogram\" src=\"[object Object]\" viewbox=\"0 0 32 32\" width=\"64\" xmlns=\"http://www.w3.org/2000/svg\"><path d=\"M16.195,31.36c-6.421,0-12.169-4.007-14.399-10.002\tC1.051,21.408,0.373,20.771,0.372,20c0-0.75,0.61-1.36,1.36-1.36s1.36,0.61,1.36,1.36c0,0.474-0.243,0.892-0.611,1.135\tc2.133,5.698,7.604,9.505,13.714,9.505c6.446,0,11.919-4.301,13.773-10.22c-1.448,2.06-3.877,3.44-6.565,3.44\tc-3.822,0-7.066-2.785-7.664-6.525C15.113,17.212,14.64,16.661,14.64,16c0-0.584,0.37-1.083,0.888-1.275\tc-0.608-3.421-3.615-5.962-7.125-5.962c-3.947,0-7.04,3.176-7.042,7.231c0,0.002,0,0.004,0,0.006H0.64c0-0.002,0-0.004,0-0.007\tC0.644,7.526,7.445,0.64,15.805,0.64c6.42,0,12.168,4.006,14.399,10.001c0.777-0.034,1.425,0.587,1.425,1.358\tc0,0.75-0.61,1.36-1.36,1.36s-1.36-0.61-1.36-1.36c0-0.473,0.243-0.891,0.611-1.135C27.387,5.166,21.916,1.36,15.805,1.36\tc-6.319,0-11.704,4.134-13.659,9.873c1.402-1.949,3.662-3.19,6.256-3.19c3.881,0,7.204,2.826,7.846,6.62\tC16.88,14.779,17.36,15.335,17.36,16c0,0.589-0.376,1.092-0.901,1.28c0.567,3.363,3.496,5.859,6.943,5.859\tc3.857,0,7.127-3.118,7.235-6.851c0.001-0.096,0.002-0.192,0.002-0.289h0.721c0,0.033,0,0.065-0.001,0.098h0.001\tc0,0.069-0.001,0.138-0.003,0.207C31.196,24.634,24.456,31.36,16.195,31.36z M1.732,19.36c-0.353,0-0.64,0.287-0.64,0.64\ts0.287,0.64,0.64,0.64s0.64-0.287,0.64-0.64S2.085,19.36,1.732,19.36z M16,15.36c-0.353,0-0.64,0.287-0.64,0.64\ts0.287,0.64,0.64,0.64s0.64-0.287,0.64-0.64S16.353,15.36,16,15.36z M30.269,11.36c-0.353,0-0.64,0.287-0.64,0.64\ts0.287,0.64,0.64,0.64s0.64-0.287,0.64-0.64S30.621,11.36,30.269,11.36z\"></path></svg></dds-card></div><div class=\"bx--col-sm-4 bx--col-md-4 bx--col-lg-8 bx--col-xlg-4 bx--no-gutter\"><dds-card border=\"\" color-scheme=\"light\" href=\"https://www.ibm.com/analytics?lnk=flathl\" pictogram-placement=\"top\"><dds-card-heading>Analytics</dds-card-heading><p>Aggregate and analyze large data sets</p><svg aria-hidden=\"true\" fill=\"currentColor\" focusable=\"false\" height=\"64\" preserveaspectratio=\"xMidYMid meet\" slot=\"pictogram\" src=\"[object Object]\" viewbox=\"0 0 32 32\" width=\"64\" xmlns=\"http://www.w3.org/2000/svg\"><path d=\"M31,31.36H1c-0.199,0-0.36-0.161-0.36-0.36\tV1h0.72v29.64h4.28v-7.328c-0.576-0.158-1-0.687-1-1.312c0-0.75,0.61-1.36,1.36-1.36c0.364,0,0.694,0.144,0.938,0.377l3.702-2.221\tv-8.484c-0.576-0.158-1-0.686-1-1.312c0-0.75,0.61-1.36,1.36-1.36S12.36,8.25,12.36,9c0,0.625-0.424,1.153-1,1.312v8.053l3.33-1.998\tc-0.032-0.116-0.05-0.239-0.05-0.366c0-0.75,0.61-1.36,1.36-1.36c0.364,0,0.695,0.144,0.939,0.377l3.701-2.221V6.312\tc-0.575-0.158-1-0.686-1-1.312c0-0.75,0.61-1.36,1.36-1.36S22.36,4.25,22.36,5c0,0.625-0.425,1.153-1,1.312v6.053l3.33-1.998\tc-0.033-0.117-0.05-0.24-0.05-0.367c0-0.75,0.61-1.36,1.36-1.36s1.36,0.61,1.36,1.36c0,0.625-0.425,1.153-1,1.312V30.64H31V31.36z M21.36,30.64h4.279V11.312c-0.22-0.061-0.418-0.175-0.578-0.328l-3.701,2.221V30.64z M16.36,30.64h4.28V13.636l-3.33,1.998\tc0.033,0.116,0.05,0.239,0.05,0.366c0,0.625-0.425,1.153-1,1.312V30.64z M11.36,30.64h4.28V17.312\tc-0.22-0.061-0.418-0.175-0.579-0.328l-3.702,2.221V30.64H11.36z M6.36,30.64h4.28V19.636l-3.33,1.998\tC7.343,21.75,7.36,21.873,7.36,22c0,0.625-0.424,1.153-1,1.312V30.64z M6,21.36c-0.353,0-0.64,0.287-0.64,0.64S5.647,22.64,6,22.64\tS6.64,22.353,6.64,22S6.353,21.36,6,21.36z M16,15.36c-0.353,0-0.64,0.287-0.64,0.64s0.287,0.64,0.64,0.64s0.64-0.287,0.64-0.64\tS16.353,15.36,16,15.36z M26,9.36c-0.353,0-0.64,0.287-0.64,0.64s0.287,0.64,0.64,0.64s0.64-0.287,0.64-0.64S26.353,9.36,26,9.36z M11,8.36c-0.353,0-0.64,0.287-0.64,0.64S10.647,9.64,11,9.64S11.64,9.353,11.64,9S11.353,8.36,11,8.36z M21,4.36\tc-0.353,0-0.64,0.287-0.64,0.64S20.647,5.64,21,5.64S21.64,5.353,21.64,5S21.353,4.36,21,4.36z\"></path></svg></dds-card></div><div class=\"bx--col-sm-4 bx--col-md-4 bx--col-lg-8 bx--col-xlg-4 bx--no-gutter\"><dds-card border=\"\" color-scheme=\"light\" href=\"https://www.ibm.com/database?lnk=flathl\" pictogram-placement=\"top\"><dds-card-heading>Databases</dds-card-heading><p>Store, query and analyze structured data</p><svg aria-hidden=\"true\" fill=\"currentColor\" focusable=\"false\" height=\"64\" preserveaspectratio=\"xMidYMid meet\" slot=\"pictogram\" src=\"[object Object]\" viewbox=\"0 0 32 32\" width=\"64\" xmlns=\"http://www.w3.org/2000/svg\"><path d=\"M20,6c-0.552,0-1-0.448-1-1s0.448-1,1-1s1,0.448,1,1S20.552,6,20,6z M21,16\tc0-0.552-0.448-1-1-1s-1,0.448-1,1s0.448,1,1,1S21,16.552,21,16z M21,27c0-0.552-0.448-1-1-1s-1,0.448-1,1s0.448,1,1,1\tS21,27.552,21,27z M24,31.36H1c-0.199,0-0.36-0.161-0.36-0.36v-8c0-0.199,0.161-0.36,0.36-0.36h23c0.199,0,0.36,0.161,0.36,0.36v8\tC24.36,31.199,24.199,31.36,24,31.36z M1.36,30.64h22.28v-7.28H1.36V30.64z M31,27.36h-5v-0.72h4.64V16.36H26v-0.72h4.64V5.36H26\tV4.64h5c0.199,0,0.36,0.161,0.36,0.36v22C31.36,27.199,31.199,27.36,31,27.36z M24,20.36H1c-0.199,0-0.36-0.161-0.36-0.36v-8\tc0-0.199,0.161-0.36,0.36-0.36h23c0.199,0,0.36,0.161,0.36,0.36v8C24.36,20.199,24.199,20.36,24,20.36z M1.36,19.64h22.28v-7.28\tH1.36V19.64z M24,9.36H1C0.801,9.36,0.64,9.199,0.64,9V1c0-0.199,0.161-0.36,0.36-0.36h23c0.199,0,0.36,0.161,0.36,0.36v8\tC24.36,9.199,24.199,9.36,24,9.36z M1.36,8.64h22.28V1.36H1.36V8.64z\"></path></svg></dds-card></div><div class=\"bx--col-sm-4 bx--col-md-4 bx--col-lg-8 bx--col-xlg-4 bx--no-gutter\"><dds-card border=\"\" color-scheme=\"light\" href=\"https://www.ibm.com/servers?lnk=flathl\" pictogram-placement=\"top\"><dds-card-heading>Compute &amp; servers</dds-card-heading><p>Run workloads on hybrid cloud infrastructure</p><svg aria-hidden=\"true\" fill=\"currentColor\" focusable=\"false\" height=\"64\" preserveaspectratio=\"xMidYMid meet\" slot=\"pictogram\" src=\"[object Object]\" viewbox=\"0 0 32 32\" width=\"64\" xmlns=\"http://www.w3.org/2000/svg\"><path d=\"M30,31.36H8c-0.199,0-0.36-0.161-0.36-0.36v-5c0-0.199,0.161-0.36,0.36-0.36h22\tc0.199,0,0.36,0.161,0.36,0.36v5C30.36,31.199,30.199,31.36,30,31.36z M8.36,30.64h21.28v-4.28H8.36V30.64z M6,31.36H2\tc-0.199,0-0.36-0.161-0.36-0.36V1c0-0.199,0.161-0.36,0.36-0.36h11c0.199,0,0.36,0.161,0.36,0.36v9h-0.72V1.36H2.36v29.28H6V31.36z M28.36,30h-0.72v-2h0.721L28.36,30L28.36,30z M26.36,30h-0.72v-2h0.721L26.36,30L26.36,30z M24.36,30h-0.72v-2h0.721L24.36,30\tL24.36,30z M22.36,30h-0.72v-2h0.721L22.36,30L22.36,30z M30,24.36H8c-0.199,0-0.36-0.161-0.36-0.36v-5\tc0-0.199,0.161-0.36,0.36-0.36h22c0.199,0,0.36,0.161,0.36,0.36v5C30.36,24.199,30.199,24.36,30,24.36z M8.36,23.64h21.28v-4.28\tH8.36V23.64z M28.36,23h-0.72v-2h0.721L28.36,23L28.36,23z M26.36,23h-0.72v-2h0.721L26.36,23L26.36,23z M24.36,23h-0.72v-2h0.721\tL24.36,23L24.36,23z M22.36,23h-0.72v-2h0.721L22.36,23L22.36,23z M30,17.36H8c-0.199,0-0.36-0.161-0.36-0.36v-5\tc0-0.199,0.161-0.36,0.36-0.36h22c0.199,0,0.36,0.161,0.36,0.36v5C30.36,17.199,30.199,17.36,30,17.36z M8.36,16.64h21.28v-4.28\tH8.36V16.64z M28.36,16h-0.72v-2h0.721L28.36,16L28.36,16z M26.36,16h-0.72v-2h0.721L26.36,16L26.36,16z M24.36,16h-0.72v-2h0.721\tL24.36,16L24.36,16z M22.36,16h-0.72v-2h0.721L22.36,16L22.36,16z M6,4.36H4V3.64h2V4.36z\"></path></svg></dds-card></div><div class=\"bx--col-sm-4 bx--col-md-4 bx--col-lg-8 bx--col-xlg-4 bx--no-gutter\"><dds-card border=\"\" color-scheme=\"light\" href=\"https://www.ibm.com/devops?lnk=flathl\" pictogram-placement=\"top\"><dds-card-heading>DevOps</dds-card-heading><p>Manage infrastructure, environments and deployments</p><svg aria-hidden=\"true\" fill=\"currentColor\" focusable=\"false\" height=\"64\" preserveaspectratio=\"xMidYMid meet\" slot=\"pictogram\" src=\"[object Object]\" viewbox=\"0 0 32 32\" width=\"64\" xmlns=\"http://www.w3.org/2000/svg\"><path d=\"M18,31.36h-4c-0.128,0-0.248-0.069-0.312-0.181l-2-3.464c-0.064-0.111-0.064-0.248,0-0.359l2-3.464\tc0.064-0.111,0.183-0.181,0.312-0.181h3.792l2.896-5.016c0.1-0.174,0.32-0.231,0.491-0.132c0.173,0.1,0.231,0.319,0.132,0.491\tl-2.896,5.017l1.896,3.284c0.064,0.111,0.064,0.248,0,0.359l-2,3.464C18.247,31.291,18.129,31.36,18,31.36z M14.208,30.64h3.584\tl1.792-3.104l-1.792-3.104h-3.584l-1.792,3.104L14.208,30.64z M28,25.593h-4c-0.129,0-0.247-0.069-0.312-0.181l-2-3.465\tc-0.064-0.111-0.064-0.248,0-0.359l1.896-3.284l-2.896-5.016c-0.1-0.172-0.041-0.393,0.132-0.492c0.171-0.1,0.392-0.041,0.491,0.131\tl2.896,5.016H28c0.129,0,0.247,0.069,0.312,0.181l2,3.464c0.064,0.111,0.064,0.248,0,0.359l-2,3.465\tC28.247,25.523,28.129,25.593,28,25.593z M24.208,24.872h3.584l1.792-3.104l-1.792-3.104h-3.584l-1.792,3.104L24.208,24.872z M8,25.593H4c-0.128,0-0.248-0.069-0.312-0.181l-2-3.465c-0.064-0.111-0.064-0.248,0-0.359l2-3.464\tC3.752,18.013,3.872,17.943,4,17.943h4c0.128,0,0.248,0.069,0.312,0.181l1.896,3.283H16c0.199,0,0.36,0.161,0.36,0.36\ts-0.161,0.36-0.36,0.36h-5.792l-1.896,3.284C8.248,25.523,8.128,25.593,8,25.593z M4.208,24.872h3.584l1.792-3.104l-1.792-3.104\tH4.208l-1.792,3.104L4.208,24.872z M11,19.253c-0.125,0-0.246-0.064-0.312-0.181l-2.896-5.016H4c-0.128,0-0.248-0.068-0.312-0.18\tl-2-3.464c-0.064-0.111-0.064-0.249,0-0.36l2-3.464C3.752,6.477,3.872,6.408,4,6.408h4c0.128,0,0.248,0.068,0.312,0.18l2,3.464\tc0.064,0.111,0.064,0.249,0,0.36l-1.896,3.284l2.896,5.017c0.099,0.172,0.04,0.392-0.132,0.491\tC11.124,19.237,11.062,19.253,11,19.253z M4.208,13.336h3.584l1.792-3.104L7.792,7.128H4.208l-1.792,3.104L4.208,13.336z M28,14.056\th-4c-0.129,0-0.247-0.068-0.312-0.18l-1.896-3.285H16c-0.199,0-0.36-0.161-0.36-0.36s0.161-0.36,0.36-0.36h5.792l1.896-3.284\tc0.064-0.111,0.183-0.18,0.312-0.18h4c0.129,0,0.247,0.068,0.312,0.18l2,3.464c0.064,0.111,0.064,0.249,0,0.36l-2,3.464\tC28.247,13.988,28.129,14.056,28,14.056z M24.208,13.336h3.584l1.792-3.104l-1.792-3.104h-3.584l-1.792,3.104L24.208,13.336z M11,13.484c-0.061,0-0.123-0.015-0.18-0.048c-0.172-0.1-0.231-0.32-0.132-0.492l2.896-5.016l-1.896-3.284\tc-0.064-0.112-0.064-0.249,0-0.36l2-3.464C13.752,0.708,13.872,0.64,14,0.64h4c0.129,0,0.247,0.068,0.312,0.18l2,3.464\tc0.064,0.111,0.064,0.249,0,0.36l-2,3.464C18.247,8.22,18.129,8.288,18,8.288h-3.792l-2.896,5.017\tC11.245,13.42,11.124,13.484,11,13.484z M14.208,7.568h3.584l1.792-3.104L17.792,1.36h-3.584l-1.792,3.104L14.208,7.568z\"></path></svg></dds-card></div><div class=\"bx--col-sm-4 bx--col-md-4 bx--col-lg-8 bx--col-xlg-4 bx--no-gutter\"><dds-card border=\"\" color-scheme=\"light\" href=\"https://www.ibm.com/it-automation?lnk=flathl\" pictogram-placement=\"top\"><dds-card-heading>IT automation</dds-card-heading><p>Automate IT infrastructure management</p><svg aria-hidden=\"true\" fill=\"currentColor\" focusable=\"false\" height=\"64\" preserveaspectratio=\"xMidYMid meet\" slot=\"pictogram\" src=\"[object Object]\" viewbox=\"0 0 32 32\" width=\"64\" xmlns=\"http://www.w3.org/2000/svg\"><path d=\"M27.255,19.255L30.509,16l-3.254-3.254l-0.51,0.509l2.386,2.386H16.149L9.36,8.85V5.36h19.771\tl-2.386,2.386l0.51,0.509L30.509,5l-3.254-3.254l-0.51,0.509l2.386,2.386H9C8.801,4.64,8.64,4.801,8.64,5v3.85l-6.895,6.896\tc-0.141,0.141-0.141,0.368,0,0.509L8.64,23.15V27c0,0.199,0.161,0.36,0.36,0.36h20.131l-2.386,2.385l0.51,0.51L30.509,27\tl-3.254-3.255l-0.51,0.51l2.386,2.385H9.36v-3.49l6.789-6.79h12.982l-2.386,2.385L27.255,19.255z M9,22.491L2.509,16L9,9.508\tL15.491,16L9,22.491z\"></path></svg></dds-card></div><div class=\"bx--col-sm-4 bx--col-md-4 bx--col-lg-8 bx--col-xlg-4 bx--no-gutter\"><dds-card border=\"\" color-scheme=\"light\" href=\"https://www.ibm.com/quantum?lnk=flathl\" pictogram-placement=\"top\"><dds-card-heading>Quantum</dds-card-heading><p>Run code on real quantum systems using a full-stack SDK</p><svg height=\"64\" id=\"Layer_1\" slot=\"pictogram\" style=\"enable-background:new 0 0 25 29\" viewbox=\"0 0 25 29\" width=\"64\" x=\"0px\" xml:space=\"preserve\" xmlns=\"http://www.w3.org/2000/svg\" xmlns:xlink=\"http://www.w3.org/1999/xlink\" y=\"0px\"><style type=\"text/css\">\n",
              "\t.st0{fill:none;stroke:var(--cds-text-01, #323232);stroke-width:0.8611;stroke-miterlimit:10;}\n",
              "\t.st1{fill:none;stroke:var(--cds-text-01, #323232);stroke-width:0.8611;stroke-linecap:round;stroke-miterlimit:10;}\n",
              "</style><desc>Created with Sketch.</desc><path class=\"st0\" d=\"M4.4,8.1c0.7,0,1.3-0.6,1.3-1.3S5.2,5.5,4.4,5.5c-0.7,0-1.3,0.6-1.3,1.3S3.7,8.1,4.4,8.1z\"></path><path class=\"st0\" d=\"M20.6,24.3c0.7,0,1.3-0.6,1.3-1.3s-0.6-1.3-1.3-1.3c-0.7,0-1.3,0.6-1.3,1.3S19.9,24.3,20.6,24.3z\"></path><path class=\"st0\" d=\"M5.3,7.8l14.5,14.5\"></path><path class=\"st1\" d=\"M16.2,18.7c-1.2,0.2-2.4,0.2-3.6,0.2c-6.5,0-11.8-1.8-11.8-4c0-1.4,2.1-2.6,5.4-3.3\"></path><path class=\"st1\" d=\"M8.8,11.2c1.2-0.1,2.4-0.2,3.8-0.2c6.5,0,11.8,1.8,11.8,4c0,1.4-2.2,2.7-5.6,3.3\"></path><path class=\"st0\" d=\"M19.8,24.2c-2,1.6-4.6,2.5-7.3,2.5C6,26.8,0.7,21.4,0.7,14.9c0-2.7,1-5.3,2.5-7.3\"></path><path class=\"st0\" d=\"M5.2,5.6C7.2,4,9.7,3,12.5,3c6.5,0,11.9,5.3,11.9,11.9c0,2.8-1,5.4-2.6,7.4\"></path></svg></dds-card></div><div class=\"bx--col-sm-4 bx--col-md-4 bx--col-lg-8 bx--col-xlg-4 bx--no-gutter\"><dds-card border=\"\" color-scheme=\"light\" href=\"https://www.ibm.com/security?lnk=flathl\" pictogram-placement=\"top\"><dds-card-heading>Security &amp; identity</dds-card-heading><p>Cloud-native software to secure resources and simplify compliance</p><svg aria-hidden=\"true\" fill=\"currentColor\" focusable=\"false\" height=\"64\" preserveaspectratio=\"xMidYMid meet\" slot=\"pictogram\" src=\"[object Object]\" viewbox=\"0 0 32 32\" width=\"64\" xmlns=\"http://www.w3.org/2000/svg\"><path d=\"M23.14,25.415v-1.988c-0.373-0.145-0.64-0.503-0.64-0.927c0-0.552,0.448-1,1-1s1,0.448,1,1\tc0,0.424-0.266,0.782-0.64,0.927v1.988c0,0.199-0.161,0.36-0.36,0.36S23.14,25.614,23.14,25.415z M31.36,16v15\tc0,0.199-0.161,0.36-0.36,0.36H16c-0.199,0-0.36-0.161-0.36-0.36V19h0.72v11.64h14.28V16.36H1c-0.199,0-0.36-0.161-0.36-0.36V1\tc0-0.199,0.161-0.36,0.36-0.36h15c0.199,0,0.36,0.161,0.36,0.36v12h-0.72V1.36H1.36v14.28h2.28v-2.639\tc0-1.926,1.166-3.659,2.908-4.427C5.978,8.04,5.643,7.293,5.643,6.5c0-1.577,1.283-2.86,2.86-2.86s2.86,1.283,2.86,2.86\tc0,0.794-0.335,1.542-0.907,2.075c1.74,0.77,2.904,2.502,2.904,4.426v2.639h6.28V11.5c0-2.128,1.731-3.86,3.859-3.86\tc2.129,0,3.861,1.731,3.861,3.86l-0.001,4.14H31C31.199,15.64,31.36,15.801,31.36,16z M12.64,13.001c0-1.837-1.25-3.47-3.041-3.97\tc-0.141-0.04-0.244-0.16-0.261-0.306C9.321,8.58,9.395,8.439,9.523,8.369c0.69-0.379,1.12-1.095,1.12-1.869\tc0-1.18-0.96-2.14-2.14-2.14s-2.14,0.96-2.14,2.14c0,0.773,0.429,1.489,1.119,1.868c0.128,0.07,0.201,0.211,0.184,0.357\tC7.648,8.87,7.545,8.991,7.404,9.03C5.612,9.529,4.36,11.162,4.36,13.001v2.639h8.28C12.64,15.64,12.64,13.001,12.64,13.001z M26.64,11.5c0-1.731-1.408-3.14-3.14-3.14s-3.14,1.409-3.14,3.14v4.14h6.278L26.64,11.5z\"></path></svg></dds-card></div></div></div></section><section class=\"bx--custom-featured-story\"><div class=\"bx--custom-featured-story-heading\"><h2 class=\"bx--type-productive-heading-07\">Â </h2></div><dds-feature-section class=\"bx--custom-featured-story-section\" media-alignment=\"right\"><dds-image alt=\"Colleagues collaborating behind laptop at a conference table\" default-src=\"https://1.dam.s81c.com/p/08b38f4a7fa65611/2018_CaitOppermann_Zurich_DSC35649.jpg.global.l_1x1.png\" slot=\"image\"><dds-image-item media=\"(min-width: 672px)\" srcset=\"https://1.dam.s81c.com/p/08b38f4a7fa65611/2018_CaitOppermann_Zurich_DSC35649.jpg.global.m_1x1.png\"></dds-image-item><dds-image-item media=\"(min-width: 320px)\" srcset=\"https://1.dam.s81c.com/p/08b38f4a7fa65611/2018_CaitOppermann_Zurich_DSC35649.jpg.global.s_1x1.png\"></dds-image-item><dds-image-item media=\"(min-width: 320px)\" srcset=\"https://1.dam.s81c.com/p/08b38f4a7fa65611/2018_CaitOppermann_Zurich_DSC35649.jpg.global.s_1x1.png\"></dds-image-item></dds-image><dds-card-eyebrow>Whatâs new</dds-card-eyebrow><dds-content-block-heading>Got responsible AI?</dds-content-block-heading><dds-content-item-paragraph slot=\"copy\"><span>Gartner predicts the market for AI software will reach almost USD 134.8 billion by 2025.<a href=\"#bx--custom-footnotes\">Â¹</a> Learn three key reasons why responsible AI is crucial.</span></dds-content-item-paragraph><dds-feature-section-card-link class=\"bx--custom-featured-story-section-card-link\" color-scheme=\"inverse\" cta-type=\"local\" href=\"https://www.ibm.com/blog/3-key-reasons-why-your-organization-needs-responsible-ai/\" slot=\"footer\"><dds-card-link-heading>Read the blog</dds-card-link-heading><dds-card-cta-footer color-scheme=\"inverse\"> </dds-card-cta-footer></dds-feature-section-card-link></dds-feature-section></section><div class=\"bx--custom-spacer\"></div><section class=\"bx--custom-consulting-section\"><section autoid=\"dds--intro-section-custom\" class=\"bx--intro-section-custom\"><div class=\"bx--grid\"><div class=\"bx--row\"><div class=\"bx--col-lg-8\"><h3 class=\"bx--content-item-horizontal__item--heading\" data-autoid=\"dds--content-item-horizontal__item--heading\">Meet our global consultants</h3></div><div class=\"bx--col-lg-8\"><div class=\"bx--content-item-horizontal__item--copy\" data-autoid=\"dds--content-item-horizontal__item--copy\"><p class=\"bx--type-heading-03\">Bringing together a diverse set of voices with new technology, we collaborate closely, ideate freely and swiftly apply breakthrough innovations that drive big impact.</p><dds-video-cta-container><div class=\"bx--link-list\" data-autoid=\"dds--link-list\"><ul class=\"bx--link-list__list bx--link-list__list--horizontal\"><li class=\"bx--link-list__list__CTA bx--link-list__list--local\"><div><div class=\"bx--link-with-icon__container\" data-autoid=\"dds--link-with-icon\"><a class=\"bx--link bx--link-with-icon bx--link-with-icon--inline-icon bx--link--lg\" href=\"https://www.ibm.com/consulting\"><span>Visit IBM Consulting</span><span class=\"bx--visually-hidden\"></span><svg aria-hidden=\"true\" fill=\"currentColor\" focusable=\"false\" height=\"20\" preserveaspectratio=\"xMidYMid meet\" viewbox=\"0 0 20 20\" width=\"20\" xmlns=\"http://www.w3.org/2000/svg\"><path d=\"M11.8 2.8L10.8 3.8 16.2 9.3 1 9.3 1 10.7 16.2 10.7 10.8 16.2 11.8 17.2 19 10z\"></path></svg></a></div></div></li></ul></div></dds-video-cta-container></div></div></div></div></section><div class=\"bx--grid\"><div class=\"bx--row\"><div class=\"bx--col\"><div class=\"bx--image\" data-autoid=\"dds--image__longdescription\"><picture><source media=\"(min-width: 1057px)\" srcset=\"https://1.dam.s81c.com/p/0aac9cf57bcbf324/dotcom-1-overview.jpg\"/><source media=\"(min-width: 672px)\" srcset=\"https://1.dam.s81c.com/p/0aac9cf57bcbf324/dotcom-1-overview.jpg.global.mr_16x9.jpg\"/><source media=\"(min-width: 400px)\" srcset=\"https://1.dam.s81c.com/p/0aac9cf57bcbf324/dotcom-1-overview.jpg.global.m_16x9.jpg\"/><source media=\"(min-width: 320px)\" srcset=\"https://1.dam.s81c.com/p/0aac9cf57bcbf324/dotcom-1-overview.jpg.global.s_16x9.jpg\"/><img alt=\"Grid of IBM consultant portraits\" class=\"bx--image__img\" src=\"https://1.dam.s81c.com/p/0aac9cf57bcbf324/dotcom-1-overview.jpg\"/></picture></div></div></div></div></section><div class=\"bx--custom-spacer\"></div><section class=\"bx--custom-inside-ibm-section\"><section autoid=\"dds--intro-section-custom\" class=\"bx--intro-section-custom\"><div class=\"bx--grid\"><div class=\"bx--row\"><div class=\"bx--col-lg-8\"><h3 class=\"bx--content-item-horizontal__item--heading\" data-autoid=\"dds--content-item-horizontal__item--heading\">Inside IBM</h3></div><div class=\"bx--col-lg-8\"><div class=\"bx--content-item-horizontal__item--copy\" data-autoid=\"dds--content-item-horizontal__item--copy\"><p class=\"bx--type-heading-03\">Solving the worldâs problems through technology wouldnât be possible without our most important invention: the IBMer. Have a look our talented teams.</p><dds-video-cta-container><div class=\"bx--link-list\" data-autoid=\"dds--link-list\"><ul class=\"bx--link-list__list bx--link-list__list--horizontal\"><li class=\"bx--link-list__list__CTA bx--link-list__list--local\"><div><div class=\"bx--link-with-icon__container\" data-autoid=\"dds--link-with-icon\"><a class=\"bx--link bx--link-with-icon bx--link-with-icon--inline-icon bx--link--lg\" href=\"https://www.ibm.com/about\"><span>About IBM</span><span class=\"bx--visually-hidden\"></span><svg aria-hidden=\"true\" fill=\"currentColor\" focusable=\"false\" height=\"20\" preserveaspectratio=\"xMidYMid meet\" viewbox=\"0 0 20 20\" width=\"20\" xmlns=\"http://www.w3.org/2000/svg\"><path d=\"M11.8 2.8L10.8 3.8 16.2 9.3 1 9.3 1 10.7 16.2 10.7 10.8 16.2 11.8 17.2 19 10z\"></path></svg></a></div></div></li></ul></div></dds-video-cta-container></div></div></div></div></section><div class=\"bx--grid bx--grid--card\"><div class=\"bx--row\"><div class=\"bx--col-sm-4 bx--col-md-4 bx--col-lg-8 bx--col-xlg-4 bx--no-gutter\"><div class=\"bx--tile bx--card\" data-autoid=\"dds--card\" href=\"https://research.ibm.com/\"><div class=\"bx--image\" data-autoid=\"dds--image__longdescription\"><picture><img alt=\"A large quantum server at IBM Research\" class=\"bx--image__img bx--card__img\" src=\"https://1.dam.s81c.com/p/058f8f979abf1c0b/ibm-quantum-system-one.png.global.m_1x1.png\"/></picture></div><div class=\"bx--card__wrapper\"><div class=\"bx--card__content\"><p class=\"bx--card__eyebrow\">IBM Research</p><h3 class=\"bx--card__heading\">See the latest technology developed by IBM scientists and design thinkers</h3><a aria-label=\"\" class=\"bx--link bx--card__footer bx--card__footer__copy\" href=\"https://research.ibm.com/\"><span class=\"bx--card__cta__copy\">Go inside the lab</span><svg aria-hidden=\"true\" class=\"bx--card__cta\" fill=\"currentColor\" focusable=\"false\" height=\"20\" preserveaspectratio=\"xMidYMid meet\" src=\"[object Object]\" viewbox=\"0 0 20 20\" width=\"20\" xmlns=\"http://www.w3.org/2000/svg\"><path d=\"M11.8 2.8L10.8 3.8 16.2 9.3 1 9.3 1 10.7 16.2 10.7 10.8 16.2 11.8 17.2 19 10z\"></path></svg></a></div></div></div></div><div class=\"bx--col-sm-4 bx--col-md-4 bx--col-lg-8 bx--col-xlg-4 bx--no-gutter\"><div class=\"bx--tile bx--card\" data-autoid=\"dds--card\" href=\"https://www.ibm.com/careers/us-en/\"><div class=\"bx--image\" data-autoid=\"dds--image__longdescription\"><picture><img alt=\"Technician working on internal wiring system\" class=\"bx--image__img bx--card__img\" src=\"https://1.dam.s81c.com/p/0656655b47a3af99/0100129_Oppermann_PE.jpg.global.m_1x1.png\"/></picture></div><div class=\"bx--card__wrapper\"><div class=\"bx--card__content\"><p class=\"bx--card__eyebrow\">Careers at IBM</p><h3 class=\"bx--card__heading\">From safer food supply to ethical AI, tackle the worldâs toughest problems</h3><a aria-label=\"\" class=\"bx--link bx--card__footer bx--card__footer__copy\" href=\"https://www.ibm.com/careers/us-en/\"><span class=\"bx--card__cta__copy\">Join our team</span><svg aria-hidden=\"true\" class=\"bx--card__cta\" fill=\"currentColor\" focusable=\"false\" height=\"20\" preserveaspectratio=\"xMidYMid meet\" src=\"[object Object]\" viewbox=\"0 0 20 20\" width=\"20\" xmlns=\"http://www.w3.org/2000/svg\"><path d=\"M11.8 2.8L10.8 3.8 16.2 9.3 1 9.3 1 10.7 16.2 10.7 10.8 16.2 11.8 17.2 19 10z\"></path></svg></a></div></div></div></div><div class=\"bx--col-sm-4 bx--col-md-4 bx--col-lg-8 bx--col-xlg-4 bx--no-gutter\"><div class=\"bx--tile bx--card\" data-autoid=\"dds--card\" href=\"https://www.ibm.com/impact\"><div class=\"bx--image\" data-autoid=\"dds--image__longdescription\"><picture><img alt=\"Aerial view of solar panels is in graphic rows\" class=\"bx--image__img bx--card__img\" src=\"https://1.dam.s81c.com/p/07d5a7f25cc3d97e/dji_0758.jpg.global.m_1x1.png\"/></picture></div><div class=\"bx--card__wrapper\"><div class=\"bx--card__content\"><p class=\"bx--card__eyebrow\">Corporate social responsibility</p><h3 class=\"bx--card__heading\">IBM aspires to make a positive impact on the world and the places where we work and live</h3><a aria-label=\"\" class=\"bx--link bx--card__footer bx--card__footer__copy\" href=\"https://www.ibm.com/impact\"><span class=\"bx--card__cta__copy\">See our impact</span><svg aria-hidden=\"true\" class=\"bx--card__cta\" fill=\"currentColor\" focusable=\"false\" height=\"20\" preserveaspectratio=\"xMidYMid meet\" src=\"[object Object]\" viewbox=\"0 0 20 20\" width=\"20\" xmlns=\"http://www.w3.org/2000/svg\"><path d=\"M11.8 2.8L10.8 3.8 16.2 9.3 1 9.3 1 10.7 16.2 10.7 10.8 16.2 11.8 17.2 19 10z\"></path></svg></a></div></div></div></div><div class=\"bx--col-sm-4 bx--col-md-4 bx--col-lg-8 bx--col-xlg-4 bx--no-gutter\"><div class=\"bx--tile bx--card\" data-autoid=\"dds--card\" href=\"https://skillsbuild.org/\"><div class=\"bx--image\" data-autoid=\"dds--image__longdescription\"><picture><img alt=\"Environmental portrait of employee in office with server\" class=\"bx--image__img bx--card__img\" src=\"https://1.dam.s81c.com/p/0aac9d02d6cbf501/universitychile0013846.jpg.global.m_1x1.png\"/></picture></div><div class=\"bx--card__wrapper\"><div class=\"bx--card__content\"><p class=\"bx--card__eyebrow\">Training</p><h3 class=\"bx--card__heading\">Power your future in tech with job skills, courses and credentialsâfor free</h3><a aria-label=\" - This link opens in a new tab\" class=\"bx--link bx--card__footer bx--card__footer__copy\" href=\"https://skillsbuild.org/\" rel=\"noopener\" target=\"_blank\"><span class=\"bx--card__cta__copy\">Visit IBM SkillsBuild</span><svg aria-hidden=\"true\" class=\"bx--card__cta\" fill=\"currentColor\" focusable=\"false\" height=\"20\" preserveaspectratio=\"xMidYMid meet\" src=\"[object Object]\" viewbox=\"0 0 32 32\" width=\"20\" xmlns=\"http://www.w3.org/2000/svg\"><path d=\"M26,28H6a2.0027,2.0027,0,0,1-2-2V6A2.0027,2.0027,0,0,1,6,4H16V6H6V26H26V16h2V26A2.0027,2.0027,0,0,1,26,28Z\"></path><path d=\"M20 2L20 4 26.586 4 18 12.586 19.414 14 28 5.414 28 12 30 12 30 2 20 2z\"></path></svg></a></div></div></div></div></div></div></section><div class=\"bx--custom-spacer\"></div><a id=\"bx--custom-footnotes\"></a><section class=\"bx--custom-footnotes\"><div class=\"bx--grid\"><div class=\"bx--row\"><div class=\"bx--col-sm-4 bx--col-md-8 bx--col-lg-4\"><div class=\"bx--custom-footnotes__heading\"><p>Footnotes</p></div></div><div class=\"bx--col-sm-4 bx--col-md-8 bx--col-lg-12\"><div class=\"bx--custom-footnotes__content\"><p>1 <a href=\"https://www.gartner.com/en/documents/4007140\">https://www.gartner.com/en/documents/4007140</a> (link resides outside ibm.com), October 2021</p></div></div></div></div></section></div></div><footer class=\"bx--footer\" data-autoid=\"dds--footer\"><section class=\"bx--footer__main\"><div class=\"bx--footer__main-container\"><div class=\"bx--footer__logo-container\"><div class=\"bx--footer__logo-row\"><div class=\"bx--footer-logo\" data-autoid=\"dds--footer-logo\"><a class=\"bx--footer-logo__link\" data-autoid=\"dds--footer-logo__link\" href=\"https://www.ibm.com/\"><svg class=\"bx--footer-logo__logo\" height=\"65\" viewbox=\"0 0 157 65\" width=\"157\" xmlns=\"http://www.w3.org/2000/svg\"><title>IBM Logo</title><path d=\"M30.444 60.208v4.03H0v-4.03h30.444zm78.291-.001v4.03H86.983v-4.03h21.752zm47.858 0v4.03H134.84v-4.03h21.753zm-33.416 0l-1.398 4.03-1.38-4.03h2.778zm-88.384 0h42.775c-2.797 2.426-6.39 3.925-10.327 4.025l-.423.006H34.793v-4.03h42.775zm-4.35-8.46v4.03H0v-4.03h30.444zm52.402 0c-.332 1.248-.8 2.44-1.389 3.555l-.259.474H34.793v-4.029h48.052zm73.748-.005v4.031H134.84v-4.03h21.753zm-47.858 0v4.031H86.983v-4.03h21.752zm17.375 0l-1.398 4.031h-5.85l-1.395-4.03h8.643zM21.745 43.285v4.03H8.698v-4.03h13.047zm61.195 0a17.32 17.32 0 0 1 .476 3.51l.008.52H68.796v-4.03H82.94zm-26.401 0v4.03H43.491v-4.03H56.54zm72.502-.007l-1.396 4.03H115.93l-1.397-4.03h14.507zm18.85 0v4.03h-13.05v-4.03h13.05zm-39.156 0v4.03H95.684v-4.03h13.051zm-86.99-8.454v4.03H8.698v-4.03h13.047zm56.117 0a16.945 16.945 0 0 1 2.926 3.582l.264.447h-37.56v-4.03h34.37zm30.873-.01v4.03H95.684v-4.03h13.051zm39.157 0v4.03H134.84v-4.03h13.052zm-15.919 0l-1.396 4.03h-17.579l-1.396-4.03h20.371zm-50.778-8.452a16.963 16.963 0 0 1-2.82 3.674l-.37.355H43.49v-4.029h37.704zm-59.45 0v4.03H8.698v-4.03h13.047zm126.147-.013v4.031H134.84v-3.839l-1.33 3.839h-11.456l1.373-4.03h24.465zm-27.743 0l1.372 4.031h-11.456l-1.33-3.839v3.84H95.684v-4.032h24.465zm-98.404-8.448v4.03H8.698V17.9h13.047zm61.68 0c0 1.215-.134 2.399-.375 3.542l-.11.487H68.796V17.9h14.628zM56.538 17.9v4.03H43.491V17.9H56.54zm91.352-.015v4.03h-22.954l1.37-4.03h21.584zm-30.624 0l1.372 4.03H95.684v-4.03h21.583zM30.444 9.437v4.03H0v-4.03h30.444zm50.753 0a17.048 17.048 0 0 1 1.498 3.499l.15.531H34.794v-4.03h46.403zm75.396-.018v4.03h-28.776l1.373-4.03h27.403zm-42.207 0l1.372 4.031H86.982V9.42h27.404zM30.444.978v4.03H0V.977h30.444zm36.374 0c3.96 0 7.594 1.415 10.448 3.772l.303.257H34.794V.977h32.024zm89.775-.022v4.031h-25.894l1.372-4.03h24.522zm-45.098 0l1.372 4.03H86.982V.955h24.513z\"></path></svg></a></div><div class=\"bx--locale-btn__container\"><button aria-label=\"\" class=\"bx--locale-btn bx--btn bx--btn--tertiary\" data-autoid=\"dds--locale-btn\" tabindex=\"0\" type=\"button\"><svg aria-hidden=\"true\" aria-label=\"Earth Filled Icon\" class=\"bx--btn__icon\" fill=\"currentColor\" focusable=\"false\" height=\"20\" preserveaspectratio=\"xMidYMid meet\" role=\"img\" viewbox=\"0 0 32 32\" width=\"20\" xmlns=\"http://www.w3.org/2000/svg\"><path d=\"M16,2A14,14,0,1,0,30,16,14.0158,14.0158,0,0,0,16,2ZM4.02,16.394l1.3384.4458L7,19.3027v1.2831a1,1,0,0,0,.2929.7071L10,24v2.3765A11.9941,11.9941,0,0,1,4.02,16.394ZM16,28a11.9682,11.9682,0,0,1-2.5718-.2847L14,26l1.8046-4.5116a1,1,0,0,0-.0964-.9261l-1.4113-2.117A1,1,0,0,0,13.4648,18h-4.93L7.2866,16.1274,9.4141,14H11v2h2V13.2656l3.8682-6.7695-1.7364-.9922L14.2769,7H11.5352l-1.086-1.6289A11.861,11.861,0,0,1,20,4.7V8a1,1,0,0,0,1,1h1.4648a1,1,0,0,0,.8321-.4453l.8769-1.3154A12.0331,12.0331,0,0,1,26.8945,11H22.82a1,1,0,0,0-.9806.8039l-.7221,4.4708a1,1,0,0,0,.54,1.0539L25,19l.6851,4.0557A11.9793,11.9793,0,0,1,16,28Z\"></path></svg></button><div aria-hidden=\"true\" class=\"bx--modal bx--locale-modal-container\" data-autoid=\"dds--locale-modal\" role=\"presentation\"><div aria-label=\",[object Object]\" aria-modal=\"true\" class=\"bx--modal-container\" role=\"dialog\"><button class=\"bx--visually-hidden\" type=\"button\">Focus sentinel</button><div class=\"bx--modal-container-body\"><div class=\"bx--modal-header\"><h2 class=\"bx--modal-header__label bx--type-delta\"><svg aria-hidden=\"true\" class=\"bx--locale-modal__label-globe\" fill=\"currentColor\" focusable=\"false\" height=\"16\" preserveaspectratio=\"xMidYMid meet\" viewbox=\"0 0 32 32\" width=\"16\" xmlns=\"http://www.w3.org/2000/svg\"><path d=\"M16,2A14,14,0,1,0,30,16,14.0158,14.0158,0,0,0,16,2ZM4.02,16.394l1.3384.4458L7,19.3027v1.2831a1,1,0,0,0,.2929.7071L10,24v2.3765A11.9941,11.9941,0,0,1,4.02,16.394ZM16,28a11.9682,11.9682,0,0,1-2.5718-.2847L14,26l1.8046-4.5116a1,1,0,0,0-.0964-.9261l-1.4113-2.117A1,1,0,0,0,13.4648,18h-4.93L7.2866,16.1274,9.4141,14H11v2h2V13.2656l3.8682-6.7695-1.7364-.9922L14.2769,7H11.5352l-1.086-1.6289A11.861,11.861,0,0,1,20,4.7V8a1,1,0,0,0,1,1h1.4648a1,1,0,0,0,.8321-.4453l.8769-1.3154A12.0331,12.0331,0,0,1,26.8945,11H22.82a1,1,0,0,0-.9806.8039l-.7221,4.4708a1,1,0,0,0,.54,1.0539L25,19l.6851,4.0557A11.9793,11.9793,0,0,1,16,28Z\"></path></svg></h2><button aria-label=\"Close\" class=\"bx--modal-close\" title=\"Close\" type=\"button\"><svg aria-hidden=\"true\" class=\"bx--modal-close__icon\" fill=\"currentColor\" focusable=\"false\" height=\"20\" preserveaspectratio=\"xMidYMid meet\" viewbox=\"0 0 32 32\" width=\"20\" xmlns=\"http://www.w3.org/2000/svg\"><path d=\"M24 9.4L22.6 8 16 14.6 9.4 8 8 9.4 14.6 16 8 22.6 9.4 24 16 17.4 22.6 24 24 22.6 17.4 16 24 9.4z\"></path></svg></button></div><div class=\"bx--modal-content bx--locale-modal\"><div class=\"bx--grid bx--no-gutter bx--locale-modal__regions\"><div class=\"bx--row\"></div></div><div class=\"bx--locale-modal__filter\"><div class=\"bx--locale-modal__search\"><div aria-labelledby=\"bx--locale-modal__filter-search\" class=\"bx--search bx--search--xl\" role=\"search\"><div class=\"bx--search-magnifier\"><svg aria-hidden=\"true\" class=\"bx--search-magnifier-icon\" fill=\"currentColor\" focusable=\"false\" height=\"16\" preserveaspectratio=\"xMidYMid meet\" viewbox=\"0 0 16 16\" width=\"16\" xmlns=\"http://www.w3.org/2000/svg\"><path d=\"M15,14.3L10.7,10c1.9-2.3,1.6-5.8-0.7-7.7S4.2,0.7,2.3,3S0.7,8.8,3,10.7c2,1.7,5,1.7,7,0l4.3,4.3L15,14.3z M2,6.5\tC2,4,4,2,6.5,2S11,4,11,6.5S9,11,6.5,11S2,9,2,6.5z\"></path></svg></div><label class=\"bx--label\" for=\"bx--locale-modal__filter\" id=\"bx--locale-modal__filter-search\">Search by location or language</label><input autocomplete=\"off\" class=\"bx--search-input\" data-autoid=\"dds--locale-modal__filter\" id=\"bx--locale-modal__filter\" placeholder=\"\" role=\"searchbox\" tabindex=\"0\" type=\"text\"/><button aria-label=\"Clear search input\" class=\"bx--search-close bx--search-close--hidden\" type=\"button\"><svg aria-hidden=\"true\" fill=\"currentColor\" focusable=\"false\" height=\"16\" preserveaspectratio=\"xMidYMid meet\" viewbox=\"0 0 32 32\" width=\"16\" xmlns=\"http://www.w3.org/2000/svg\"><path d=\"M24 9.4L22.6 8 16 14.6 9.4 8 8 9.4 14.6 16 8 22.6 9.4 24 16 17.4 22.6 24 24 22.6 17.4 16 24 9.4z\"></path></svg></button></div><p class=\"bx--locale-modal__search-text\"></p></div><ul class=\"bx--locale-modal__list\"><p aria-live=\"assertive\" class=\"bx--assistive-text\" role=\"status\"></p></ul></div></div></div><button class=\"bx--visually-hidden\" type=\"button\">Focus sentinel</button></div></div></div></div></div></div></section></footer></main><script src=\"https://cdn.jsdelivr.net/npm/react@17/umd/react.production.min.js\"></script><script src=\"https://cdn.jsdelivr.net/npm/react-dom@17/umd/react-dom.production.min.js\"></script><script src=\"https://cdn.jsdelivr.net/npm/react-intl@5/dist/react-intl.min.js\"></script></div></div><script defer=\"\" src=\"//1.www.s81c.com/common/stats/ibm-common.js\"></script><link href=\"//1.www.s81c.com/common/v18/css/forms.css\" rel=\"stylesheet\"/></div><script id=\"__NEXT_DATA__\" type=\"application/json\">{\"props\":{\"pageProps\":{\"data\":{\"_id\":\"7ec18a83cb1c595406965cba92f231c4\",\"_rev\":\"12563-7cf1a5a12e0bfc51554ea02d1a839da6\",\"type\":\"production\",\"sections\":{\"leadspace\":{\"data\":{\"content\":[{\"blocklink\":true,\"largeCol\":\"bx--col-lg-6\",\"imagePos\":\"top right\",\"bgColor\":\"#000000\",\"ctaType\":\"links\",\"ctaColor\":\"gray-90\",\"webm\":\"\",\"gif\":\"\",\"videoImage\":\"\",\"ibmEvLinkTitle\":\"\",\"ibmEvGroup\":\"\",\"ibmEvName\":\"\",\"ibmEvSection\":\"L1\",\"ibmEvTarget\":\"\",\"lsPaddingTop\":\"ibm-pt-5\",\"lsPaddingBottom\":\"ibm-pb-5\",\"ctaOneVideoID\":\"\",\"ctaOneIcon\":\"forward\",\"videoID\":\"\",\"mp4\":\"\",\"type\":\"carbon\",\"ctaTwoVideoID\":\"\",\"ctaTwoIcon\":\"forward\",\"videoType\":\"kaltura\",\"alternate\":true,\"titleType\":\"bx--type-expressive-heading-05\",\"title\":\"The best of IBM 2022\\n\",\"copy\":\"From quantum breakthroughs to drug discovery, these 11 stories point to a brighter, more sustainable future\\n\",\"timestamp\":1671460488507,\"ctaOne\":\"See the year in review\",\"ctaOneLink\":\"https://www.ibm.com/thought-leadership/best-of/2022/?lnk=ushpv18l1\",\"airtableID\":\"27195\",\"imageMobile\":\"https://1.dam.s81c.com/p/0a23e3c651299e47/20221216-best-of-2022-mobile-720x360.jpg\",\"image\":\"https://1.dam.s81c.com/p/0a23e3c651299e48/20221216-best-of-2022-2304x983.jpg\",\"videoPosition\":\"video-center\",\"imageAlt\":\"Collage of semiconductor, 6 new creators, mayflower ship, man in a cleanroom, woman writing on a whiteboard, 2 men moving a mainframe \"}]}},\"newsflash\":{\"data\":{\"content\":[{\"active\":false,\"videoID\":\"\",\"bgColor\":\"#001d6c\",\"videoType\":\"kaltura\",\"ibmEvSection\":\"NF1\",\"airtableID\":\"\",\"sandbox\":false,\"title\":\"\\u003cstrong\\u003eLive updates\\u003c/strong\\u003e: See the latest product announcements and thought leadership from Think\\u0026nbsp;\\u0026#8594;\",\"stage\":false,\"timestamp\":1684332093342,\"videoTitle\":\"\",\"videoDesc\":\"\",\"link\":\"https://newsroom.ibm.com/2023-05-09-IBM-Unveils-the-Watsonx-Platform-to-Power-Next-Generation-Foundation-Models-for-Business?lnk=ushpv18nf1\"},{\"active\":false,\"videoID\":\"\",\"bgColor\":\"#001d6c\",\"videoType\":\"kaltura\",\"ibmEvSection\":\"NF2\",\"airtableID\":\"\",\"sandbox\":false,\"title\":\"\\u003cstrong\\u003eNew\\u003c/strong\\u003e: \\u0026nbsp;\\u0026#8594;\",\"stage\":false,\"timestamp\":1680192662088},{\"active\":false,\"videoID\":\"\",\"bgColor\":\"#001d6c\",\"videoType\":\"kaltura\",\"ibmEvSection\":\"NF3\",\"airtableID\":\"\",\"sandbox\":false,\"title\":\"\\u003cstrong\\u003eNew\\u003c/strong\\u003e: this is copy\\u0026nbsp;\\u0026#8594;\",\"stage\":false,\"timestamp\":1680192964674,\"videoTitle\":\"\",\"videoDesc\":\"\",\"link\":\"https://www.ibm.com/thought-leadership/smart/talks/?lnk=ushpv18nf3\"},{\"active\":false,\"videoID\":\"\",\"bgColor\":\"#001d6c\",\"videoType\":\"kaltura\",\"ibmEvSection\":\"NF4\",\"airtableID\":\"\",\"sandbox\":false,\"title\":\"\\u003cstrong\\u003eNews\\u003c/strong\\u003e: \\u0026nbsp;\\u0026#8594;\",\"stage\":false,\"timestamp\":1679574208771},{\"active\":false,\"videoID\":\"\",\"bgColor\":\"#001d6c\",\"videoType\":\"kaltura\",\"ibmEvSection\":\"NF5\",\"airtableID\":\"\",\"sandbox\":false,\"title\":\"\\u003cstrong\\u003eNew\\u003c/strong\\u003e \\u0026nbsp;\\u0026#8594;\",\"stage\":false,\"timestamp\":1679345827767,\"videoDesc\":\"\",\"link\":\"\"},{\"active\":false,\"videoID\":\"\",\"bgColor\":\"#001d6c\",\"videoType\":\"kaltura\",\"ibmEvSection\":\"NF6\",\"airtableID\":\"\",\"sandbox\":false,\"title\":\"\\u003cstrong\\u003eNew\\u003c/strong\\u003e: IBMâs comprehensive Data Management for Analytics foundation earns Leader status in 2023 Forrester Wave\\u0026nbsp;\\u0026#8594;\",\"stage\":false,\"timestamp\":1680547087561,\"videoTitle\":\"\",\"videoDesc\":\"\",\"link\":\"https://www.ibm.com/blog/ibm-named-a-leader-in-the-forrester-wave-data-management-for-analytics-q1-2023/?lnk=ushpv18nf6\"},{\"active\":false,\"videoID\":\"\",\"bgColor\":\"#001d6c\",\"videoType\":\"kaltura\",\"ibmEvSection\":\"NF7\",\"airtableID\":\"\",\"sandbox\":false,\"title\":\"\\u003cstrong\\u003eNew\\u003c/strong\\u003e: IBM and Cleveland Clinic unveil the first quantum computer dedicated to healthcare research\\u0026nbsp;\\u0026#8594;\",\"stage\":false,\"timestamp\":1679519285897,\"link\":\"https://newsroom.ibm.com/2023-03-20-Cleveland-Clinic-and-IBM-Unveil-First-Quantum-Computer-Dedicated-to-Healthcare-Research?lnk=ushpv18nf7\"},{\"active\":false,\"videoID\":\"\",\"bgColor\":\"#001d6c\",\"videoType\":\"kaltura\",\"ibmEvSection\":\"NF8\",\"airtableID\":\"\",\"sandbox\":false,\"title\":\"\\u003cstrong\\u003eNew\\u003c/strong\\u003e: AI-based sustainability solutions offer hope for 2.3 billion people living in water-stressed countries\\u0026nbsp;\\u0026#8594;\",\"stage\":false,\"timestamp\":1679574191891,\"link\":\"https://www.ibm.com/blog/how-technology-can-help-save-our-water-supply?lnk=ushpv18nf8\"}]}},\"mastheadbtn\":{\"data\":{\"content\":[{\"stage\":false,\"tool\":false,\"title\":\"Stay safe, y\\u0026#8217;all.\",\"link\":\"https://www.ibm.com/impact/covid-19/?lnk=ushpv18mb\",\"active\":false,\"timestamp\":1591040701251}]}},\"featured\":{\"data\":{\"content\":[{\"videoImage\":\"\",\"videoType\":\"kaltura\",\"ibmEvLinkTitle\":\"\",\"ibmEvGroup\":\"\",\"ibmEvName\":\"\",\"ibmEvSection\":\"F1\",\"ibmEvTarget\":\"\",\"damVideoMP4\":\"\",\"damVideoWebM\":\"\",\"icon\":\"forward\",\"videoID\":\"\",\"title\":\"27164 IBM iX\",\"timestamp\":1670602077463,\"airtableID\":\"27164\",\"eyebrow\":\"IBM iX: design-led, data-driven\",\"copy\":\"A human-centered approach helps IBM Consulting clients transform customer and employee experiences\",\"image\":\"https://1.dam.s81c.com/p/0868c64e393cf933/2017_12_Slowell_Inside_IBM_Cloud_developers_242.jpg.global.s_4x3.jpg\",\"imageAlt\":\"Two co-workers talking at a desk\",\"button\":\"\",\"link\":\"https://www.ibm.com/consulting/ibmix?lnk=ushpv18f1\"},{\"videoImage\":\"\",\"videoType\":\"youtube\",\"ibmEvLinkTitle\":\"\",\"ibmEvGroup\":\"\",\"ibmEvName\":\"\",\"ibmEvSection\":\"F2\",\"ibmEvTarget\":\"\",\"damVideoMP4\":\"\",\"damVideoWebM\":\"\",\"icon\":\"forward\",\"videoID\":\"\",\"title\":\"27173 Is your business cybersafe?\",\"copy\":\"Work with senior security consultants to understand where you are and where you need to go in this free 3\\u0026#8209;hour workshop\",\"eyebrow\":\"Is your business cybersafe?\\n\",\"timestamp\":1670602025015,\"airtableID\":\"27173\",\"image\":\"https://1.dam.s81c.com/p/08a56f9ac246227c/20220801_26754_Countdown-to-Ransomware-guide-security-intelligence-444x333.jpg\",\"link\":\"https://www.ibm.com/security/resources/workshop?lnk=ushpv18f2\",\"imageAlt\":\"Three IBM Security employees at a conference table interacting with a man at a whiteboard\"},{\"videoImage\":\"\",\"videoType\":\"youtube\",\"ibmEvLinkTitle\":\"\",\"ibmEvGroup\":\"\",\"ibmEvName\":\"\",\"ibmEvSection\":\"F3\",\"ibmEvTarget\":\"\",\"damVideoMP4\":\"\",\"damVideoWebM\":\"\",\"icon\":\"forward\",\"videoID\":\"\",\"title\":\"27158 Food trust/FSMA\",\"timestamp\":1670605658975,\"airtableID\":\"27158\",\"copy\":\"IBM Food Trust ensures a safer food supply and simplifies compliance with the latest US FDA traceability rules\",\"image\":\"https://1.dam.s81c.com/p/04d38222a5bc17ff/84962edd-c289-4d32-ad92a178655984d5.jpg.global.s_4x3.jpg\",\"mobileImg\":\"https://1.dam.s81c.com/public/content/dam/worldwide-content/homepage/ul/g/9e/7c/20210823-f-swiss-re-case-study-26069.jpg\",\"eyebrow\":\"A higher standard, farm to fork\",\"link\":\"https://www.ibm.com/products/supply-chain-intelligence-suite/food-trust?lnk=ushpv18f3\",\"imageAlt\":\"Oranges on a factory assembly line\"},{\"videoImage\":\"\",\"videoType\":\"youtube\",\"ibmEvLinkTitle\":\"\",\"ibmEvGroup\":\"\",\"ibmEvName\":\"\",\"ibmEvSection\":\"F4\",\"ibmEvTarget\":\"\",\"damVideoMP4\":\"\",\"damVideoWebM\":\"\",\"icon\":\"forward\",\"videoID\":\"\",\"title\":\"27177 Year in review newsletters\",\"image\":\"https://1.dam.s81c.com/p/08243aa34ebb7a36/2022_05_10_SpencerLowell_WorkingWorld_IBM_Brand_Library_285.jpg.global.s_4x3.jpg\",\"copy\":\"Three year-in-review newsletters will highlight the impact of todayâs technology on the future of business. Subscribe now.\",\"eyebrow\":\"2022âs top thought leadership\",\"timestamp\":1670853303889,\"airtableID\":\"27177\",\"link\":\"https://www.ibm.com/subscribe/?lnk=ushpv18f4\",\"imageAlt\":\"Orion Crew Module solar panel mockup deployment test at NASA Glen Research Center in Sandusky, Ohio\"},{\"subcopy\":\"\",\"ibmEvLinkTitle\":\"\",\"ibmEvGroup\":\"\",\"ibmEvName\":\"\",\"ibmEvSection\":\"F5\",\"ibmEvTarget\":\"\",\"button_mobile\":\"t1\",\"videoID\":\"\",\"icon\":\"forward\",\"image\":\"\",\"title\":\"\",\"eyebrow\":\"\",\"copy\":\"\",\"button\":\"\",\"timestamp\":1644590702649,\"airtableID\":\"\",\"link\":\"\"},{\"subcopy\":\"\",\"ibmEvLinkTitle\":\"\",\"ibmEvGroup\":\"\",\"ibmEvName\":\"\",\"ibmEvSection\":\"F6\",\"ibmEvTarget\":\"\",\"button_mobile\":\"t1\",\"videoID\":\"\",\"icon\":\"forward\",\"image\":\"https://1.dam.s81c.com/public/content/dam/worldwide-content/homepage/ul/g/7b/7b/20220117-cloud-simplicity-26358-2304x983.png\",\"title\":\"\",\"eyebrow\":\"A unified cloud experience\",\"copy\":\"Build, deploy and scale faster across any environment with consistency and security\",\"button\":\"Simplify your multicloud\",\"timestamp\":1643665707293,\"airtableID\":\"\",\"link\":\"https://www.ibm.com/cloud/campaign/cloud-simplicity?lnk=ushpv18f6\"},{\"videoImage\":\"\",\"videoType\":\"youtube\",\"ibmEvLinkTitle\":\"\",\"ibmEvGroup\":\"\",\"ibmEvName\":\"\",\"ibmEvSection\":\"F7\",\"ibmEvTarget\":\"\",\"damVideoMP4\":\"\",\"damVideoWebM\":\"\",\"icon\":\"forward\",\"videoID\":\"\",\"title\":\"\",\"link\":\"https://www.ibm.com/consulting/?lnk=ushpv18f7\",\"image\":\"https://1.dam.s81c.com/public/content/dam/worldwide-content/homepage/ul/g/ae/b2/20211103-f-ibm-consulting-26242.gif\",\"eyebrow\":\"Move fast and far with IBM Consulting\",\"copy\":\"Together, we can turn ideas into action better than we ever could alone\",\"button\":\"Navigate the new rules of modern business with a partner you\\u0026nbsp;trust\",\"timestamp\":1643665749045,\"airtableID\":\"\"},{\"videoID\":\"\",\"videoImage\":\"\",\"videoType\":\"youtube\",\"ibmEvLinkTitle\":\"\",\"ibmEvGroup\":\"\",\"ibmEvName\":\"\",\"ibmEvSection\":\"F8\",\"ibmEvTarget\":\"\",\"damVideoMP4\":\"\",\"damVideoWebM\":\"\",\"icon\":\"forward\",\"timestamp\":1643665604671,\"title\":\"\",\"eyebrow\":\"\",\"button\":\"\",\"copy\":\"\",\"image\":\"\",\"link\":\"\",\"airtableID\":\"\"},{\"videoImage\":\"\",\"videoType\":\"kaltura\",\"ibmEvLinkTitle\":\"\",\"ibmEvGroup\":\"\",\"ibmEvName\":\"\",\"ibmEvSection\":\"F9\",\"ibmEvTarget\":\"\",\"damVideoMP4\":\"\",\"damVideoWebM\":\"\",\"icon\":\"forward\",\"videoID\":\"\",\"title\":\"\",\"image\":\"\",\"link\":\"\",\"button\":\"\",\"eyebrow\":\"\",\"copy\":\"\",\"timestamp\":1643665619583,\"airtableID\":\"\"},{\"subcopy\":\"\",\"ibmEvLinkTitle\":\"\",\"ibmEvGroup\":\"\",\"ibmEvName\":\"\",\"ibmEvSection\":\"F10\",\"ibmEvTarget\":\"\",\"button_mobile\":\"t1\",\"videoID\":\"\",\"icon\":\"forward\",\"image\":\"\",\"title\":\"\",\"eyebrow\":\"\",\"copy\":\"\",\"button\":\"\",\"link\":\"\",\"timestamp\":1643665630573,\"airtableID\":\"\"},{\"subcopy\":\"\",\"ibmEvLinkTitle\":\"\",\"ibmEvGroup\":\"\",\"ibmEvName\":\"\",\"ibmEvSection\":\"F11\",\"ibmEvTarget\":\"\",\"button_mobile\":\"t1\",\"videoID\":\"\",\"icon\":\"forward\",\"image\":\"\",\"title\":\"\",\"eyebrow\":\"\",\"copy\":\"\",\"button\":\"\",\"link\":\"\",\"timestamp\":1643665641479,\"airtableID\":\"\"},{\"videoImage\":\"\",\"videoType\":\"kaltura\",\"ibmEvLinkTitle\":\"\",\"ibmEvGroup\":\"\",\"ibmEvName\":\"\",\"ibmEvSection\":\"F12\",\"ibmEvTarget\":\"\",\"damVideoMP4\":\"\",\"damVideoWebM\":\"\",\"icon\":\"forward\",\"videoID\":\"\",\"title\":\"\",\"eyebrow\":\"\",\"copy\":\"\",\"button\":\"\",\"image\":\"\",\"link\":\"\",\"timestamp\":1643665651571,\"airtableID\":\"\"}]},\"config\":{\"type\":\"quatro\",\"totalCards\":\"12\"}},\"research\":{\"data\":{\"content\":[{\"videoImage\":\"\",\"videoType\":\"youtube\",\"ibmEvLinkTitle\":\"\",\"ibmEvGroup\":\"\",\"ibmEvName\":\"\",\"ibmEvSection\":\"R1\",\"ibmEvTarget\":\"\",\"damVideoMP4\":\"\",\"damVideoWebM\":\"\",\"icon\":\"forward\",\"videoID\":\"\",\"title\":\"27189 Spot the dog safety monitor\",\"timestamp\":1670853838373,\"airtableID\":\"27189\",\"image\":\"https://1.dam.s81c.com/p/0a23e41430abcb17/20221208-r1-spot-the-dog-robotics-offerings-27188-1600x900.jpg\",\"mobileImg\":\"https://1.dam.s81c.com/public/content/dam/worldwide-content/homepage/ul/g/9e/7c/20210823-f-swiss-re-case-study-26069.jpg\",\"headline\":\"Pin-Yu Chen challenges AI every day to build the most trustworthy systems possible\",\"eyebrow\":\"Will Spot the danger-detecting robot be your safety inspectorâs best friend?\",\"imageAlt\":\"composite image featuring Spot, the dog-like robot\",\"copy\":\"\\n\",\"link\":\"https://research.ibm.com/blog/ibm-ai-edge-national-grid-monitoring?lnk=ushpv18r1\"},{\"videoImage\":\"\",\"videoType\":\"youtube\",\"ibmEvLinkTitle\":\"\",\"ibmEvGroup\":\"\",\"ibmEvName\":\"\",\"ibmEvSection\":\"R2\",\"ibmEvTarget\":\"\",\"damVideoMP4\":\"\",\"damVideoWebM\":\"\",\"icon\":\"forward\",\"videoID\":\"\",\"title\":\"27190 Quantum Open Science Prize\",\"timestamp\":1670593706262,\"airtableID\":\"27190\",\"copy\":\"\\n\",\"image\":\"https://1.dam.s81c.com/p/09f257ea96c87909/20221205-r1-quantum-open-science-prize-1600x900.png\",\"mobileImg\":\"https://1.dam.s81c.com/public/content/dam/worldwide-content/homepage/ul/g/9e/7c/20210823-f-swiss-re-case-study-26069.jpg\",\"headline\":\"AI processes can have a massive carbon footprint. They donât have to, thanks to analog AI.\",\"eyebrow\":\"IBM Quantumâs Open Science Prize seeks the best open source solutions to pressing problems\",\"imageAlt\":\"Schematic illustration of the honeycomb-pattered Kagome lattice\",\"link\":\"https://research.ibm.com/blog/ibm-quantum-open-science-prize-2022?lnk=ushpv18r2\"},{\"videoImage\":\"\",\"videoType\":\"youtube\",\"ibmEvLinkTitle\":\"\",\"ibmEvGroup\":\"\",\"ibmEvName\":\"\",\"ibmEvSection\":\"R3\",\"ibmEvTarget\":\"\",\"damVideoMP4\":\"\",\"damVideoWebM\":\"\",\"icon\":\"forward\",\"videoID\":\"\",\"title\":\"27191 Ruthenium 1nm chip\",\"timestamp\":1670593873723,\"airtableID\":\"27191\",\"copy\":\"\\n\",\"image\":\"https://1.dam.s81c.com/p/09e9905470286c48/20221205-r1-1nm-chips-ruthenium-27178-1600x900.jpg\",\"mobileImg\":\"https://1.dam.s81c.com/public/content/dam/worldwide-content/homepage/ul/g/9e/7c/20210823-f-swiss-re-case-study-26069.jpg\",\"headline\":\"AI processes can have a massive carbon footprint. They donât have to, thanks to analog AI.\",\"eyebrow\":\"The 1-nanometer future: a metal called ruthenium will shrink the worldâs smallest chip below 2nm\",\"imageAlt\":\"Fingers holding a chip wafer with a computer chip closeup in an inset\",\"link\":\"https://research.ibm.com/blog/1nm-chips-vtfet-ruthenium?lnk=ushpv18r3\"},{\"videoImage\":\"\",\"videoType\":\"youtube\",\"ibmEvLinkTitle\":\"\",\"ibmEvGroup\":\"\",\"ibmEvName\":\"\",\"ibmEvSection\":\"R4\",\"ibmEvTarget\":\"\",\"damVideoMP4\":\"\",\"damVideoWebM\":\"\",\"icon\":\"forward\",\"videoID\":\"https://www.ibm.com/thought-leadership/institute-business-value/report/space-cloud-computing\",\"title\":\"27192 PyTorch AI foundation models\",\"timestamp\":1670593999804,\"airtableID\":\"27192\",\"image\":\"https://1.dam.s81c.com/p/09e98ff48ebdd003/20221128-r-pytorch-foundational-models-27155-800x450.png\",\"mobileImg\":\"https://1.dam.s81c.com/public/content/dam/worldwide-content/homepage/ul/g/9e/7c/20210823-f-swiss-re-case-study-26069.jpg\",\"headline\":\"Pin-Yu Chen challenges AI every day to build the most trustworthy systems possible\",\"eyebrow\":\"Train large AI models using standard Ethernet networking on Red Hat OpenShift, on any cloud\\n\",\"imageAlt\":\"intersecting groups of lines representing networking\",\"copy\":\"\\n\",\"link\":\"https://research.ibm.com/blog/ibm-pytorch-cloud-ai-ethernet?lnk=ushpv18r4\"}]},\"config\":{\"enabled\":\"true\",\"type\":\"carousel\",\"totalCards\":\"12\"}},\"makers\":{\"data\":{\"content\":[{\"alternate\":true,\"ctaColor\":\"red-50\",\"ibmEvLinkTitle\":\"\",\"ibmEvGroup\":\"\",\"ibmEvName\":\"case study\",\"ibmEvSection\":\"M1\",\"ibmEvTarget\":\"\",\"imageMobile\":\"\",\"damVideoMP4\":\"\",\"damVideoWebM\":\"\",\"ctaCopyThree\":\"\",\"ctaLinkTwoThree\":\"\",\"imagePos\":\"center center\",\"copyTwo\":\"\",\"videoType\":\"kaltura\",\"eyebrow\":\"Sustainability insights make facilities work more efficiently\",\"airtableID\":\"27171\",\"videoID\":\"\",\"mobileColumnHalf\":true,\"timestamp\":1671118406356,\"ctaLinkOne\":\"https://www.ibm.com/case-studies/audi-uk/?lnk=ushpv18cs1\",\"copyOne\":\"A commitment to enhanced user experience enabled Audi UK to deepen its connection to customers\",\"title\":\"27171 GRE-Envizi\",\"ctaCopyOne\":\"See how IBM Consulting helped boost lead generation by 59%\",\"button\":\"See how data provided by the Envizi ESG Suite helped IBM reduce carbon emissions by 62%\",\"copy\":\"IBM Global Real Estate needed a greener way to manage more than 50 million square feet of space worldwide\",\"link\":\"https://www.ibm.com/case-studies/ibm-gre?lnk=ushpv18m1\",\"image\":\"https://1.dam.s81c.com/p/09e9905470a86c9a/20221212-m-gre-envizi-27171-1600x900.jpg\",\"imageAlt\":\"A Black professional in an office building overlooking green landscape\"},{\"alternate\":true,\"ctaColor\":\"red-50\",\"ibmEvLinkTitle\":\"\",\"ibmEvGroup\":\"\",\"ibmEvName\":\"case study\",\"ibmEvSection\":\"M2\",\"ibmEvTarget\":\"\",\"imageMobile\":\"\",\"damVideoMP4\":\"\",\"damVideoWebM\":\"\",\"ctaCopyThree\":\"\",\"ctaLinkTwoThree\":\"\",\"imagePos\":\"center center\",\"copyTwo\":\"\",\"videoType\":\"kaltura\",\"eyebrow\":\"For predictable trains, we need predictive maintenance\",\"airtableID\":\"27193\",\"videoID\":\"\",\"mobileColumnHalf\":true,\"timestamp\":1670599073776,\"ctaLinkOne\":\"https://www.ibm.com/case-studies/audi-uk/?lnk=ushpv18cs1\",\"copyOne\":\"A commitment to enhanced user experience enabled Audi UK to deepen its connection to customers\",\"title\":\"27193 Downer Group\",\"ctaCopyOne\":\"See how IBM Consulting helped boost lead generation by 59%\",\"button\":\"Working with IBM Consulting, they created TrainDNA and increased reliability by 51%\",\"copy\":\"When Australia moved to outsource operation of its railroad system, the Downer Group needed a way to handle a huge new workload\",\"link\":\"https://www.ibm.com/case-studies/downer?lnk=ushpv18m2\",\"image\":\"https://1.dam.s81c.com/p/09f257ea96c8790a/20221205-m-downer-group-27163-1600x900.jpg\",\"imageAlt\":\"Young woman looking out a train window at the landscape passing by\"},{\"alternate\":true,\"ctaColor\":\"red-50\",\"ibmEvLinkTitle\":\"\",\"ibmEvGroup\":\"\",\"ibmEvName\":\"case study\",\"ibmEvSection\":\"M3\",\"ibmEvTarget\":\"\",\"imageMobile\":\"\",\"damVideoMP4\":\"\",\"damVideoWebM\":\"\",\"ctaCopyThree\":\"\",\"ctaLinkTwoThree\":\"\",\"imagePos\":\"center center\",\"copyTwo\":\"\",\"videoType\":\"kaltura\",\"eyebrow\":\"New Jersey keeps the heat and lights on for those in need\",\"airtableID\":\"27194\",\"videoID\":\"\",\"mobileColumnHalf\":true,\"timestamp\":1670599058497,\"ctaLinkOne\":\"https://www.ibm.com/case-studies/audi-uk/?lnk=ushpv18cs1\",\"copyOne\":\"A commitment to enhanced user experience enabled Audi UK to deepen its connection to customers\",\"title\":\"27194 State of New Jersey\",\"ctaCopyOne\":\"See how IBM Consulting helped boost lead generation by 59%\",\"button\":\"IBM Consulting designed a portal that handles 6,200 calls a month, fast-tracking $127M in relief\",\"copy\":\"The pandemic caused many low-income residents to fall behind on their utility bills, putting their home heating at risk\",\"link\":\"https://www.ibm.com/case-studies/new-jersey-department-of-community-affairs/?lnk=ushpv18m3\",\"image\":\"https://1.dam.s81c.com/p/09e98ff48ebdd004/20221128-m-new-jersey-department-of-community-affairs-27154-1600x900.jpg\",\"imageAlt\":\"Winter view of suburban houses through frost on a window\"}]},\"config\":{\"enabled\":\"true\",\"type\":\"carousel\",\"totalCards\":\"12\"}},\"tech\":{\"data\":{\"content\":[{\"imageMobile\":\"10312017-n-episode6-starwars-600x260.jpg\",\"videoType\":\"kaltura\",\"ibmEvLinkTitle\":\"Dear Tech Sonoma\",\"ibmEvGroup\":\"Advertising\",\"ibmEvName\":\"Ad support\",\"ibmEvSection\":\"DT\",\"ibmEvTarget\":\"\",\"damVideoMP4\":\"\",\"damVideoWebM\":\"\",\"videoID\":\"\",\"icon\":\"forward\",\"copy\":\"\",\"link\":\"\",\"airtableID\":\"\",\"title\":\"\",\"eyebrow\":\"\",\"button\":\"\",\"image\":\"\",\"timestamp\":1598626304757},{\"icon\":\"forward\",\"videoID\":\"\",\"videoType\":\"kaltura\",\"ibmEvLinkTitle\":\"Network Consulting Services\",\"ibmEvGroup\":\"GTS\",\"ibmEvName\":\"service\",\"ibmEvSection\":\"BT\",\"ibmEvTarget\":\"\",\"damVideoMP4\":\"\",\"damVideoWebM\":\"\",\"title\":\"\",\"eyebrow\":\"\",\"image\":\"\",\"copy\":\"\",\"button\":\"\",\"link\":\"\",\"timestamp\":1598626317181,\"airtableID\":\"\"},{\"videoType\":\"kaltura\",\"ibmEvLinkTitle\":\"Systems TechU Las Vegas\",\"ibmEvGroup\":\"STG\",\"ibmEvName\":\"event\",\"ibmEvSection\":\"ST\",\"ibmEvTarget\":\"\",\"damVideoMP4\":\"\",\"damVideoWebM\":\"\",\"videoID\":\"\",\"icon\":\"play\",\"airtableID\":\"\",\"title\":\"\",\"copy\":\"\",\"eyebrow\":\"\",\"link\":\"\",\"image\":\"\",\"button\":\"\",\"timestamp\":1598626329298}]}},\"trials\":{\"data\":{\"content\":[{\"icon\":\"forward\",\"videoID\":\"\",\"videoImage\":\"\",\"videoType\":\"youtube\",\"ibmEvLinkTitle\":\"\",\"ibmEvGroup\":\"\",\"ibmEvName\":\"\",\"ibmEvSection\":\"T1\",\"ibmEvTarget\":\"\",\"damVideoMP4\":\"\",\"damVideoWebM\":\"\",\"timestamp\":1670594621355,\"title\":\"1303 IBM Watson Assistant\",\"airtableID\":\"1303\",\"copy\":\"Help customers get stuff done quickly, easily, on any channel. Ask for a demo.\",\"eyebrow\":\"IBM Watson Assistant\",\"link\":\"https://www.ibm.com/products/watson-assistant?lnk=ushpv18t1\\u0026lnk2=trial_WatAssist\\u0026psrc=none\\u0026pexp=def\",\"image\":\"https://1.dam.s81c.com/public/content/dam/worldwide-content/homepage/ul/g/ee/15/20220216-t-ibm-watson-assistant.png\",\"imageAlt\":\"The Watson Assistant interface with text boxes and a simulated chatbot\"},{\"subcopy\":\"\",\"ibmEvLinkTitle\":\"\",\"ibmEvGroup\":\"\",\"ibmEvName\":\"\",\"ibmEvSection\":\"T2\",\"ibmEvTarget\":\"\",\"button_mobile\":\"T2\",\"icon\":\"forward\",\"timestamp\":1670594649943,\"title\":\"1304 Cloud Pak for Business Automation\",\"airtableID\":\"1304\",\"copy\":\"Build and scale automation applications on any cloud. Test drive it at no\\u0026nbsp;cost.\",\"eyebrow\":\"Cloud Pak for Business Automation\",\"image\":\"https://1.dam.s81c.com/public/content/dam/worldwide-content/homepage/ul/g/67/6a/20220216-t-ibm-cloud-pak-for-automation.png\",\"link\":\"https://www.ibm.com/cloud/cloud-pak-for-automation?lnk=ushpv18t2\\u0026lnk2=trial_CloudPakAtm\\u0026psrc=none\\u0026pexp=def\",\"imageAlt\":\"spreadsheet-type charts\"},{\"subcopy\":\"\",\"ibmEvLinkTitle\":\"\",\"ibmEvGroup\":\"\",\"ibmEvName\":\"\",\"ibmEvSection\":\"T3\",\"ibmEvTarget\":\"\",\"button_mobile\":\"T4\",\"timestamp\":1670594670414,\"airtableID\":\"1305\",\"title\":\"1305 IBM Instana Observability\",\"image\":\"https://1.dam.s81c.com/p/08f951362f270092/Instana-trial-800x450.jpg\",\"eyebrow\":\"IBM Instana Observability\",\"copy\":\"Easily manage the performance of your microservice applications. Get a free trial.\",\"link\":\"https://www.ibm.com/cloud/instana?lnk=ushpv18t3\\u0026lnk2=trial_Instana\\u0026psrc=none\\u0026pexp=def\",\"imageAlt\":\"Instana dashboard with status tables and charts\"},{\"subcopy\":\"\",\"ibmEvLinkTitle\":\"\",\"ibmEvGroup\":\"\",\"ibmEvName\":\"\",\"ibmEvSection\":\"T4\",\"ibmEvTarget\":\"\",\"button_mobile\":\"T4\",\"timestamp\":1645198930856,\"airtableID\":\"\",\"title\":\"\",\"image\":\"\",\"eyebrow\":\"\",\"copy\":\"\",\"button\":\"\",\"link\":\"\"}]}},\"contentspotlight\":{\"data\":{\"content\":[{\"alternate\":true,\"ctaColor\":\"red-50\",\"ibmEvLinkTitle\":\"\",\"ibmEvGroup\":\"\",\"ibmEvName\":\"case study\",\"ibmEvSection\":\"CS1\",\"ibmEvTarget\":\"\",\"imageMobile\":\"\",\"damVideoMP4\":\"\",\"damVideoWebM\":\"\",\"ctaCopyThree\":\"\",\"ctaLinkTwoThree\":\"\",\"imagePos\":\"center left\",\"copyTwo\":\"\",\"videoType\":\"kaltura\",\"eyebrow\":\"\",\"airtableID\":\"\",\"videoID\":\"\",\"mobileColumnHalf\":true,\"timestamp\":1645199476505,\"ctaLinkOne\":\"\",\"copyOne\":\"\",\"title\":\"\",\"ctaCopyOne\":\"\",\"image\":\"\"},{\"alternate\":true,\"image\":\"https://1.dam.s81c.com/public/content/dam/worldwide-content/homepage/ul/g/ea/ca/cs-hub-logos-k-1042x1130.png\",\"ctaColor\":\"red-50\",\"videoID\":\"\",\"videoType\":\"youtube\",\"ibmEvLinkTitle\":\"\",\"ibmEvGroup\":\"\",\"ibmEvName\":\"case study\",\"ibmEvSection\":\"CS2\",\"ibmEvTarget\":\"\",\"imageMobile\":\"\",\"damVideoMP4\":\"\",\"damVideoWebM\":\"\",\"ctaCopyThree\":\"\",\"ctaLinkTwoThree\":\"\",\"imagePos\":\"center center\",\"eyebrow\":\"25339\",\"title\":\"Client success stories\",\"ctaCopyTwo\":\"\",\"ctaCopyOne\":\"Read how industry leaders put smart to work\",\"ctaLinkTwo\":\"\",\"ctaLinkOne\":\"https://www.ibm.com/case-studies/search?search\\u0026lnk=ushpv18cs2\",\"copyOne\":\"\",\"copyTwo\":\"\",\"timestamp\":1638195426535,\"airtableID\":\"25339\",\"mobileColumnHalf\":true}]},\"config\":{\"type\":\"dos\"}},\"thinknews\":{\"data\":{\"content\":[{\"videoImage\":\"\",\"videoType\":\"youtube\",\"ibmEvLinkTitle\":\"\",\"ibmEvGroup\":\"\",\"ibmEvName\":\"\",\"ibmEvSection\":\"Th1\",\"ibmEvTarget\":\"\",\"damVideoMP4\":\"\",\"damVideoWebM\":\"\",\"icon\":\"forward\",\"videoID\":\"\",\"label\":\"\",\"title\":\"\",\"image\":\"https://1.dam.s81c.com/p/0797bc3546c3dcc9/20220405-ibm-z-multiframe-annc-444x320-26343.jpg\",\"copy\":\"Breeze through 25 billion secure transactions daily, across any hybrid cloud structure\",\"eyebrow\":\"\",\"timestamp\":1655481021045,\"airtableID\":\"\",\"link\":\"\",\"active\":false,\"sandbox\":false,\"stage\":false},{\"videoImage\":\"\",\"videoType\":\"youtube\",\"ibmEvLinkTitle\":\"\",\"ibmEvGroup\":\"\",\"ibmEvName\":\"\",\"ibmEvSection\":\"Th2\",\"ibmEvTarget\":\"\",\"damVideoMP4\":\"\",\"damVideoWebM\":\"\",\"icon\":\"forward\",\"videoID\":\"\",\"label\":\"\",\"title\":\"\",\"timestamp\":1655481064068,\"airtableID\":\"\",\"eyebrow\":\"\",\"copy\":\"Four out of five companies surveyed use or plan to adopt AI. Find out why.\\n\",\"link\":\"\",\"active\":false,\"sandbox\":false,\"stage\":false},{\"videoImage\":\"\",\"videoType\":\"youtube\",\"ibmEvLinkTitle\":\"\",\"ibmEvGroup\":\"\",\"ibmEvName\":\"\",\"ibmEvSection\":\"Th3\",\"ibmEvTarget\":\"\",\"damVideoMP4\":\"\",\"damVideoWebM\":\"\",\"icon\":\"forward\",\"videoID\":\"\",\"label\":\"\",\"title\":\"\",\"timestamp\":1655481115853,\"airtableID\":\"\",\"eyebrow\":\"\",\"copy\":\"Boost your growth with up to $120K in cloud credits and expert mentoring when you join the Startup with IBM program\\n\",\"image\":\"https://1.dam.s81c.com/public/content/dam/worldwide-content/homepage/ul/g/0e/e0/20220131-startup-26374-444x320.jpg\",\"link\":\"\",\"active\":false,\"sandbox\":false,\"stage\":false},{\"videoImage\":\"\",\"videoType\":\"youtube\",\"ibmEvLinkTitle\":\"\",\"ibmEvGroup\":\"\",\"ibmEvName\":\"\",\"ibmEvSection\":\"Th4\",\"ibmEvTarget\":\"\",\"damVideoMP4\":\"\",\"damVideoWebM\":\"\",\"icon\":\"forward\",\"videoID\":\"\",\"label\":\"\",\"title\":\"\",\"image\":\"https://1.dam.s81c.com/p/0797bc3546c3dcc9/20220405-ibm-z-multiframe-annc-444x320-26343.jpg\",\"copy\":\"Breeze through 25 billion secure transactions daily, across any hybrid cloud structure\\n\",\"eyebrow\":\"\",\"timestamp\":1655481135287,\"airtableID\":\"\",\"link\":\"\",\"active\":false,\"sandbox\":false,\"stage\":false},{\"videoImage\":\"\",\"videoType\":\"youtube\",\"ibmEvLinkTitle\":\"\",\"ibmEvGroup\":\"\",\"ibmEvName\":\"\",\"ibmEvSection\":\"Th5\",\"ibmEvTarget\":\"\",\"damVideoMP4\":\"\",\"damVideoWebM\":\"\",\"icon\":\"forward\",\"videoID\":\"\",\"label\":\"Creativity at work\",\"title\":\"\",\"timestamp\":1652111841522,\"airtableID\":\"\",\"eyebrow\":\"Meet the New Creators, 10 visionaries creatively applying technology in business to drive change\",\"copy\":\"Boost your growth with up to $120K in cloud credits and expert mentoring when you join the Startup with IBM program\\n\",\"image\":\"https://1.dam.s81c.com/public/content/dam/worldwide-content/homepage/ul/g/0e/e0/20220131-startup-26374-444x320.jpg\",\"link\":\"https://www.ibm.com/thought-leadership/new-creators?lnk=ushpv18Th3\",\"active\":false,\"sandbox\":false,\"stage\":false},{\"videoImage\":\"\",\"videoType\":\"youtube\",\"ibmEvLinkTitle\":\"\",\"ibmEvGroup\":\"\",\"ibmEvName\":\"\",\"ibmEvSection\":\"Th6\",\"ibmEvTarget\":\"\",\"damVideoMP4\":\"\",\"damVideoWebM\":\"\",\"icon\":\"forward\",\"videoID\":\"\",\"label\":\"Creativity at work\",\"title\":\"\",\"timestamp\":1652111851031,\"airtableID\":\"\",\"eyebrow\":\"Meet the New Creators, 10 visionaries creatively applying technology in business to drive change\",\"copy\":\"Boost your growth with up to $120K in cloud credits and expert mentoring when you join the Startup with IBM program\\n\",\"image\":\"https://1.dam.s81c.com/public/content/dam/worldwide-content/homepage/ul/g/0e/e0/20220131-startup-26374-444x320.jpg\",\"link\":\"https://www.ibm.com/thought-leadership/new-creators?lnk=ushpv18Th3\",\"active\":false,\"sandbox\":false,\"stage\":false}]}},\"big6LeadspaceCards\":{\"data\":{\"content\":[{\"title\":\"Work safe. Work smart.\",\"copy\":\"\",\"link\":\"https://www.ibm.com/smarter-business/work-safe?lnk=ushpv18cv1\",\"timestamp\":1591797887933},{\"title\":\"Engage customers anywhere with Watson\",\"copy\":\"\",\"link\":\"https://www.ibm.com/smarter-business/customer-experience?lnk=ushpv18cv2\",\"timestamp\":1591797833198},{\"title\":\"Enhance your IT resiliency and business continuity\",\"copy\":\"\",\"link\":\"https://www.ibm.com/services/business-continuity?lnk=ushpv18cv3\",\"timestamp\":1591797923124},{\"title\":\"Accelerate agility and efficiency with IBM Cloud\",\"copy\":\"\",\"link\":\"https://www.ibm.com/cloud/yourcloud?lnk=ushpv18cv4\",\"timestamp\":1591798189360},{\"title\":\"Protect against new cyber risks\",\"copy\":\"\",\"link\":\"https://www.ibm.com/security?lnk=ushpv18cv5\",\"timestamp\":1591990121847},{\"title\":\"Build resilient supply chains and operations\",\"copy\":\"\",\"link\":\"https://www.ibm.com/supply-chain?lnk=ushpv18cv6\",\"timestamp\":1591990130317}]}},\"certifications\":{\"data\":{\"content\":[{\"ibmEvSection\":\"tc1\",\"image\":\" https://1.dam.s81c.com/public/content/dam/worldwide-content/homepage/ul/g/bb/fd/20211018-cert-tech-u-virtual-edition.png\",\"eyebrow\":\"IBM TechU virtual edition: October 25â28\",\"title\":\"IBM TechU 2021, the virtual edition\",\"button\":\"Register to choose from 250+ sessions and labs, and engage live with experts and peers\",\"timestamp\":1634607850644,\"airtableID\":\"26189\",\"link\":\"https://www.ibm.com/training/events/vtechu2021?lnk=ushpv18tc1\",\"mobileImg\":\"https://1.dam.s81c.com/public/content/dam/worldwide-content/homepage/ul/g/bb/fd/20211018-cert-tech-u-virtual-edition.png\",\"copy\":\"\\n\"},{\"ibmEvSection\":\"tc2\",\"eyebrow\":\"Design thinking is for everyone\",\"title\":\"26192 Design thinking practitioner \",\"button\":\"Learn how to drive business results by focusing on your usersâ needs in this free course\",\"timestamp\":1634315831253,\"airtableID\":\"26192\",\"mobileImg\":\"https://1.dam.s81c.com/public/content/dam/worldwide-content/homepage/ul/g/e1/3b/20211018-cert-design-thinking.jpg\",\"copy\":\"\\n\",\"link\":\"https://www.ibm.com/design/thinking/?lnk=ushpv18tc2\",\"image\":\"https://1.dam.s81c.com/public/content/dam/worldwide-content/homepage/ul/g/e1/3b/20211018-cert-design-thinking.jpg\"}]},\"config\":{\"enabled\":\"true\"}},\"videonews\":{\"data\":{\"content\":[{\"ibmEvSection\":\"vn1\",\"alternateColor\":true,\"eyebrow\":\"AI can take you to places youâve only dreamed of\\n\",\"title\":\"26324 Data Science: Watson Studio\",\"button\":\"Build and scale trusted AI across any cloud\",\"link\":\"https://www.ibm.com/cloud/watson-studio?lnk=ushpv18vn1\",\"timestamp\":1639779183583,\"airtableID\":\"26324\",\"copy\":\"Get there with Watson Studio, a simpler way to turn predictions into decisions collaboratively, on any cloud, on one data and AI platform\",\"videoLength\":\"1:13\",\"videoId\":\"1_iej13uex\",\"image\":\"https://1.dam.s81c.com/public/content/dam/worldwide-content/homepage/ul/g/82/93/20211025-vn-data-science-watson-studio-1200x900.jpg\"},{\"ibmEvSection\":\"vn2\",\"eyebrow\":\"A ânever trust, always verifyâ security model\\n\",\"title\":\"26325 Zero Trust Security\",\"button\":\"Read about zero trust architecture and the future of security\",\"timestamp\":1639779210749,\"airtableID\":\"26325\",\"copy\":\"On average, it can take 77 days to contain an insider data breach. Companies with a zero trust framework in place can do so in near-real time.\",\"videoLength\":\"3:06\",\"videoId\":\"1_yr2j7p5f\",\"image\":\"https://1.dam.s81c.com/public/content/dam/worldwide-content/homepage/ul/g/2e/5a/20211115-vn-zero-trust-security-26254-1200x900.jpg\",\"alternateColor\":true,\"link\":\"https://www.ibm.com/security/zero-trust?lnk=ushpv18vn2\"},{\"ibmEvSection\":\"vn3\",\"eyebrow\":\"Home Trust and IBM Cloud: prepared for the unforeseeable\\n\",\"title\":\"26326 Home Trust CS\",\"button\":\"Learn how the right platform supported the workforce during COVID\\u0026#8209;19 lockdowns\",\"timestamp\":1639779304922,\"airtableID\":\"26326\",\"copy\":\"Because of an early transition to IBM Cloud, one of Canadaâs leading financial institutions was able to change to remote work and thrive in 2020\",\"videoLength\":\"2:37\",\"videoId\":\"1_fz1liaxf\",\"image\":\"https://1.dam.s81c.com/public/content/dam/worldwide-content/homepage/ul/g/37/78/20211122-vn-home-trust-26271-1200x900.jpg\",\"alternateColor\":true,\"link\":\"https://www.ibm.com/case-studies/home-trust/?lnk=ushpv18vn3\"}]},\"config\":{\"enabled\":\"true\"}}}}},\"__N_SSG\":true},\"page\":\"/\",\"query\":{},\"buildId\":\"GOv78uGYnj1HUWijm7wsY\",\"assetPrefix\":\"/us-en\",\"isFallback\":false,\"gsp\":true}</script><script nomodule=\"\" src=\"/us-en/_next/static/chunks/polyfills-9833fce64ddcd9890799.js\"></script><script async=\"\" src=\"/us-en/_next/static/chunks/webpack-efe80ee844a9022fd0e2.js\"></script><script async=\"\" src=\"/us-en/_next/static/chunks/framework.602aaa49e9cf44108ea4.js\"></script><script async=\"\" src=\"/us-en/_next/static/chunks/commons.486068ba304b1d7b0ba9.js\"></script><script async=\"\" src=\"/us-en/_next/static/chunks/f6078781a05fe1bcb0902d23dbbb2662c8d200b3.5deba672f79b79f44c20.js\"></script><script async=\"\" src=\"/us-en/_next/static/chunks/main-ed6cf0c36d35240496db.js\"></script><script async=\"\" src=\"/us-en/_next/static/chunks/styles.e2ab77bff09fb0e02917.js\"></script><script async=\"\" src=\"/us-en/_next/static/chunks/pages/_app-b018c55b3b549dc21bcb.js\"></script><script async=\"\" src=\"/us-en/_next/static/chunks/1c920f04.f50eb41f4d89f09b8cba.js\"></script><script async=\"\" src=\"/us-en/_next/static/chunks/5f6bb6fb.300dacea822e381d9067.js\"></script><script async=\"\" src=\"/us-en/_next/static/chunks/8f19d780.cfcea62b1bf460ae6516.js\"></script><script async=\"\" src=\"/us-en/_next/static/chunks/262b3caa.2e24298014049ac3eaaf.js\"></script><script async=\"\" src=\"/us-en/_next/static/chunks/8edc3fe5.86126d19706a35cdab30.js\"></script><script async=\"\" src=\"/us-en/_next/static/chunks/fc20e1c4.9c68a4d27f92797da9c2.js\"></script><script async=\"\" src=\"/us-en/_next/static/chunks/23420901.8250c62b5cef01ee1f72.js\"></script><script async=\"\" src=\"/us-en/_next/static/chunks/28aba01c.9d77ad761d36e29722ba.js\"></script><script async=\"\" src=\"/us-en/_next/static/chunks/a37fbe3b.99d9d1e8a14441d7d06c.js\"></script><script async=\"\" src=\"/us-en/_next/static/chunks/bc80632e.c19684f13cd3dbbc2af3.js\"></script><script async=\"\" src=\"/us-en/_next/static/chunks/1dd0fb51.6c2c45d9605e7e99c0d4.js\"></script><script async=\"\" src=\"/us-en/_next/static/chunks/56b0df7b.540169fd68072de46c3b.js\"></script><script async=\"\" src=\"/us-en/_next/static/chunks/b222b98b.3815a5805f6d59029553.js\"></script><script async=\"\" src=\"/us-en/_next/static/chunks/c9b4a249.4d882b671cce9d34b00f.js\"></script><script async=\"\" src=\"/us-en/_next/static/chunks/74de52bc.6ece264c0cfa2f028f06.js\"></script><script async=\"\" src=\"/us-en/_next/static/chunks/500f7593.c3e55e2f29d478eb4839.js\"></script><script async=\"\" src=\"/us-en/_next/static/chunks/4119064d.d083604b6642730ddf69.js\"></script><script async=\"\" src=\"/us-en/_next/static/chunks/ca24283e.6d4677a3e8001704f3af.js\"></script><script async=\"\" src=\"/us-en/_next/static/chunks/44c26961.a64796aedfbe08368340.js\"></script><script async=\"\" src=\"/us-en/_next/static/chunks/8649a756.b2e5165f3e79ff775919.js\"></script><script async=\"\" src=\"/us-en/_next/static/chunks/abb99899.e27821019e35ae97c122.js\"></script><script async=\"\" src=\"/us-en/_next/static/chunks/5d8d49e442f4e00190cb1a13966c1f91ed87c0f4.a46dd657bb763e65563b.js\"></script><script async=\"\" src=\"/us-en/_next/static/chunks/pages/index-79e4fab3989ed0ec8653.js\"></script><script async=\"\" src=\"/us-en/_next/static/GOv78uGYnj1HUWijm7wsY/_buildManifest.js\"></script><script async=\"\" src=\"/us-en/_next/static/GOv78uGYnj1HUWijm7wsY/_ssgManifest.js\"></script><script src=\"/aGyV6V7QFaKuXI0Q-MQ-/O35i2mtSwJ/dGlCBz05LA/LyUNNRxz/NAMB\" type=\"text/javascript\"></script><link href=\"/_sec/cp_challenge/sec-3-10.css\" rel=\"stylesheet\" type=\"text/css\"/>\n",
              "<script async=\"\" defer=\"\" src=\"/_sec/cp_challenge/sec-cpt-3-10.js\"></script>\n",
              "<div id=\"sec-overlay\" style=\"display:none;\">\n",
              "<div id=\"sec-container\">\n",
              "</div>\n",
              "</div></body></html>"
            ]
          },
          "metadata": {},
          "execution_count": 102
        }
      ]
    },
    {
      "cell_type": "code",
      "source": [
        "#scrape all links\n",
        "for link in soup.find_all('a', href = True):\n",
        "  print(link.get('href'))"
      ],
      "metadata": {
        "colab": {
          "base_uri": "https://localhost:8080/"
        },
        "id": "Ta42gL9_sme8",
        "outputId": "e54f6604-2d1a-40d0-b88c-4abb0b794e7b"
      },
      "execution_count": 101,
      "outputs": [
        {
          "output_type": "stream",
          "name": "stdout",
          "text": [
            "https://ibm-techxchange.bemyapp.com/watsonx\n",
            "https://www.ibm.com/subscribe\n",
            "https://www.ibm.com/products/watsonx-ai\n",
            "https://www.ibm.com/products/watsonx-data\n",
            "https://www.ibm.com/products/watsonx-governance\n",
            "https://research.ibm.com/blog/generative-ai-for-enterprise\n",
            "https://www.ibm.com/cloud?lnk=flatitem\n",
            "https://www.ibm.com/products\n",
            "#bx--custom-footnotes\n",
            "https://www.ibm.com/consulting\n",
            "https://www.ibm.com/about\n",
            "https://research.ibm.com/\n",
            "https://www.ibm.com/careers/us-en/\n",
            "https://www.ibm.com/impact\n",
            "https://skillsbuild.org/\n",
            "https://www.gartner.com/en/documents/4007140\n",
            "https://www.ibm.com/\n"
          ]
        }
      ]
    },
    {
      "cell_type": "code",
      "source": [
        "for img in soup.find_all(\"img\"):\n",
        "  print(img)\n",
        "  print(img.get('src'))"
      ],
      "metadata": {
        "colab": {
          "base_uri": "https://localhost:8080/"
        },
        "id": "yoyLGoeQtFVQ",
        "outputId": "cf3f9066-4bcf-43ab-c171-7bc9e19b9688"
      },
      "execution_count": 103,
      "outputs": [
        {
          "output_type": "stream",
          "name": "stdout",
          "text": [
            "<img alt=\"Concentric illustration showing watsonx.ai capabilities\" aria-describedby=\"bx--image-1\" class=\"bx--image__img\" src=\"https://1.dam.s81c.com/p/0b52089e994c221c/ibm-watsonxai-aspectratio-2-by-1.png.global.xs_1x1.png\"/>\n",
            "https://1.dam.s81c.com/p/0b52089e994c221c/ibm-watsonxai-aspectratio-2-by-1.png.global.xs_1x1.png\n",
            "<img alt=\"Concentric illustration showing watsonx.data capabilities\" aria-describedby=\"bx--image-2\" class=\"bx--image__img\" src=\"https://1.dam.s81c.com/p/0b526de85b441e06/IBM_WatsonXData_A05.png.global.xs_1x1.png\"/>\n",
            "https://1.dam.s81c.com/p/0b526de85b441e06/IBM_WatsonXData_A05.png.global.xs_1x1.png\n",
            "<img alt=\"Concentric illustration showing watsonx.governance capabilities\" aria-describedby=\"bx--image-3\" class=\"bx--image__img\" src=\"https://1.dam.s81c.com/p/0b526de85b441e07/IBM_WatsonXGovernance_A03.png.global.xs_1x1.png\"/>\n",
            "https://1.dam.s81c.com/p/0b526de85b441e07/IBM_WatsonXGovernance_A03.png.global.xs_1x1.png\n",
            "<img alt=\"Blue and black pixels illustrating the capabilities of generative AI\" aria-describedby=\"bx--image-4\" class=\"bx--image__img\" src=\"https://1.dam.s81c.com/p/0b5208b36a4c2422/Generative_AI.jpg\"/>\n",
            "https://1.dam.s81c.com/p/0b5208b36a4c2422/Generative_AI.jpg\n",
            "<img alt=\"Grid of IBM consultant portraits\" class=\"bx--image__img\" src=\"https://1.dam.s81c.com/p/0aac9cf57bcbf324/dotcom-1-overview.jpg\"/>\n",
            "https://1.dam.s81c.com/p/0aac9cf57bcbf324/dotcom-1-overview.jpg\n",
            "<img alt=\"A large quantum server at IBM Research\" class=\"bx--image__img bx--card__img\" src=\"https://1.dam.s81c.com/p/058f8f979abf1c0b/ibm-quantum-system-one.png.global.m_1x1.png\"/>\n",
            "https://1.dam.s81c.com/p/058f8f979abf1c0b/ibm-quantum-system-one.png.global.m_1x1.png\n",
            "<img alt=\"Technician working on internal wiring system\" class=\"bx--image__img bx--card__img\" src=\"https://1.dam.s81c.com/p/0656655b47a3af99/0100129_Oppermann_PE.jpg.global.m_1x1.png\"/>\n",
            "https://1.dam.s81c.com/p/0656655b47a3af99/0100129_Oppermann_PE.jpg.global.m_1x1.png\n",
            "<img alt=\"Aerial view of solar panels is in graphic rows\" class=\"bx--image__img bx--card__img\" src=\"https://1.dam.s81c.com/p/07d5a7f25cc3d97e/dji_0758.jpg.global.m_1x1.png\"/>\n",
            "https://1.dam.s81c.com/p/07d5a7f25cc3d97e/dji_0758.jpg.global.m_1x1.png\n",
            "<img alt=\"Environmental portrait of employee in office with server\" class=\"bx--image__img bx--card__img\" src=\"https://1.dam.s81c.com/p/0aac9d02d6cbf501/universitychile0013846.jpg.global.m_1x1.png\"/>\n",
            "https://1.dam.s81c.com/p/0aac9d02d6cbf501/universitychile0013846.jpg.global.m_1x1.png\n"
          ]
        }
      ]
    },
    {
      "cell_type": "code",
      "source": [
        "#The below url contains an html table with data about colors and color codes.\n",
        "url = \"https://cf-courses-data.s3.us.cloud-object-storage.appdomain.cloud/IBM-DA0321EN-SkillsNetwork/labs/datasets/HTMLColorCodes.html\""
      ],
      "metadata": {
        "id": "aIPihZmbtqHG"
      },
      "execution_count": 104,
      "outputs": []
    },
    {
      "cell_type": "code",
      "source": [
        "data = requests.get(url).text\n",
        "data"
      ],
      "metadata": {
        "colab": {
          "base_uri": "https://localhost:8080/",
          "height": 191
        },
        "id": "Bvh7l3NAt0hk",
        "outputId": "bccb516e-3aaf-4b47-9f1c-937abc42d01b"
      },
      "execution_count": 105,
      "outputs": [
        {
          "output_type": "execute_result",
          "data": {
            "text/plain": [
              "'<html>\\n   <body>\\n      <h1>Partital List  of HTML5 Supported Colors</h1>\\n<table border =\"1\" class=\"main-table\">\\n   <tr>\\n      <td>Number </td>\\n      <td>Color</td>\\n      <td>Color Name</td>\\n      <td>Hex Code<br>#RRGGBB</td>\\n      <td>Decimal Code<br>(R,G,B)</td>\\n   </tr>\\n   <tr>\\n      <td>1</td>\\n      <td style=\"background:lightsalmon;\">&nbsp;</td>\\n      <td>lightsalmon</td>\\n      <td>#FFA07A</td>\\n      <td>rgb(255,160,122)</td>\\n   </tr>\\n   <tr>\\n      <td>2</td>\\n      <td style=\"background:salmon;\">&nbsp;</td>\\n      <td>salmon</td>\\n      <td>#FA8072</td>\\n      <td>rgb(250,128,114)</td>\\n   </tr>\\n   <tr>\\n      <td>3</td>\\n      <td style=\"background:darksalmon;\">&nbsp;</td>\\n      <td>darksalmon</td>\\n      <td>#E9967A</td>\\n      <td>rgb(233,150,122)</td>\\n   </tr>\\n   <tr>\\n      <td>4</td>\\n      <td style=\"background:lightcoral;\">&nbsp;</td>\\n      <td>lightcoral</td>\\n      <td>#F08080</td>\\n      <td>rgb(240,128,128)</td>\\n   </tr>\\n   <tr>\\n      <td>5</td>\\n      <td style=\"background:coral;\">&nbsp;</td>\\n      <td>coral</td>\\n      <td>#FF7F50</td>\\n      <td>rgb(255,127,80)</td>\\n   </tr>\\n   <tr>\\n      <td>6</td>\\n      <td style=\"background:tomato;\">&nbsp;</td>\\n      <td>tomato</td>\\n      <td>#FF6347</td>\\n      <td>rgb(255,99,71)</td>\\n   </tr>\\n   <tr>\\n      <td>7</td>\\n      <td style=\"background:orangered;\">&nbsp;</td>\\n      <td>orangered</td>\\n      <td>#FF4500</td>\\n      <td>rgb(255,69,0)</td>\\n   </tr>\\n   <tr>\\n      <td>8</td>\\n      <td style=\"background:gold;\">&nbsp;</td>\\n      <td>gold</td>\\n      <td>#FFD700</td>\\n      <td>rgb(255,215,0)</td>\\n   </tr>\\n   <tr>\\n      <td>9</td>\\n      <td style=\"background:orange;\">&nbsp;</td>\\n      <td>orange</td>\\n      <td>#FFA500</td>\\n      <td>rgb(255,165,0)</td>\\n   </tr>\\n   <tr>\\n      <td>10</td>\\n      <td style=\"background:darkorange;\">&nbsp;</td>\\n      <td>darkorange</td>\\n      <td>#FF8C00</td>\\n      <td>rgb(255,140,0)</td>\\n   </tr>\\n   <tr>\\n      <td>11</td>\\n      <td style=\"background:lightyellow;\">&nbsp;</td>\\n      <td>lightyellow</td>\\n      <td>#FFFFE0</td>\\n      <td>rgb(255,255,224)</td>\\n   </tr>\\n   <tr>\\n      <td>12</td>\\n      <td style=\"background:lemonchiffon;\">&nbsp;</td>\\n      <td>lemonchiffon</td>\\n      <td>#FFFACD</td>\\n      <td>rgb(255,250,205)</td>\\n   </tr>\\n   <tr>\\n      <td>13</td>\\n      <td style=\"background:papayawhip;\">&nbsp;</td>\\n      <td>papayawhip</td>\\n      <td>#FFEFD5</td>\\n      <td>rgb(255,239,213)</td>\\n   </tr>\\n   <tr>\\n      <td>14</td>\\n      <td style=\"background:moccasin;\">&nbsp;</td>\\n      <td>moccasin</td>\\n      <td>#FFE4B5</td>\\n      <td>rgb(255,228,181)</td>\\n   </tr>\\n   <tr>\\n      <td>15</td>\\n      <td style=\"background:peachpuff;\">&nbsp;</td>\\n      <td>peachpuff</td>\\n      <td>#FFDAB9</td>\\n      <td>rgb(255,218,185)</td>\\n   </tr>\\n   <tr>\\n      <td>16</td>\\n      <td style=\"background:palegoldenrod;\">&nbsp;</td>\\n      <td>palegoldenrod</td>\\n      <td>#EEE8AA</td>\\n      <td>rgb(238,232,170)</td>\\n   </tr>\\n   <tr>\\n      <td>17</td>\\n      <td style=\"background:khaki;\">&nbsp;</td>\\n      <td>khaki</td>\\n      <td>#F0E68C</td>\\n      <td>rgb(240,230,140)</td>\\n   </tr>\\n   <tr>\\n      <td>18</td>\\n      <td style=\"background:darkkhaki;\">&nbsp;</td>\\n      <td>darkkhaki</td>\\n      <td>#BDB76B</td>\\n      <td>rgb(189,183,107)</td>\\n   </tr>\\n   <tr>\\n      <td>19</td>\\n      <td style=\"background:yellow;\">&nbsp;</td>\\n      <td>yellow</td>\\n      <td>#FFFF00</td>\\n      <td>rgb(255,255,0)</td>\\n   </tr>\\n   <tr>\\n      <td>20</td>\\n      <td style=\"background:lawngreen;\">&nbsp;</td>\\n      <td>lawngreen</td>\\n      <td>#7CFC00</td>\\n      <td>rgb(124,252,0)</td>\\n   </tr>\\n   <tr>\\n      <td>21</td>\\n      <td style=\"background:chartreuse;\">&nbsp;</td>\\n      <td>chartreuse</td>\\n      <td>#7FFF00</td>\\n      <td>rgb(127,255,0)</td>\\n   </tr>\\n   <tr>\\n      <td>22</td>\\n      <td style=\"background:limegreen;\">&nbsp;</td>\\n      <td>limegreen</td>\\n      <td>#32CD32</td>\\n      <td>rgb(50,205,50)</td>\\n   </tr>\\n   <tr>\\n      <td>23</td>\\n      <td style=\"background:lime;\">&nbsp;</td>\\n      <td>lime</td>\\n      <td>#00FF00</td>\\n      <td>rgb(0.255.0)</td>\\n   </tr>\\n   <tr>\\n      <td>24</td>\\n      <td style=\"background:forestgreen;\">&nbsp;</td>\\n      <td>forestgreen</td>\\n      <td>#228B22</td>\\n      <td>rgb(34,139,34)</td>\\n   </tr>\\n   <tr>\\n      <td>25</td>\\n      <td style=\"background:green;\">&nbsp;</td>\\n      <td>green</td>\\n      <td>#008000</td>\\n      <td>rgb(0,128,0)</td>\\n   </tr>\\n   <tr>\\n      <td>26</td>\\n      <td style=\"background:powderblue;\">&nbsp;</td>\\n      <td>powderblue</td>\\n      <td>#B0E0E6</td>\\n      <td>rgb(176,224,230)</td>\\n   </tr>\\n   <tr>\\n      <td>27</td>\\n      <td style=\"background:lightblue;\">&nbsp;</td>\\n      <td>lightblue</td>\\n      <td>#ADD8E6</td>\\n      <td>rgb(173,216,230)</td>\\n   </tr>\\n   <tr>\\n      <td>28</td>\\n      <td style=\"background:lightskyblue;\">&nbsp;</td>\\n      <td>lightskyblue</td>\\n      <td>#87CEFA</td>\\n      <td>rgb(135,206,250)</td>\\n   </tr>\\n   <tr>\\n      <td>29</td>\\n      <td style=\"background:skyblue;\">&nbsp;</td>\\n      <td>skyblue</td>\\n      <td>#87CEEB</td>\\n      <td>rgb(135,206,235)</td>\\n   </tr>\\n   <tr>\\n      <td>30</td>\\n      <td style=\"background:deepskyblue;\">&nbsp;</td>\\n      <td>deepskyblue</td>\\n      <td>#00BFFF</td>\\n      <td>rgb(0,191,255)</td>\\n   </tr>\\n   <tr>\\n      <td>31</td>\\n      <td style=\"background:lightsteelblue;\">&nbsp;</td>\\n      <td>lightsteelblue</td>\\n      <td>#B0C4DE</td>\\n      <td>rgb(176,196,222)</td>\\n   </tr>\\n   <tr>\\n      <td>32</td>\\n      <td style=\"background:dodgerblue;\">&nbsp;</td>\\n      <td>dodgerblue</td>\\n      <td>#1E90FF</td>\\n      <td>rgb(30,144,255)</td>\\n   </tr>\\n</table>\\n   </body>\\n</html>'"
            ],
            "application/vnd.google.colaboratory.intrinsic+json": {
              "type": "string"
            }
          },
          "metadata": {},
          "execution_count": 105
        }
      ]
    },
    {
      "cell_type": "code",
      "source": [
        "soup =BeautifulSoup(data, \"html.parser\")"
      ],
      "metadata": {
        "id": "XKakvoHlt63c"
      },
      "execution_count": 106,
      "outputs": []
    },
    {
      "cell_type": "code",
      "source": [
        "table = soup.find(\"table\")\n",
        "table"
      ],
      "metadata": {
        "colab": {
          "base_uri": "https://localhost:8080/"
        },
        "id": "oSu1b-lot-y3",
        "outputId": "c010719c-f8c6-4aad-a2ab-89e8d4dca55c"
      },
      "execution_count": 108,
      "outputs": [
        {
          "output_type": "execute_result",
          "data": {
            "text/plain": [
              "<table border=\"1\" class=\"main-table\">\n",
              "<tr>\n",
              "<td>Number </td>\n",
              "<td>Color</td>\n",
              "<td>Color Name</td>\n",
              "<td>Hex Code<br/>#RRGGBB</td>\n",
              "<td>Decimal Code<br/>(R,G,B)</td>\n",
              "</tr>\n",
              "<tr>\n",
              "<td>1</td>\n",
              "<td style=\"background:lightsalmon;\"> </td>\n",
              "<td>lightsalmon</td>\n",
              "<td>#FFA07A</td>\n",
              "<td>rgb(255,160,122)</td>\n",
              "</tr>\n",
              "<tr>\n",
              "<td>2</td>\n",
              "<td style=\"background:salmon;\"> </td>\n",
              "<td>salmon</td>\n",
              "<td>#FA8072</td>\n",
              "<td>rgb(250,128,114)</td>\n",
              "</tr>\n",
              "<tr>\n",
              "<td>3</td>\n",
              "<td style=\"background:darksalmon;\"> </td>\n",
              "<td>darksalmon</td>\n",
              "<td>#E9967A</td>\n",
              "<td>rgb(233,150,122)</td>\n",
              "</tr>\n",
              "<tr>\n",
              "<td>4</td>\n",
              "<td style=\"background:lightcoral;\"> </td>\n",
              "<td>lightcoral</td>\n",
              "<td>#F08080</td>\n",
              "<td>rgb(240,128,128)</td>\n",
              "</tr>\n",
              "<tr>\n",
              "<td>5</td>\n",
              "<td style=\"background:coral;\"> </td>\n",
              "<td>coral</td>\n",
              "<td>#FF7F50</td>\n",
              "<td>rgb(255,127,80)</td>\n",
              "</tr>\n",
              "<tr>\n",
              "<td>6</td>\n",
              "<td style=\"background:tomato;\"> </td>\n",
              "<td>tomato</td>\n",
              "<td>#FF6347</td>\n",
              "<td>rgb(255,99,71)</td>\n",
              "</tr>\n",
              "<tr>\n",
              "<td>7</td>\n",
              "<td style=\"background:orangered;\"> </td>\n",
              "<td>orangered</td>\n",
              "<td>#FF4500</td>\n",
              "<td>rgb(255,69,0)</td>\n",
              "</tr>\n",
              "<tr>\n",
              "<td>8</td>\n",
              "<td style=\"background:gold;\"> </td>\n",
              "<td>gold</td>\n",
              "<td>#FFD700</td>\n",
              "<td>rgb(255,215,0)</td>\n",
              "</tr>\n",
              "<tr>\n",
              "<td>9</td>\n",
              "<td style=\"background:orange;\"> </td>\n",
              "<td>orange</td>\n",
              "<td>#FFA500</td>\n",
              "<td>rgb(255,165,0)</td>\n",
              "</tr>\n",
              "<tr>\n",
              "<td>10</td>\n",
              "<td style=\"background:darkorange;\"> </td>\n",
              "<td>darkorange</td>\n",
              "<td>#FF8C00</td>\n",
              "<td>rgb(255,140,0)</td>\n",
              "</tr>\n",
              "<tr>\n",
              "<td>11</td>\n",
              "<td style=\"background:lightyellow;\"> </td>\n",
              "<td>lightyellow</td>\n",
              "<td>#FFFFE0</td>\n",
              "<td>rgb(255,255,224)</td>\n",
              "</tr>\n",
              "<tr>\n",
              "<td>12</td>\n",
              "<td style=\"background:lemonchiffon;\"> </td>\n",
              "<td>lemonchiffon</td>\n",
              "<td>#FFFACD</td>\n",
              "<td>rgb(255,250,205)</td>\n",
              "</tr>\n",
              "<tr>\n",
              "<td>13</td>\n",
              "<td style=\"background:papayawhip;\"> </td>\n",
              "<td>papayawhip</td>\n",
              "<td>#FFEFD5</td>\n",
              "<td>rgb(255,239,213)</td>\n",
              "</tr>\n",
              "<tr>\n",
              "<td>14</td>\n",
              "<td style=\"background:moccasin;\"> </td>\n",
              "<td>moccasin</td>\n",
              "<td>#FFE4B5</td>\n",
              "<td>rgb(255,228,181)</td>\n",
              "</tr>\n",
              "<tr>\n",
              "<td>15</td>\n",
              "<td style=\"background:peachpuff;\"> </td>\n",
              "<td>peachpuff</td>\n",
              "<td>#FFDAB9</td>\n",
              "<td>rgb(255,218,185)</td>\n",
              "</tr>\n",
              "<tr>\n",
              "<td>16</td>\n",
              "<td style=\"background:palegoldenrod;\"> </td>\n",
              "<td>palegoldenrod</td>\n",
              "<td>#EEE8AA</td>\n",
              "<td>rgb(238,232,170)</td>\n",
              "</tr>\n",
              "<tr>\n",
              "<td>17</td>\n",
              "<td style=\"background:khaki;\"> </td>\n",
              "<td>khaki</td>\n",
              "<td>#F0E68C</td>\n",
              "<td>rgb(240,230,140)</td>\n",
              "</tr>\n",
              "<tr>\n",
              "<td>18</td>\n",
              "<td style=\"background:darkkhaki;\"> </td>\n",
              "<td>darkkhaki</td>\n",
              "<td>#BDB76B</td>\n",
              "<td>rgb(189,183,107)</td>\n",
              "</tr>\n",
              "<tr>\n",
              "<td>19</td>\n",
              "<td style=\"background:yellow;\"> </td>\n",
              "<td>yellow</td>\n",
              "<td>#FFFF00</td>\n",
              "<td>rgb(255,255,0)</td>\n",
              "</tr>\n",
              "<tr>\n",
              "<td>20</td>\n",
              "<td style=\"background:lawngreen;\"> </td>\n",
              "<td>lawngreen</td>\n",
              "<td>#7CFC00</td>\n",
              "<td>rgb(124,252,0)</td>\n",
              "</tr>\n",
              "<tr>\n",
              "<td>21</td>\n",
              "<td style=\"background:chartreuse;\"> </td>\n",
              "<td>chartreuse</td>\n",
              "<td>#7FFF00</td>\n",
              "<td>rgb(127,255,0)</td>\n",
              "</tr>\n",
              "<tr>\n",
              "<td>22</td>\n",
              "<td style=\"background:limegreen;\"> </td>\n",
              "<td>limegreen</td>\n",
              "<td>#32CD32</td>\n",
              "<td>rgb(50,205,50)</td>\n",
              "</tr>\n",
              "<tr>\n",
              "<td>23</td>\n",
              "<td style=\"background:lime;\"> </td>\n",
              "<td>lime</td>\n",
              "<td>#00FF00</td>\n",
              "<td>rgb(0.255.0)</td>\n",
              "</tr>\n",
              "<tr>\n",
              "<td>24</td>\n",
              "<td style=\"background:forestgreen;\"> </td>\n",
              "<td>forestgreen</td>\n",
              "<td>#228B22</td>\n",
              "<td>rgb(34,139,34)</td>\n",
              "</tr>\n",
              "<tr>\n",
              "<td>25</td>\n",
              "<td style=\"background:green;\"> </td>\n",
              "<td>green</td>\n",
              "<td>#008000</td>\n",
              "<td>rgb(0,128,0)</td>\n",
              "</tr>\n",
              "<tr>\n",
              "<td>26</td>\n",
              "<td style=\"background:powderblue;\"> </td>\n",
              "<td>powderblue</td>\n",
              "<td>#B0E0E6</td>\n",
              "<td>rgb(176,224,230)</td>\n",
              "</tr>\n",
              "<tr>\n",
              "<td>27</td>\n",
              "<td style=\"background:lightblue;\"> </td>\n",
              "<td>lightblue</td>\n",
              "<td>#ADD8E6</td>\n",
              "<td>rgb(173,216,230)</td>\n",
              "</tr>\n",
              "<tr>\n",
              "<td>28</td>\n",
              "<td style=\"background:lightskyblue;\"> </td>\n",
              "<td>lightskyblue</td>\n",
              "<td>#87CEFA</td>\n",
              "<td>rgb(135,206,250)</td>\n",
              "</tr>\n",
              "<tr>\n",
              "<td>29</td>\n",
              "<td style=\"background:skyblue;\"> </td>\n",
              "<td>skyblue</td>\n",
              "<td>#87CEEB</td>\n",
              "<td>rgb(135,206,235)</td>\n",
              "</tr>\n",
              "<tr>\n",
              "<td>30</td>\n",
              "<td style=\"background:deepskyblue;\"> </td>\n",
              "<td>deepskyblue</td>\n",
              "<td>#00BFFF</td>\n",
              "<td>rgb(0,191,255)</td>\n",
              "</tr>\n",
              "<tr>\n",
              "<td>31</td>\n",
              "<td style=\"background:lightsteelblue;\"> </td>\n",
              "<td>lightsteelblue</td>\n",
              "<td>#B0C4DE</td>\n",
              "<td>rgb(176,196,222)</td>\n",
              "</tr>\n",
              "<tr>\n",
              "<td>32</td>\n",
              "<td style=\"background:dodgerblue;\"> </td>\n",
              "<td>dodgerblue</td>\n",
              "<td>#1E90FF</td>\n",
              "<td>rgb(30,144,255)</td>\n",
              "</tr>\n",
              "</table>"
            ]
          },
          "metadata": {},
          "execution_count": 108
        }
      ]
    },
    {
      "cell_type": "code",
      "source": [],
      "metadata": {
        "id": "2IXTI0SQuDug"
      },
      "execution_count": null,
      "outputs": []
    }
  ]
}